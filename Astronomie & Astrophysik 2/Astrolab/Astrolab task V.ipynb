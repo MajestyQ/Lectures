{
 "cells": [
  {
   "cell_type": "code",
   "execution_count": 1,
   "metadata": {},
   "outputs": [],
   "source": [
    "#dertemination of the latitude of the HdA,Heidelberg using \n",
    "#a universal instrument on the sun\n",
    "\n",
    "#createde by \n",
    "\n",
    "#import packages\n",
    "%matplotlib inline\n",
    "import numpy as np\n",
    "import matplotlib.pyplot as plt\n",
    "from BREITENGRAD import *\n",
    "from numpy import cos"
   ]
  },
  {
   "cell_type": "code",
   "execution_count": 2,
   "metadata": {},
   "outputs": [
    {
     "name": "stdout",
     "output_type": "stream",
     "text": [
      "HH:MM:SS to HH\n",
      "[ 12.49027778  12.65805556  12.77833333  12.87444444  13.16527778  13.2675\n",
      "  13.46361111  13.57      ]\n",
      "\n",
      "A: [  56.58055556   56.81111111  303.93333333  303.48611111  304.19166667\n",
      "  303.64444444   55.925        56.56666667] °\n",
      "\n",
      "B: [ 236.57222222  236.8         123.93611111  123.48611111  124.19444444\n",
      "  123.63888889  235.92222222  236.56666667] °\n",
      "\n",
      "A in deg norm B:\n",
      "[ 236.58055556  236.81111111  123.93333333  123.48611111  124.19166667\n",
      "  123.64444444  235.925       236.56666667] °\n",
      "\n",
      "means\n",
      "[56.576388888888886, 56.805555555555543, 56.065277777777766, 56.513888888888872, 55.80694444444444, 56.35833333333332, 55.923611111111114, 56.566666666666663] °\n"
     ]
    }
   ],
   "source": [
    "#import data\n",
    "h = np.loadtxt(r'G:\\Users\\Thorben\\Uni\\Astro\\Astrophysik\\Daten_Sonne.txt', usecols=[0] )\n",
    "m = np.loadtxt(r'G:\\Users\\Thorben\\Uni\\Astro\\Astrophysik\\Daten_Sonne.txt', usecols=[1] )\n",
    "s = np.loadtxt(r'G:\\Users\\Thorben\\Uni\\Astro\\Astrophysik\\Daten_Sonne.txt', usecols=[2])\n",
    "\n",
    "d_a_ = np.loadtxt(r'G:\\Users\\Thorben\\Uni\\Astro\\Astrophysik\\Daten_Sonne.txt', usecols=[3] )\n",
    "a_m_a = np.loadtxt(r'G:\\Users\\Thorben\\Uni\\Astro\\Astrophysik\\Daten_Sonne.txt', usecols=[4] )\n",
    "a_s_a = np.loadtxt(r'G:\\Users\\Thorben\\Uni\\Astro\\Astrophysik\\Daten_Sonne.txt', usecols=[5])\n",
    "\n",
    "d_b_ = np.loadtxt(r'G:\\Users\\Thorben\\Uni\\Astro\\Astrophysik\\Daten_Sonne.txt', usecols=[6] )\n",
    "a_m_b = np.loadtxt(r'G:\\Users\\Thorben\\Uni\\Astro\\Astrophysik\\Daten_Sonne.txt', usecols=[7] )\n",
    "a_s_b = np.loadtxt(r'G:\\Users\\Thorben\\Uni\\Astro\\Astrophysik\\Daten_Sonne.txt', usecols=[8])\n",
    "\n",
    "#unit change\n",
    "hh = h+m/60+s/60/60\n",
    "\n",
    "d_a=d_a_+a_m_a/60+a_s_a/60/60\n",
    "\n",
    "d_b=d_b_+a_m_b/60+a_s_b/60/60\n",
    "\n",
    "\n",
    "print('HH:MM:SS to HH')\n",
    "print(hh)\n",
    "print()\n",
    "print('A:', d_a, '°')\n",
    "print()\n",
    "print('B:', d_b, '°')\n",
    "print()\n",
    "\n",
    "print('A in deg norm B:')\n",
    "d_a = (d_a+180)%360\n",
    "print(d_a, '°')\n",
    "print()\n",
    "\n",
    "#mean of A and B namend Z \n",
    "print('means')\n",
    "\n",
    "Z=[]\n",
    "cnt=0\n",
    "while cnt<8:\n",
    "    Z.append(np.abs(np.mean([d_a[cnt],d_b[cnt]])-180))\n",
    "    cnt=cnt=cnt+1\n",
    "print(Z, '°')"
   ]
  },
  {
   "cell_type": "code",
   "execution_count": 3,
   "metadata": {},
   "outputs": [
    {
     "name": "stdout",
     "output_type": "stream",
     "text": [
      "index measurement\n",
      "[ 271.875        88.14166667] °\n",
      "[  91.85833333  268.10833333] °\n",
      "\n",
      "mean left\n",
      "181.866666667 °\n",
      "mean right\n",
      "178.125 °\n",
      "\n",
      "index error\n",
      "-0.00416666666666 °\n",
      "-0.25 arcmin\n",
      "\n",
      "corrected values\n",
      "Z_1: [56.580555555555549, 56.809722222222206, 56.061111111111103, 56.509722222222209, 55.802777777777777, 56.354166666666657, 55.927777777777777, 56.570833333333326] °\n",
      "\n",
      "sun semi diameter: 0.26689722222222223 °\n",
      "\n",
      "sun centre\n",
      "Z_2: [56.847452777777768, 56.542824999999986, 56.328008333333322, 56.242824999999989, 56.069674999999997, 56.087269444444438, 56.194674999999997, 56.303936111111106] °\n"
     ]
    }
   ],
   "source": [
    "#calculation of index err\n",
    "#load data\n",
    "\n",
    "d_a_i_ = np.loadtxt(r'G:\\Users\\Thorben\\Uni\\Astro\\Astrophysik\\Index.txt', usecols=[0] )\n",
    "a_m_a_i = np.loadtxt(r'G:\\Users\\Thorben\\Uni\\Astro\\Astrophysik\\Index.txt', usecols=[1] )\n",
    "a_s_a_i = np.loadtxt(r'G:\\Users\\Thorben\\Uni\\Astro\\Astrophysik\\Index.txt', usecols=[2])\n",
    "\n",
    "d_b_i_ = np.loadtxt(r'G:\\Users\\Thorben\\Uni\\Astro\\Astrophysik\\Index.txt', usecols=[3] )\n",
    "a_m_b_i = np.loadtxt(r'G:\\Users\\Thorben\\Uni\\Astro\\Astrophysik\\Index.txt', usecols=[4])\n",
    "a_s_b_i = np.loadtxt(r'G:\\Users\\Thorben\\Uni\\Astro\\Astrophysik\\Index.txt', usecols=[5])\n",
    "\n",
    "#unit change\n",
    "d_a_i=d_a_i_+a_m_a_i/60+a_s_a_i/60/60\n",
    "\n",
    "d_b_i=d_b_i_+a_m_b_i/60+a_s_b_i/60/60\n",
    "\n",
    "print('index measurement')\n",
    "print(d_a_i, '°')\n",
    "print(d_b_i, '°')\n",
    "print()\n",
    "\n",
    "\n",
    "d_i_l = np.mean([d_a_i[0],d_b_i[0]])\n",
    "d_i_r = np.mean([d_a_i[1],d_b_i[1]])\n",
    "\n",
    "print('mean left')\n",
    "print(d_i_l, '°')\n",
    "print('mean right')\n",
    "print(d_i_r, '°')\n",
    "print()\n",
    "\n",
    "IF_d = 0.5*(d_i_l+d_i_r-360)\n",
    "IF_am = IF_d*60\n",
    "\n",
    "\n",
    "print('index error')\n",
    "print(IF_d , '°')\n",
    "print(IF_am , 'arcmin')\n",
    "print()\n",
    "\n",
    "\n",
    "\n",
    "#corrections by index err\n",
    "Z_1=[]\n",
    "cnt=0\n",
    "while cnt<8:\n",
    "    if 1<cnt<6:\n",
    "        Z_1.append(Z[cnt]+IF_d)\n",
    "    else:\n",
    "        Z_1.append(Z[cnt]-IF_d)\n",
    "    cnt=cnt+1\n",
    "\n",
    "print('corrected values')\n",
    "print('Z_1:', Z_1, '°')\n",
    "print()\n",
    "\n",
    "\n",
    "\n",
    "#reduction to centre of the sun\n",
    "sd=16/60+0.83/60/60\n",
    "print('sun semi diameter:', sd,'°')\n",
    "print()\n",
    "\n",
    "Z_2=[]\n",
    "cnt=0\n",
    "while cnt<8:\n",
    "    if cnt%2:\n",
    "        Z_2.append(Z_1[cnt]-sd)\n",
    "    else:\n",
    "        Z_2.append(Z_1[cnt]+sd)\n",
    "    cnt=cnt+1\n",
    "print('sun centre')\n",
    "print('Z_2:', Z_2, '°')"
   ]
  },
  {
   "cell_type": "code",
   "execution_count": 4,
   "metadata": {},
   "outputs": [
    {
     "data": {
      "text/plain": [
       "<matplotlib.legend.Legend at 0x1caef319208>"
      ]
     },
     "execution_count": 4,
     "metadata": {},
     "output_type": "execute_result"
    },
    {
     "data": {
      "image/png": "[encoded data removed]",
      "text/plain": [
       "<matplotlib.figure.Figure at 0x1caef319518>"
      ]
     },
     "metadata": {},
     "output_type": "display_data"
    }
   ],
   "source": [
    "#plotting course of the sun against the time\n",
    "plt.plot(hh, Z_2, color='darkred', label='$Z_2$')\n",
    "plt.title('$Z_2$ in dependance of hour angle')\n",
    "plt.ylabel('$Z_2$ [°]')\n",
    "plt.xlabel('hour angle [h]')\n",
    "plt.grid()\n",
    "plt.legend(frameon=True,fontsize='small', borderpad=1.5, borderaxespad=1.5,loc='best')"
   ]
  },
  {
   "cell_type": "code",
   "execution_count": 5,
   "metadata": {},
   "outputs": [
    {
     "name": "stdout",
     "output_type": "stream",
     "text": [
      "refraction: [ 1.39522622  1.37915486  1.36797637  1.36357843  1.35469887  1.35559751\n",
      "  1.36110113  1.36673155] °\n",
      "\n",
      "Z_3: [ 58.242679    57.92197986  57.6959847   57.60640343  57.42437387\n",
      "  57.44286695  57.55577613  57.67066767] °\n",
      "T: [ 1.28837056  1.45614833  1.57642611  1.67253722  1.96337056  2.06559278\n",
      "  2.26170389  2.36809278]\n",
      "cost= [ 0.27868613  0.114397   -0.00562975 -0.10156546 -0.38256808 -0.47485252\n",
      " -0.63723687 -0.71546989]\n",
      "dec= -6.53775\n",
      "a: [ 0.27687385  0.11365308 -0.00559314 -0.10090499 -0.38008026 -0.47176458\n",
      " -0.63309296 -0.71081723]\n",
      "b: -0.113857815684\n",
      "Z_4: [ 58.24060426  57.91991235  57.69392231  57.60434308  57.42231768\n",
      "  57.44081034  57.55371694  57.66860585]\n",
      "c= [ 0.52635336  0.53110414  0.53444201  0.53576279  0.53844259  0.53817059\n",
      "  0.53650866  0.53481541]\n",
      "a+c= [ 0.80322722  0.64475722  0.52884886  0.4348578   0.15836233  0.06640601\n",
      " -0.0965843  -0.17600181]\n",
      "x= [        nan         nan         nan         nan         nan         nan\n",
      " -2.49529796 -2.09094798]\n",
      "phi= [          nan           nan           nan           nan           nan\n",
      "           nan -136.32274114 -128.88089926] [°]\n",
      "Breitengrad= [-2147483648 -2147483648 -2147483648 -2147483648 -2147483648 -2147483648\n",
      "        -136        -128] ° [-2147483648 -2147483648 -2147483648 -2147483648 -2147483648 -2147483648\n",
      "           0           0] ' [             nan              nan              nan              nan\n",
      "              nan              nan  -1.49417193e-06  -4.07823730e-06] \"\n"
     ]
    },
    {
     "name": "stderr",
     "output_type": "stream",
     "text": [
      "C:\\Users\\Thorben\\Desktop\\BREITENGRAD.py:32: RuntimeWarning: invalid value encountered in sqrt\n",
      "  x=(b+np.sqrt(a**2+b**2-c**2))/(a+c)\n"
     ]
    },
    {
     "ename": "ValueError",
     "evalue": "cannot convert float NaN to integer",
     "output_type": "error",
     "traceback": [
      "\u001b[1;31m---------------------------------------------------------------------------\u001b[0m",
      "\u001b[1;31mValueError\u001b[0m                                Traceback (most recent call last)",
      "\u001b[1;32m<ipython-input-5-9965346df540>\u001b[0m in \u001b[0;36m<module>\u001b[1;34m()\u001b[0m\n\u001b[0;32m     17\u001b[0m \u001b[1;33m\u001b[0m\u001b[0m\n\u001b[0;32m     18\u001b[0m \u001b[1;33m\u001b[0m\u001b[0m\n\u001b[1;32m---> 19\u001b[1;33m \u001b[0mst\u001b[0m\u001b[1;33m(\u001b[0m\u001b[0mhh\u001b[0m\u001b[1;33m,\u001b[0m\u001b[0mZ_3\u001b[0m\u001b[1;33m)\u001b[0m\u001b[1;33m\u001b[0m\u001b[0m\n\u001b[0m\u001b[0;32m     20\u001b[0m \u001b[1;33m\u001b[0m\u001b[0m\n",
      "\u001b[1;32m~\\Desktop\\BREITENGRAD.py\u001b[0m in \u001b[0;36mst\u001b[1;34m(hh, Z_3)\u001b[0m\n\u001b[0;32m     42\u001b[0m \u001b[1;33m\u001b[0m\u001b[0m\n\u001b[0;32m     43\u001b[0m     \u001b[0mmitt\u001b[0m\u001b[1;33m=\u001b[0m\u001b[0mnp\u001b[0m\u001b[1;33m.\u001b[0m\u001b[0mmean\u001b[0m\u001b[1;33m(\u001b[0m\u001b[0mphi\u001b[0m\u001b[1;33m)\u001b[0m\u001b[1;33m\u001b[0m\u001b[0m\n\u001b[1;32m---> 44\u001b[1;33m     \u001b[0mgra2\u001b[0m\u001b[1;33m=\u001b[0m\u001b[0mint\u001b[0m\u001b[1;33m(\u001b[0m\u001b[0mmitt\u001b[0m\u001b[1;33m)\u001b[0m\u001b[1;33m\u001b[0m\u001b[0m\n\u001b[0m\u001b[0;32m     45\u001b[0m     \u001b[0mphiminfloat2\u001b[0m\u001b[1;33m=\u001b[0m\u001b[1;33m(\u001b[0m\u001b[0mmitt\u001b[0m\u001b[1;33m-\u001b[0m\u001b[0mgra2\u001b[0m\u001b[1;33m)\u001b[0m\u001b[1;33m/\u001b[0m\u001b[1;36m60\u001b[0m\u001b[1;33m\u001b[0m\u001b[0m\n\u001b[0;32m     46\u001b[0m     \u001b[0mminu2\u001b[0m\u001b[1;33m=\u001b[0m\u001b[0mint\u001b[0m\u001b[1;33m(\u001b[0m\u001b[0mphiminfloat2\u001b[0m\u001b[1;33m)\u001b[0m\u001b[1;33m\u001b[0m\u001b[0m\n",
      "\u001b[1;31mValueError\u001b[0m: cannot convert float NaN to integer"
     ]
    }
   ],
   "source": [
    "#correction for refraction\n",
    "\n",
    "T=273+15\n",
    "P=1018\n",
    "\n",
    "Z_2_rad=np.array(Z_2)*(1/180)*np.pi\n",
    "\n",
    "R=0.0045*P*np.tan(Z_2_rad)/T\n",
    "\n",
    "print('refraction:', R*180/np.pi, '°')\n",
    "print()\n",
    "\n",
    "Z_3=(Z_2_rad+R)*180/np.pi\n",
    "\n",
    "\n",
    "print('Z_3:', Z_3, '°')\n",
    "\n",
    "\n",
    "st(hh,Z_3)\n",
    "\n"
   ]
  },
  {
   "cell_type": "code",
   "execution_count": null,
   "metadata": {},
   "outputs": [],
   "source": [
    "\n",
    "# imp.import_module(BREITENGRAD)\n"
   ]
  }
 ],
 "metadata": {
  "kernelspec": {
   "display_name": "Python 3",
   "language": "python",
   "name": "python3"
  },
  "language_info": {
   "codemirror_mode": {
    "name": "ipython",
    "version": 3
   },
   "file_extension": ".py",
   "mimetype": "text/x-python",
   "name": "python",
   "nbconvert_exporter": "python",
   "pygments_lexer": "ipython3",
   "version": "3.6.3"
  }
 },
 "nbformat": 4,
 "nbformat_minor": 2
}
