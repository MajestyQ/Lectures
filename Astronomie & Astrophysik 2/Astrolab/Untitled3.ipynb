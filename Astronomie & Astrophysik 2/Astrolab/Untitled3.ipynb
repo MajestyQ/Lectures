{
 "cells": [
  {
   "cell_type": "code",
   "execution_count": null,
   "metadata": {
    "collapsed": true
   },
   "outputs": [],
   "source": [
    "#t=(np.array([12.49028,12.65806,12.77833,12.87444,13.16528,13.26750,13.46361,13.57000])-2) #[h]\n",
    "import numpy as np\n",
    "def st(hh,Z_3):\n",
    "    T=hh-(11+47/60+00.05/3600)+0.58144 #[h]\n",
    "    print('T:',T)\n",
    "    cost=np.cos(T)\n",
    "    print('cost=',cost)\n",
    "    dec=-(6+32/60+15.9/3600)\n",
    "    print('dec=',dec)\n",
    "    a=np.cos(dec*2*np.pi/360)*np.cos(T)\n",
    "    print('a:',a)\n",
    "    b=np.sin(dec*2*np.pi/360)\n",
    "    print('b:',b)\n",
    "\n",
    "    Z_3_1=Z_3*2*np.pi/360\n",
    "    Rs=149.6E9\n",
    "    Re=6371E3\n",
    "    P=np.arcsin(np.sin(Z_3_1)*Re/Rs)\n",
    "    Z_4=(Z_3_1-P) #[rad]\n",
    "    print('Z_4:',Z_4*360/(2*np.pi))\n",
    "    c=np.cos(Z_4)\n",
    "    print('c=',c)\n",
    "    e=a+c\n",
    "    print('a+c=',e)\n",
    "\n",
    "    x=(b+np.sqrt(a**2+b**2-c**2))/(a+c)\n",
    "    print('x=',x)\n",
    "    phi=np.arctan(x)*2*360/(2*np.pi) #grad\n",
    "    print('phi=',phi,'[°]')\n",
    "\n",
    "    gra=phi.astype(int)\n",
    "    phiminfloat=(phi-gra)/60\n",
    "    minu=phiminfloat.astype(int)\n",
    "    secfloat=(phiminfloat-minu)/3600\n",
    "    print('Breitengrad=',gra,'°',minu,\"'\",secfloat,'\"')\n",
    "\n",
    "    mitt=np.mean(phi)\n",
    "    gra2=int(mitt)\n",
    "    phiminfloat2=(mitt-gra2)/60\n",
    "    minu2=int(phiminfloat2)\n",
    "    secfloat2=(phiminfloat2-minu2)/3600\n",
    "    print('Breitengrad_mean=',gra2,'°',minu2,\"'\",secfloat2,'\"')"
   ]
  }
 ],
 "metadata": {
  "kernelspec": {
   "display_name": "Python 3",
   "language": "python",
   "name": "python3"
  },
  "language_info": {
   "codemirror_mode": {
    "name": "ipython",
    "version": 3
   },
   "file_extension": ".py",
   "mimetype": "text/x-python",
   "name": "python",
   "nbconvert_exporter": "python",
   "pygments_lexer": "ipython3",
   "version": "3.6.3"
  }
 },
 "nbformat": 4,
 "nbformat_minor": 2
}
