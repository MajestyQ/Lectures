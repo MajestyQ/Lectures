{
 "cells": [
  {
   "cell_type": "markdown",
   "metadata": {},
   "source": [
    "## Auswertung Versuch 232: Michelson-Interferometer "
   ]
  },
  {
   "cell_type": "markdown",
   "metadata": {},
   "source": [
    "### Teil 1: Bestimmung der Wellenlänge des Lasers"
   ]
  },
  {
   "cell_type": "code",
   "execution_count": 31,
   "metadata": {},
   "outputs": [
    {
     "name": "stdout",
     "output_type": "stream",
     "text": [
      "Messergebnisse für Lambda [m]:\n",
      "[  5.33718516e-07   5.31651253e-07   5.32307142e-07   5.27334648e-07\n",
      "   5.31633110e-07]\n",
      "[  2.99978167e-09   2.97617201e-09   2.96867142e-09   2.95508025e-09\n",
      "   2.96598659e-09]\n",
      "\n",
      "Mittelwert mit syst. und stat. Fehler:\n",
      "5.31328933482e-07 +/- 2.97317593359e-09 +/- 9.55358066625e-10 [m]\n"
     ]
    }
   ],
   "source": [
    "#Importieren der benötigten Pakete\n",
    "import matplotlib.pyplot as plt\n",
    "import matplotlib.mlab as mlab\n",
    "%matplotlib inline\n",
    "import numpy as np\n",
    "from scipy.optimize import curve_fit \n",
    "\n",
    "sa=1e-3*np.array([1.0175,0.6065,0.6580,0.7280,1.5495]) #Anfangsposition\n",
    "sa_err=0.007e-3*np.ones(5)\n",
    "se=1e-3*np.array([3.9735,3.5670,3.6320,3.6700,4.5200]) #Endposition\n",
    "se_err=0.007e-3*np.ones(5)\n",
    "\n",
    "m=np.array([11077,11137,11174,11158,11175]) #Anzahl Impulse\n",
    "m_err=50*np.ones(5)\n",
    "\n",
    "lam=2*(se-sa)/m #Wellenlänge\n",
    "lam_sys=(4/(m**2)*(sa_err**2+se_err**2)+(2*(se-sa)*m_err/(m**2))**2)**0.5  #Fehlerfortpflanzung\n",
    "\n",
    "lam_mean=np.mean(lam) #Mittelwertbilung \n",
    "lam_mean_sys=(np.sum(lam_sys**2)/len(lam_sys))**0.5 #syst. Fehler\n",
    "lam_mean_std=np.std(lam)/np.sqrt(len(lam)) #stat. Fehler\n",
    "\n",
    "print(\"Messergebnisse für Lambda [m]:\")\n",
    "print(lam)\n",
    "print(lam_sys)\n",
    "print()\n",
    "print(\"Mittelwert mit syst. und stat. Fehler:\")\n",
    "print(str(np.mean(lam))+ ' +/- ' + str(lam_mean_sys)+ ' +/- ' +str(lam_mean_std) +' [m]')\n",
    "\n",
    "lam_lit=532e-9 #Wert aus Anleitung\n",
    "lam_lit_err=1e-9"
   ]
  },
  {
   "cell_type": "code",
   "execution_count": 32,
   "metadata": {},
   "outputs": [
    {
     "name": "stdout",
     "output_type": "stream",
     "text": [
      "\n",
      "Differenz mit syst. Fehler: 6.71066518036e-10 +/- 3.13684158543e-09 [m]\n",
      "Differenz  mit stat. Fehler: 6.71066518036e-10 +/- 1.38300724346e-09 [m]\n"
     ]
    }
   ],
   "source": [
    "#Prüfe auf Signifikanz\n",
    "diff_1=np.abs(lam_mean-lam_lit)\n",
    "diff_1_err=(lam_mean_sys**2+lam_lit_err**2)**0.5\n",
    "\n",
    "diff_2=np.abs(lam_mean-lam_lit)\n",
    "diff_2_err=(lam_mean_std**2+lam_lit_err**2)**0.5\n",
    "\n",
    "print()\n",
    "print(\"Differenz mit syst. Fehler: \"+str(diff_1)+\" +/- \"+str(diff_1_err)+' [m]')\n",
    "print(\"Differenz  mit stat. Fehler: \"+str(diff_2)+\" +/- \"+str(diff_2_err)+' [m]')"
   ]
  },
  {
   "cell_type": "markdown",
   "metadata": {},
   "source": [
    "### Teil 2: Bestimmung des Brechungsindex von Luft"
   ]
  },
  {
   "cell_type": "code",
   "execution_count": 33,
   "metadata": {},
   "outputs": [
    {
     "name": "stdout",
     "output_type": "stream",
     "text": [
      "Brechungsindex erste Messung mit Fehler:\n",
      "1.0002917058 +/- 1.0756208396e-06\n",
      "Brechungsindex zweite Messung mit Fehler:\n",
      "1.00029986663 +/- 1.40953922362e-06\n",
      "Brechungsindex dritte Messung mit Fehler:\n",
      "1.00029243056 +/- 8.12903148649e-07\n",
      "\n",
      "Differenz erster Messwert mit Literaturwert:\n",
      "1.17058022207e-05 +/- 1.0756208396e-06 (10.8828332343)\n",
      "Differenz zweiter Messwert mit Literaturwert:\n",
      "1.986663413e-05 +/- 1.40953922362e-06 (14.0944173791)\n",
      "Differenz dritter Messwert mit Literaturwert:\n",
      "1.24305628835e-05 +/- 8.12903148649e-07 (15.2915669033)\n",
      "\n",
      "Mittelwert von n0 mit syst. & stat. Fehler:\n",
      "1.00029466767 +/- 1.12613979928e-06 +/- 2.12933315117e-06\n",
      "Differenz zwischen Mittelwert und Literaturwert:\n",
      "1.46676664114e-05 +/- 1.12613979928e-06 +/- 2.12933315117e-06\n"
     ]
    },
    {
     "data": {
      "image/png": "[encoded data removed]",
      "text/plain": [
       "<matplotlib.figure.Figure at 0x1eaf2753e80>"
      ]
     },
     "metadata": {},
     "output_type": "display_data"
    }
   ],
   "source": [
    "T_0=273.15\n",
    "p_0=760 #Normaldruck\n",
    "T=22.3+273.15 #Umrechnung in Kelvin\n",
    "T_err=0.1\n",
    "a=50e-3 #Innenmaß Küvette\n",
    "a_err=0.05e-3\n",
    "\n",
    "del_m=np.array([0,5,10,15,20,25,30,35,40,45,50])\n",
    "p_1=-1*np.array([745,670,595,520,445,370,295,220,145,65,0])\n",
    "p_2=-1*np.array([745,665,595,520,445,370,305,230,160,85,10])\n",
    "p_3=-1*np.array([745,670,595,520,445,370,295,220,145,70,0])\n",
    "\n",
    "p_1_err=5*np.ones(11)\n",
    "p_2_err=5*np.ones(11)\n",
    "p_3_err=5*np.ones(11)\n",
    "\n",
    "plt.xlabel(\"Druck $p$ [Torr]\",size=15)\n",
    "plt.ylabel(\"#Ringe $\\Delta m$\",size=15)\n",
    "plt.xlim(-800,50)\n",
    "plt.ylim(-5,55)\n",
    "plt.title(\"Diagramm 1: Anzahl der Ringe $\\Delta m$ für Druck $p$\", size=15)\n",
    "\n",
    "def linear(x,a,b):\n",
    "    return a*x+b\n",
    "\n",
    "popt_1,pcov_1=curve_fit(linear,p_1,del_m)\n",
    "popt_2,pcov_2=curve_fit(linear,p_2,del_m)\n",
    "popt_3,pcov_3=curve_fit(linear,p_3,del_m)\n",
    "\n",
    "plt.plot(p_1,linear(p_1,*popt_1),color=\"darkblue\",linestyle='--')\n",
    "plt.plot(p_2,linear(p_2,*popt_2),color=\"green\",linestyle='--')\n",
    "plt.plot(p_3,linear(p_3,*popt_3),color=\"red\")\n",
    "\n",
    "plt.errorbar(p_1,del_m,xerr=p_1_err,marker='.',color=\"darkblue\",linestyle='',label=\"Erste Messreihe\")\n",
    "plt.errorbar(p_2,del_m,xerr=p_2_err,marker='.',color=\"green\",linestyle='',label=\"Zweite Messreihe\")\n",
    "plt.errorbar(p_3,del_m,xerr=p_3_err,marker='x',color=\"red\",linestyle='',label=\"Dritte Messreihe\")\n",
    "plt.legend(frameon=True)\n",
    "\n",
    "plt.tight_layout()\n",
    "plt.savefig(r\"C:\\Users\\Quirinus\\Documents\\GitHub\\Praktikum\\Praktikum\\232 - Michelson Interferometer\\Diagramme\\Diagramm_01.pdf\", format='PDF')\n",
    "\n",
    "n_0_1=lam_lit*p_0*T/(2*a*T_0)*popt_1[0]+1\n",
    "n_0_2=lam_lit*p_0*T/(2*a*T_0)*popt_2[0]+1\n",
    "n_0_3=lam_lit*p_0*T/(2*a*T_0)*popt_3[0]+1\n",
    "\n",
    "popt_1_err=pcov_1[0,0]**0.5\n",
    "popt_2_err=pcov_2[0,0]**0.5\n",
    "popt_3_err=pcov_3[0,0]**0.5\n",
    "\n",
    "n_0_1_err=(n_0_1-1)*np.sqrt((lam_lit_err/lam_lit)**2+(a_err/a)**2+(T_err/T)**2+(popt_1_err/popt_1[0])**2)\n",
    "n_0_2_err=(n_0_2-1)*np.sqrt((lam_lit_err/lam_lit)**2+(a_err/a)**2+(T_err/T)**2+(popt_2_err/popt_2[0])**2)\n",
    "n_0_3_err=(n_0_3-1)*np.sqrt((lam_lit_err/lam_lit)**2+(a_err/a)**2+(T_err/T)**2+(popt_3_err/popt_3[0])**2)\n",
    "\n",
    "#Berechnung Mittelwert & dessen Fehler\n",
    "n0=np.array([n_0_1,n_0_2,n_0_3])\n",
    "n0_err=np.array([n_0_1_err,n_0_2_err,n_0_3_err])\n",
    "n0_mean=np.mean(n0)\n",
    "n0_mean_syst=(np.sum(n0_err**2)/len(n0_err))**0.5\n",
    "n0_mean_std=np.std(n0)/np.sqrt(len(n0))\n",
    "\n",
    "print(\"Brechungsindex erste Messung mit Fehler:\")\n",
    "print(str(n_0_1) + ' +/- ' + str(n_0_1_err))\n",
    "\n",
    "print(\"Brechungsindex zweite Messung mit Fehler:\")\n",
    "print(str(n_0_2) + ' +/- ' + str(n_0_2_err))\n",
    "\n",
    "print(\"Brechungsindex dritte Messung mit Fehler:\")\n",
    "print(str(n_0_3) + ' +/- ' + str(n_0_3_err))\n",
    "\n",
    "n_0_lit=1.00028 #Literaturwert\n",
    "\n",
    "diff_1=np.abs(n_0_1-n_0_lit)\n",
    "diff_2=np.abs(n_0_2-n_0_lit)\n",
    "diff_3=np.abs(n_0_3-n_0_lit)\n",
    "#gesuchte Differenz\n",
    "diff_mean=np.abs(n0_mean-n_0_lit)\n",
    "\n",
    "print()\n",
    "print(\"Differenz erster Messwert mit Literaturwert:\")\n",
    "print(str(diff_1)+\" +/- \"+str(n_0_1_err)+\" (\"+str(diff_1/n_0_1_err)+\")\")\n",
    "print(\"Differenz zweiter Messwert mit Literaturwert:\")\n",
    "print(str(diff_2)+\" +/- \"+str(n_0_2_err)+\" (\"+str(diff_2/n_0_2_err)+\")\")\n",
    "print(\"Differenz dritter Messwert mit Literaturwert:\")\n",
    "print(str(diff_3)+\" +/- \"+str(n_0_3_err)+\" (\"+str(diff_3/n_0_3_err)+\")\")\n",
    "\n",
    "print()\n",
    "print(\"Mittelwert von n0 mit syst. & stat. Fehler:\")\n",
    "print(str(n0_mean)+ ' +/- '+ str(n0_mean_syst)+ ' +/- '+str(n0_mean_std))\n",
    "print(\"Differenz zwischen Mittelwert und Literaturwert:\")\n",
    "print(str(diff_mean)+ ' +/- '+str(n0_mean_syst)+ ' +/- '+str(n0_mean_std))"
   ]
  },
  {
   "cell_type": "markdown",
   "metadata": {},
   "source": [
    "### Teil 3: Messung der Kohärenzlänge einer Leuchtdiode"
   ]
  },
  {
   "cell_type": "code",
   "execution_count": 34,
   "metadata": {
    "collapsed": true
   },
   "outputs": [],
   "source": [
    "from scipy.signal import argrelextrema \n",
    "from scipy import signal \n",
    "\n",
    "#Auslesen der Messdaten \n",
    "data = np.genfromtxt (r'Interferenz_Daten.csv', delimiter = \",\",  \n",
    "                      skip_header =2, skip_footer =0, usecols = (0, 1)) \n",
    "x1 = data[0:, 0] \n",
    "y1 = data[0:, 1]    \n",
    "    \n",
    "#Um 0.02 sehr starkes \"Rauschen\" der Messwerte, deshalb werden diese Werte beim fitten der Gaußkurve ignoriert. \n",
    "mask1 = (y1>-0.002) \n",
    " \n",
    "y2 = y1[mask1] \n",
    "x2 = x1[mask1] \n",
    " \n",
    "#Bestimmung der lokalen Maxima \n",
    "mask2 = argrelextrema(y2, np.greater_equal, order = 1) \n",
    "y3 = y2[mask2] \n",
    "x3 = x2[mask2] \n",
    "\n",
    "#Fitten der Gaußkurve \n",
    "def gaussian(x, mu, sigma, A):  \n",
    "    return A / (sigma * np.sqrt(2 * np.pi)) * np.exp(-(x - mu)**2 / sigma**2 / 2) \n",
    "p = [0.01, 0.01, 0.01] \n",
    "popt, pcov = curve_fit(gaussian, x3, y3, p0 = p) "
   ]
  },
  {
   "cell_type": "code",
   "execution_count": 35,
   "metadata": {},
   "outputs": [
    {
     "name": "stdout",
     "output_type": "stream",
     "text": [
      "Die Halbwertsbreite beträgt:\n",
      "0.0349433661189 +/- 7.9509729811e-05 [s]\n",
      "\n",
      "Die Kohärenzlänge entspricht der Halbwertsbreite, umgerechnet in Längeneinheiten:\n",
      "3.49433661189e-06 +/- 7.9509729811e-09 [m]\n"
     ]
    },
    {
     "data": {
      "image/png": "[encoded data removed]",
      "text/plain": [
       "<matplotlib.figure.Figure at 0x1eaf25676d8>"
      ]
     },
     "metadata": {},
     "output_type": "display_data"
    }
   ],
   "source": [
    "#Plotten der Messdaten \n",
    "plt.plot(x1, y1, linewidth = 0.1, color = 'k', linestyle = '--') \n",
    "\n",
    " \n",
    "#Plotten des Fits \n",
    "x = np.linspace(x1[0],x1[-1], 1000) \n",
    "plt.plot(x, gaussian(x, *popt), 'r-', linewidth = 1) \n",
    "plt.legend(['Messwerte', 'Gauß-Fit'],frameon=True) \n",
    "plt.xlabel(r'Verfahrdauer [$s$]',size=15) \n",
    "plt.ylabel('Intensität',size=15) \n",
    "plt.title('Diagramm 2: Gauß-Fit der Messwerte', size=15) \n",
    "plt.xlim(-0.03,0.1)\n",
    "\n",
    "#Berechnung & Plot der Halbwertsbreite\n",
    "x_hwb=np.linspace(popt[0]-popt[1]*np.sqrt(2 * np.log(2)),popt[0]+popt[1]*np.sqrt(2 * np.log(2)),100)\n",
    "y_hwb=0.5*gaussian(popt[0],*popt)*np.ones(100)\n",
    "\n",
    "plt.plot(x_hwb,y_hwb,color='darkblue') \n",
    "plt.annotate(r'Halbwertsbreite',\n",
    "             xy=(0.025,y_hwb[0]), xycoords='data',\n",
    "             xytext=(-120, 25), textcoords='offset points', fontsize=12,\n",
    "             arrowprops=dict(arrowstyle=\"->\", connectionstyle=\"arc3, rad=-.2\"))\n",
    "\n",
    "#Markierung der Halbwertsbreite\n",
    "hwb_marker=0.007\n",
    "plt.errorbar(x_hwb[0],y_hwb[0],yerr=hwb_marker,color='darkblue')\n",
    "plt.errorbar(x_hwb[-1],y_hwb[0],yerr=hwb_marker,color='darkblue')\n",
    "\n",
    "#Allgemeine Berechung für die HWB einer Gaußkurve \n",
    "halb=2*popt[1]*np.sqrt(2 * np.log(2))\n",
    "halb_err=2*(pcov[1,1]**0.5)*np.sqrt(2 * np.log(2))\n",
    "print(\"Die Halbwertsbreite beträgt:\")\n",
    "print(str(halb) + ' +/- ' + str(halb_err) + ' [s]')\n",
    "\n",
    "#Umrechnung von Zeit in Länge -> Kohärenzlänge\n",
    "\n",
    "v_verfahr=0.1e-3 #gemäß Anleitung \n",
    "\n",
    "koh=halb*v_verfahr\n",
    "koh_err=halb_err*v_verfahr\n",
    "\n",
    "print()\n",
    "print(\"Die Kohärenzlänge entspricht der Halbwertsbreite, umgerechnet in Längeneinheiten:\")\n",
    "print(str(koh)+ ' +/- '  + str(koh_err) + ' [m]')\n",
    "\n",
    "\n",
    "#speichern des Graphen \n",
    "plt.tight_layout()\n",
    "plt.savefig('Diagramme/V232Diagramm2.pdf', format='PDF')"
   ]
  },
  {
   "cell_type": "code",
   "execution_count": null,
   "metadata": {
    "collapsed": true
   },
   "outputs": [],
   "source": []
  }
 ],
 "metadata": {
  "kernelspec": {
   "display_name": "Python 3",
   "language": "python",
   "name": "python3"
  },
  "language_info": {
   "codemirror_mode": {
    "name": "ipython",
    "version": 3
   },
   "file_extension": ".py",
   "mimetype": "text/x-python",
   "name": "python",
   "nbconvert_exporter": "python",
   "pygments_lexer": "ipython3",
   "version": "3.6.2"
  }
 },
 "nbformat": 4,
 "nbformat_minor": 1
}
