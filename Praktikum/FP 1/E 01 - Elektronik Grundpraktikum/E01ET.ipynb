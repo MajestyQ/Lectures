{
 "cells": [
  {
   "cell_type": "code",
   "execution_count": 1,
   "metadata": {
    "collapsed": true
   },
   "outputs": [],
   "source": [
    "#import modules\n",
    "import numpy as np\n",
    "import matplotlib.pyplot as plt\n",
    "from scipy.optimize import curve_fit"
   ]
  },
  {
   "cell_type": "code",
   "execution_count": 2,
   "metadata": {},
   "outputs": [
    {
     "data": {
      "image/png": "[encoded data removed]",
      "text/plain": [
       "<matplotlib.figure.Figure at 0x282740bbba8>"
      ]
     },
     "metadata": {},
     "output_type": "display_data"
    }
   ],
   "source": [
    "#frequency response\n",
    "#ermitter circuit\n",
    "\n",
    "#data\n",
    "\n",
    "nu = np.array([40, 50, 60, 70, 80, 90, 100, 110, 120, 200, 300, 400, 500, 1000, 2000, 3000, 4000, 5000, 10000, 20000, 30000, 40000, 50000, 100000, 200000, 300000, 400000, 500000, 600000, 700000, 800000, 900000, 1000000])\n",
    "nu_err= 0.00001*nu\n",
    "\n",
    "#U_in = np.array([112, 112, 112, 112, 112, 112, 112, 112, 112, 112, 112, 112, 112, 112, 112, 112, 112, 112, 112, 112, 112, 112, 112, 112, 112, 112, 112, 112, 112, 112, 112, 112, 112])\n",
    "U_in_err = np.array([1.39, 1.49, 1.23, 1.36, 1.50, 1.43, 1.40, 1.34, 1.28, 1.51, 1.41, 1.15, 1.56, 1.20, 1.36, 1.57, 1.24, 1.28, 1.65, 1.35, 1.58, 1.21, 1.71, 1.17, 1.36, 1.20, 1.22, 1.41, 1.41, 1.66, 1.73, 1.28, 1.20])\n",
    "\n",
    "U_out = np.array([1.59, 1.70, 1.80, 1.84, 1.87, 1.90, 1.95, 1.96, 1.96, 2.01, 2.01, 2.02, 2.02, 2.02, 2.02, 2.01, 2.02, 2.01, 2.02, 2.01, 2.04, 2.03, 2.02, 1.93, 1.63, 1.34, 1.12, 0.961, 0.779, 0.688, 0.615, 0.558, 0.508])\n",
    "U_out_err = np.array([13.8, 13.9, 7.36, 10.4, 8.76, 12.2, 44.0, 10.7, 8.15, 9.45, 10.2, 7.63, 11.4, 9.77, 10.6, 9.80, 10.9, 10.4, 9.20, 10.6, 19.5, 16.9, 11.1, 10.9, 15.4, 11.5, 10.3, 10.7, 4.77, 4.76, 4.95, 5.70, 4.79])\n",
    "\n",
    "\n",
    "V_U = U_out/(112*10**-3)\n",
    "V_U_err = np.sqrt((U_out_err/112)**2+((U_in_err*10**-3)*U_out/(112*10**-3)**2)**2)\n",
    "\n",
    "         \n",
    "#plot\n",
    "plt.figure('frqres')\n",
    "plt.xscale('log')\n",
    "plt.yscale('log')\n",
    "plt.xlabel('Frequenz [Hz]')\n",
    "plt.ylabel('Verstärkungsfaktor')\n",
    "plt.title(r'Verstärkungfaktor in Abhängigkeit der Frequenz')\n",
    "(_, caps, _) = plt.errorbar(nu, V_U, xerr=nu_err, yerr=V_U_err, fmt='x', linestyle='none', elinewidth=0.5, markersize=3, mew=0.5, capsize=2, label='Messwert')\n",
    "for cap in caps:\n",
    "    cap.set_markeredgewidth(0.1)\n",
    "plt.legend(loc='best')\n",
    "plt.savefig(r'G:\\Users\\Thorben\\Uni\\GitHub\\Universe\\Praktikum\\FP 1\\E 01_06_07_08_09 - Elektronik Grundpraktikum/frqres.ermit.ET.pdf', Format='pdf')\n",
    "plt.show()"
   ]
  }
 ],
 "metadata": {
  "kernelspec": {
   "display_name": "Python 3",
   "language": "python",
   "name": "python3"
  },
  "language_info": {
   "codemirror_mode": {
    "name": "ipython",
    "version": 3
   },
   "file_extension": ".py",
   "mimetype": "text/x-python",
   "name": "python",
   "nbconvert_exporter": "python",
   "pygments_lexer": "ipython3",
   "version": "3.6.3"
  }
 },
 "nbformat": 4,
 "nbformat_minor": 2
}
