{
 "cells": [
  {
   "cell_type": "code",
   "execution_count": null,
   "metadata": {},
   "outputs": [],
   "source": [
    "# importiere Bibliotheken\n",
    "import matplotlib.pyplot as plt\n",
    "import numpy as np\n",
    "# Kommazahlen mit , ausgeben (statt .)\n",
    "def comma_to_float (valstr):\n",
    "    return float (valstr.decode(\"utf-8\").replace(',','.'))\n",
    "\n",
    "# Importiere Daten\n",
    "# Ohne Fenster \n",
    "lamb_og, inten_og = np.loadtxt(r\"C:\\Users\\Quirinus\\Documents\\GitHub\\Praktikum\\Praktikum\\234 - Lichtquellen\\Lichtquellen Spektrum\\ohne fenster.txt\" , \n",
    "                               skiprows =17 , converters = { 0 :comma_to_float, 1 :comma_to_float}, \n",
    "                               comments = '>',unpack=True)\n",
    "# Mit Fenster\n",
    "lamb_mg, inten_mg = np.loadtxt(r\"C:\\Users\\Quirinus\\Documents\\GitHub\\Praktikum\\Praktikum\\234 - Lichtquellen\\Lichtquellen Spektrum\\durch fenster.txt\" , \n",
    "                               skiprows =17 , converters = { 0 :comma_to_float, 1 :comma_to_float}, \n",
    "                               comments = '>',unpack=True)\n",
    "\n",
    "\n",
    "# Plot für ohne Fenster\n",
    "plt.figure(figsize=(15,10))\n",
    "plt.plot(lamb_og, inten_og, label = 'ohne Fenster' )\n",
    "# Plot für mit Fenster\n",
    "plt.plot(lamb_mg, inten_mg, label = 'mit Fenster' )\n",
    "\n",
    "plt.title( 'Gemessenes Sonnenspektrum mit und ohne Fenster' )\n",
    "plt.xlabel( 'Wellenlaenge / nm' )\n",
    "plt.ylabel( 'Intensitaet / b.E.' )\n",
    "plt.legend()\n",
    "plt.grid() \n",
    "# Werte- / Definitionsbereich\n",
    "plt.ylim(( 0 , 35000 ))\n",
    "plt.xlim(( 250 , 900))\n",
    "# Speichern\n",
    "plt.savefig(r\"C:\\Users\\Quirinus\\Documents\\GitHub\\Praktikum\\Praktikum\\234 - Lichtquellen\\Sonnenspektrum.pdf\")\n"
   ]
  },
  {
   "cell_type": "code",
   "execution_count": null,
   "metadata": {
    "scrolled": true
   },
   "outputs": [],
   "source": [
    "# Berechnung der Absorption von Glas\n",
    "# Werte die gleich Null sind werden übersprungen\n",
    "A =1- inten_mg[inten_og>0] / inten_og[inten_og>0]\n",
    "#Hier wird der zweite Plot initialisiert\n",
    "plt.plot(lamb_mg[inten_og>0], A, linewidth = 0.5) \n",
    "plt.title( 'Absorption von Glas' ) \n",
    "plt.xlabel( 'Wellenlaenge / nm' ) \n",
    "plt.ylabel( 'Absorption / b.E.' )\n",
    "plt.ylim(( 0 , 1))\n",
    "plt.xlim(( 320 , 800 )) \n",
    "#datei speichern\n",
    "plt.savefig(r\"C:\\Users\\Quirinus\\Documents\\GitHub\\Praktikum\\Praktikum\\234 - Lichtquellen\\Absorption_Glas.pdf\")"
   ]
  },
  {
   "cell_type": "code",
   "execution_count": 13,
   "metadata": {
    "scrolled": true
   },
   "outputs": [],
   "source": [
    "#plot zur Bestimmung der Frauenhoferlinien\n",
    "plt.figure(figsize=(15,10))\n",
    "plt.plot(lamb_og, inten_og, linewidth = 0.5)\n",
    "plt.title('Sonnenspektrum')\n",
    "plt.xlabel('Wellenlänge /nm')\n",
    "plt.ylabel('Intensität / b.E.')\n",
    "plt.ylim((0, 35000))\n",
    "plt.xlim((350, 800))\n",
    "plt.savefig(r\"C:\\Users\\Quirinus\\Documents\\GitHub\\Praktikum\\Praktikum\\234 - Lichtquellen\\Frauenhoferlinien.pdf\")"
   ]
  },
  {
   "cell_type": "code",
   "execution_count": 14,
   "metadata": {
    "scrolled": true
   },
   "outputs": [],
   "source": [
    "#Natrimspektum bei hoher Intensität (gesamt)\n",
    "lamb_og, inten_og = np.loadtxt(r\"C:\\Users\\Quirinus\\Documents\\GitHub\\Praktikum\\Praktikum\\234 - Lichtquellen\\Lichtquellen Spektrum\\natrium klein.txt\" , \n",
    "                               skiprows =17 , converters = { 0 :comma_to_float, 1 :comma_to_float}, comments = '>' , \n",
    "                               unpack = True)                           \n",
    "plt.figure(figsize=(15,10))\n",
    "plt.plot(lamb_og, inten_og) \n",
    "plt.title( 'Spektrallinien hoher Intensität bei der Natriummessung' ) \n",
    "plt.xlabel( 'Wellenlaenge / nm' )\n",
    "plt.ylabel( 'Intensitaet / b.E.' ) \n",
    "plt.yscale( 'log' ) \n",
    "plt.ylim(( 100 , 70000 )) \n",
    "plt.xlim(( 300 , 850 ))\n",
    "plt.savefig(r\"C:\\Users\\Quirinus\\Documents\\GitHub\\Praktikum\\Praktikum\\234 - Lichtquellen\\Natrium_hoch.pdf\", \n",
    "            format = \"pdf\")"
   ]
  },
  {
   "cell_type": "code",
   "execution_count": 15,
   "metadata": {},
   "outputs": [],
   "source": [
    "#Natriumspektrum, hoher Intensität (300nm - 540nm)\n",
    "\n",
    "lamb_og, inten_og = np.loadtxt(r\"C:\\Users\\Quirinus\\Documents\\GitHub\\Praktikum\\Praktikum\\234 - Lichtquellen\\Lichtquellen Spektrum\\natrium klein.txt\", \n",
    "                               skiprows =17 , converters = { 0 :comma_to_float, 1 :comma_to_float}, \n",
    "                               comments = '>' , unpack = True)                           \n",
    "plt.figure(figsize=(15,10))\n",
    "plt.plot(lamb_og, inten_og) \n",
    "plt.title( 'Natriumspektrum hoher Intensitaet' ) \n",
    "plt.xlabel( 'Wellenlaenge / nm' )\n",
    "plt.ylabel( 'Intensitaet / b.E.' ) \n",
    "plt.yscale( 'log' ) \n",
    "plt.ylim(( 100 , 30000 )) \n",
    "plt.xlim(( 300 , 540 ))\n",
    "plt.savefig(r\"C:\\Users\\Quirinus\\Documents\\GitHub\\Praktikum\\Praktikum\\234 - Lichtquellen\\Natrium_hart_kleineWellen.pdf\", \n",
    "            format = \"pdf\" )"
   ]
  },
  {
   "cell_type": "code",
   "execution_count": 16,
   "metadata": {},
   "outputs": [],
   "source": [
    "#Natriumspektrum, hoher Intensität (600nm - 850nm)\n",
    "\n",
    "\n",
    "lamb_og, inten_og = np.loadtxt(r\"C:\\Users\\Quirinus\\Documents\\GitHub\\Praktikum\\Praktikum\\234 - Lichtquellen\\Lichtquellen Spektrum\\natrium klein.txt\", \n",
    "                               skiprows =17 , converters = { 0 :comma_to_float, 1 :comma_to_float}, \n",
    "                               comments = '>' , unpack = True)                           \n",
    "plt.figure(figsize=(15,10))\n",
    "plt.plot(lamb_og, inten_og) \n",
    "plt.title( 'Natriumspektrum hoher Intensitaet' ) \n",
    "plt.xlabel( 'Wellenlaenge / nm' )\n",
    "plt.ylabel( 'Intensitaet / b.E.' ) \n",
    "plt.yscale( 'log' ) \n",
    "plt.ylim(( 100 , 70000 )) \n",
    "plt.xlim(( 600 , 850 ))\n",
    "plt.savefig(r\"C:\\Users\\Quirinus\\Documents\\GitHub\\Praktikum\\Praktikum\\234 - Lichtquellen\\Natrium_hart_großeWellen.pdf\", \n",
    "            format = \"pdf\" )"
   ]
  },
  {
   "cell_type": "code",
   "execution_count": 17,
   "metadata": {},
   "outputs": [],
   "source": [
    "#Natriumspektrum, hohe Intensität\n",
    "\n",
    "lamb_og, inten_og = np.loadtxt(r\"C:\\Users\\Quirinus\\Documents\\GitHub\\Praktikum\\Praktikum\\234 - Lichtquellen\\Lichtquellen Spektrum\\natrium groß.txt\", \n",
    "                               skiprows =17 , converters = { 0 :comma_to_float, 1 :comma_to_float}, \n",
    "                               comments = '>' , unpack = True)                           \n",
    "plt.figure(figsize=(15,10))\n",
    "plt.plot(lamb_og, inten_og) \n",
    "plt.title( 'Natriumspektrum geriner Intensitaet' ) \n",
    "plt.xlabel( 'Wellenlaenge / nm' )\n",
    "plt.ylabel( 'Intensitaet / b.E.' ) \n",
    "plt.yscale( 'log' ) \n",
    "plt.ylim(( 10 , 90000 )) \n",
    "plt.xlim(( 350 , 800 ))\n",
    "plt.savefig(r\"C:\\Users\\Quirinus\\Documents\\GitHub\\Praktikum\\Praktikum\\234 - Lichtquellen\\Natrium_gering.pdf\", \n",
    "            format = \"pdf\" )"
   ]
  },
  {
   "cell_type": "code",
   "execution_count": 18,
   "metadata": {},
   "outputs": [
    {
     "name": "stdout",
     "output_type": "stream",
     "text": [
      "m= 3, lambda= 819.3, deltaLambda=0.8\n",
      "m= 4, lambda= 570.1, deltaLambda=0.4\n",
      "m= 5, lambda= 499.8, deltaLambda=0.3\n",
      "m= 6, lambda= 468.4, deltaLambda=0.2\n",
      "m= 7, lambda= 451.3, deltaLambda=0.2\n",
      "m= 8, lambda= 440.8, deltaLambda=0.2\n",
      "m= 9, lambda= 433.9, deltaLambda=0.2\n",
      "m=10, lambda= 429.2, deltaLambda=0.2\n",
      "m=11, lambda= 425.7, deltaLambda=0.2\n",
      "m=12, lambda= 423.1, deltaLambda=0.2\n"
     ]
    }
   ],
   "source": [
    "#Erwartete Linien für die 1. Nebenserie\n",
    "for m in range (3,13):\n",
    "    l=1.2398E3/(-13.605/(m)**2+3.025)\n",
    "    d=(1.2398E3/((-13.605/(m)**2+3.025))**2*0.0014)\n",
    "    print('m={m:2d}, lambda={l:6.1f}, deltaLambda={d:1.1f}'.format(m=m,l=l,d=d))"
   ]
  },
  {
   "cell_type": "code",
   "execution_count": 19,
   "metadata": {},
   "outputs": [
    {
     "name": "stdout",
     "output_type": "stream",
     "text": [
      "m= 4, lambda=1171.7, deltaLambda=1.8\n",
      "m= 5, lambda= 622.2, deltaLambda=0.5\n",
      "m= 6, lambda= 518.7, deltaLambda=0.3\n",
      "m= 7, lambda= 477.6, deltaLambda=0.3\n",
      "m= 8, lambda= 456.6, deltaLambda=0.2\n",
      "m= 9, lambda= 444.2, deltaLambda=0.2\n"
     ]
    }
   ],
   "source": [
    "#Erwartete Linien für die 2. Nebenserie\n",
    "for m in range (4,10):\n",
    "    l=1.2398E3/(-13.605/(m-1.37)**2+3.025)\n",
    "    d=((33735/((m-1.37)**3*(3.025-(13.605/(1.37-m)**2))**2)*0.0006)**2+\n",
    "       (1.2398E3/((-13.605/(m-1.37)**2+3.025))**2*0.0014)**2)**(1/2)\n",
    "    print('m={m:2d}, lambda={l:6.1f}, deltaLambda={d:1.1f}'.format(m=m,l=l,d=d))"
   ]
  },
  {
   "cell_type": "code",
   "execution_count": 20,
   "metadata": {},
   "outputs": [
    {
     "name": "stdout",
     "output_type": "stream",
     "text": [
      "m= 4, lambda= 332.1, deltaLambda=0.6\n",
      "m= 5, lambda= 286.4, deltaLambda=0.2\n"
     ]
    }
   ],
   "source": [
    "#Erwartete Linien für die Hauptserie\n",
    "for m in range (4,6):\n",
    "    l=1.2398E3/(-13.605/(m-0.8792)**2+5.13)\n",
    "    d=((33735/((m-1.37)**3*(3.025-(13.605/(0.8792-m)**2))**2)*0.0009)**2+\n",
    "       (1.2398E3/((-13.605/(m-0.8792)**2+5.13))**2*0.0017)**2)**(1/2)\n",
    "    print('m={m:2d}, lambda={l:6.1f}, deltaLambda={d:1.1f}'.format(m=m,l=l,d=d))"
   ]
  },
  {
   "cell_type": "code",
   "execution_count": 21,
   "metadata": {},
   "outputs": [
    {
     "name": "stdout",
     "output_type": "stream",
     "text": [
      "E_Ry= -13.2125823756 ,Standardfehler= 0.255571640643\n",
      "E_3p= -3.02487449916 ,Standardfehler= 0.00469692388246\n",
      "D_d= 0.0442102837285 ,Standardfehler= 0.0253541724774\n"
     ]
    }
   ],
   "source": [
    "#Bestimmung der Serienenergien und der l-Abhängigen Korrekturfaktoren\n",
    "wellenl=np.array([819.4, 568.9, 498.4, 467.1, 433.9])\n",
    "fehler=np.array([1.1, 0.4, 0.4, 0.3, 0.4])\n",
    "quantenz=np.array([3, 4, 5, 6, 9])\n",
    "\n",
    "plt.figure(figsize=(15,10))\n",
    "plt.errorbar(quantenz,wellenl,fehler, fmt=\".\")\n",
    "plt.xlabel('Quantenzahl')\n",
    "plt.ylabel('Wellenlänge/nm')\n",
    "plt.title('1. Nebenserie des Na-Atoms')\n",
    "\n",
    "from scipy.optimize import curve_fit\n",
    "def fit_func1(m,E_Ry,E_3p,D_d):\n",
    "    return 1.2398E3/(E_Ry/(m-D_d)**2-E_3p)\n",
    "\n",
    "para = [-13.6,-3,0.02]\n",
    "popt, pcov = curve_fit(fit_func1, quantenz, wellenl, sigma=fehler ,p0=para)\n",
    "\n",
    "x = np.linspace(2.8, 12.2, 100)\n",
    "plt.plot(x, fit_func1(x, *popt))\n",
    "plt.savefig(r\"C:\\Users\\Quirinus\\Documents\\GitHub\\Praktikum\\Praktikum\\234 - Lichtquellen\\Korrekturfaktoren1.pdf\")\n",
    "\n",
    "print(\"E_Ry=\",popt[0], \",Standardfehler=\", np.sqrt(pcov[0][0]))\n",
    "print(\"E_3p=\",popt[1], \",Standardfehler=\", np.sqrt(pcov[1][1]))\n",
    "print(\"D_d=\",popt[2], \",Standardfehler=\", np.sqrt(pcov[2][2]))\n"
   ]
  },
  {
   "cell_type": "code",
   "execution_count": 22,
   "metadata": {},
   "outputs": [
    {
     "name": "stdout",
     "output_type": "stream",
     "text": [
      "chi2= 3.13711095333\n",
      "chi2_red= 1.56855547666\n"
     ]
    }
   ],
   "source": [
    "chi2_=np.sum((fit_func1(quantenz,*popt)-wellenl)**2/fehler**2)\n",
    "dof=len(quantenz)-3 #dof:degreesof freedom, Freheitsgrad\n",
    "chi2_red=chi2_/dof\n",
    "print(\"chi2=\", chi2_)\n",
    "print(\"chi2_red=\",chi2_red)"
   ]
  },
  {
   "cell_type": "code",
   "execution_count": 23,
   "metadata": {},
   "outputs": [
    {
     "name": "stdout",
     "output_type": "stream",
     "text": [
      "Wahrscheinlichkeit: 21.0 %\n"
     ]
    }
   ],
   "source": [
    "from scipy.stats import chi2\n",
    "prob=round(1-chi2.cdf(chi2_,dof),2)*100\n",
    "print(\"Wahrscheinlichkeit:\", prob,\"%\")"
   ]
  },
  {
   "cell_type": "code",
   "execution_count": 24,
   "metadata": {},
   "outputs": [
    {
     "name": "stdout",
     "output_type": "stream",
     "text": [
      "E_Ry= -10.1118008691 ,Standardfehler= inf\n",
      "E_3p= -2.98700465279 ,Standardfehler= inf\n",
      "D_d= 1.83161992457 ,Standardfehler= inf\n"
     ]
    },
    {
     "name": "stderr",
     "output_type": "stream",
     "text": [
      "C:\\Program Files (x86)\\Microsoft Visual Studio\\Shared\\Anaconda3_64\\lib\\site-packages\\scipy\\optimize\\minpack.py:779: OptimizeWarning: Covariance of the parameters could not be estimated\n",
      "  category=OptimizeWarning)\n"
     ]
    }
   ],
   "source": [
    "#Bestimmung der Serienenergien und der l-Abhängigen Korrekturfaktoren\n",
    "wellen2=np.array([515.5, 475.3, 455.6])\n",
    "fehler=np.array([0.4, 0.3, 0.3])\n",
    "quantenz=np.array([6, 7, 8])\n",
    "\n",
    "plt.figure(figsize=(15,10))\n",
    "plt.errorbar(quantenz,wellen2,fehler, fmt=\".\")\n",
    "plt.xlabel('Quantenzahl')\n",
    "plt.ylabel('Wellenlänge/nm')\n",
    "plt.title('2. Nebenserie des Na-Atoms')\n",
    "\n",
    "from scipy.optimize import curve_fit\n",
    "def fit_func2(m,E_Ry,E_3p,D_s):\n",
    "    return 1.2398E3/(E_Ry/(m-D_s)**2-E_3p)\n",
    "\n",
    "para = [-13.6,-3,1.4]\n",
    "popt, pcov = curve_fit(fit_func2, quantenz, wellen2, sigma=fehler ,p0=para)\n",
    "\n",
    "x = np.linspace(4.2, 9, 100)\n",
    "plt.plot(x, fit_func2(x, *popt))\n",
    "plt.savefig(r\"C:\\Users\\Quirinus\\Documents\\GitHub\\Praktikum\\Praktikum\\234 - Lichtquellen\\Korrekturfaktoren2.pdf\")\n",
    "\n",
    "print(\"E_Ry=\",popt[0], \",Standardfehler=\", np.sqrt(pcov[0][0]))\n",
    "print(\"E_3p=\",popt[1], \",Standardfehler=\", np.sqrt(pcov[1][1]))\n",
    "print(\"D_d=\",popt[2], \",Standardfehler=\", np.sqrt(pcov[2][2]))"
   ]
  },
  {
   "cell_type": "code",
   "execution_count": null,
   "metadata": {},
   "outputs": [],
   "source": []
  },
  {
   "cell_type": "code",
   "execution_count": null,
   "metadata": {
    "collapsed": true
   },
   "outputs": [],
   "source": []
  },
  {
   "cell_type": "code",
   "execution_count": null,
   "metadata": {
    "collapsed": true
   },
   "outputs": [],
   "source": []
  },
  {
   "cell_type": "code",
   "execution_count": null,
   "metadata": {
    "collapsed": true
   },
   "outputs": [],
   "source": []
  }
 ],
 "metadata": {
  "kernelspec": {
   "display_name": "Python 3",
   "language": "python",
   "name": "python3"
  }
 },
 "nbformat": 4,
 "nbformat_minor": 1
}
