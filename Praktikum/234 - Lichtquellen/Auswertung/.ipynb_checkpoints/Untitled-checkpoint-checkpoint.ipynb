{
 "cells": [
  {
   "cell_type": "code",
   "execution_count": null,
   "metadata": {
    "collapsed": true
   },
   "outputs": [],
   "source": [
    "%matplotlib inline\n",
    "import matplotlib.pyplot as plt\n",
    "import numpy as np\n",
    "def comma_to_float(valstr):\n",
    "    return float(valstr.decode(\"utf-8\").replace(',','.'))\n",
    "lamb_og, inten_og=np.loadtxt('data/wolkenspektrumglaslos.txt', skiprows=17, converters= {0:comma_to_float, 1:comma_to_float}, comments='>', unpack=True)\n",
    "lamb_og, inten_og=np.loadtxt('data/wolkenspektrumglas.txt', skiprows=17, converters= {0:comma_to_float, 1:comma_to_float}, comments='>', unpack=True)\n",
    "\n",
    "plt.plot(lamb_og, inten_og, label='Fensterlos')\n",
    "plt.plot(lamb_og, inten_og, label='Mit Fenster')\n",
    "plt.title('Gemessenes Sonnenspektrum mit und ohne Fenster')\n",
    "plt.xlabel('Wellenlaenge/nm')\n",
    "plt.ylabel('Intensitaet/b.E.')\n",
    "plt.legend()\n",
    "plt.grid()\n",
    "plt.ylim((0,65000))\n",
    "plt.xlim((200,900))\n",
    "plt.savefig(\"figures/Wolken_m_o_G.pdf\", format=\"pdf\")\n",
    "\n"
   ]
  }
 ],
 "metadata": {
  "kernelspec": {
   "display_name": "Python 3",
   "language": "python",
   "name": "python3"
  },
  "language_info": {
   "codemirror_mode": {
    "name": "ipython",
    "version": 3
   },
   "file_extension": ".py",
   "mimetype": "text/x-python",
   "name": "python",
   "nbconvert_exporter": "python",
   "pygments_lexer": "ipython3",
   "version": "3.4.4"
  }
 },
 "nbformat": 4,
 "nbformat_minor": 1
}
