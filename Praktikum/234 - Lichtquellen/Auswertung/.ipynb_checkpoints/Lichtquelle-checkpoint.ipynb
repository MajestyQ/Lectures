{
 "cells": [
  {
   "cell_type": "code",
   "execution_count": 1,
   "metadata": {
    "collapsed": false
   },
   "outputs": [
    {
     "ename": "FileNotFoundError",
     "evalue": "[Errno 2] No such file or directory: ''",
     "output_type": "error",
     "traceback": [
      "\u001b[0;31m---------------------------------------------------------------------------\u001b[0m",
      "\u001b[0;31mFileNotFoundError\u001b[0m                         Traceback (most recent call last)",
      "\u001b[0;32m<ipython-input-1-0099c1408f60>\u001b[0m in \u001b[0;36m<module>\u001b[0;34m()\u001b[0m\n\u001b[1;32m      6\u001b[0m     \u001b[1;32mreturn\u001b[0m \u001b[0mfloat\u001b[0m\u001b[1;33m(\u001b[0m\u001b[0mvalstr\u001b[0m\u001b[1;33m.\u001b[0m\u001b[0mdecode\u001b[0m\u001b[1;33m(\u001b[0m\u001b[1;34m\"utf-8\"\u001b[0m\u001b[1;33m)\u001b[0m\u001b[1;33m.\u001b[0m\u001b[0mreplace\u001b[0m\u001b[1;33m(\u001b[0m\u001b[1;34m','\u001b[0m\u001b[1;33m,\u001b[0m\u001b[1;34m'.'\u001b[0m\u001b[1;33m)\u001b[0m\u001b[1;33m)\u001b[0m\u001b[1;33m\u001b[0m\u001b[0m\n\u001b[1;32m      7\u001b[0m \u001b[1;33m\u001b[0m\u001b[0m\n\u001b[0;32m----> 8\u001b[0;31m \u001b[0mlamb_og\u001b[0m\u001b[1;33m,\u001b[0m \u001b[0minten_og\u001b[0m \u001b[1;33m=\u001b[0m \u001b[0mnp\u001b[0m\u001b[1;33m.\u001b[0m\u001b[0mloadtxt\u001b[0m\u001b[1;33m(\u001b[0m\u001b[1;34m''\u001b[0m\u001b[1;33m,\u001b[0m \u001b[0mskiprows\u001b[0m \u001b[1;33m=\u001b[0m \u001b[1;36m17\u001b[0m\u001b[1;33m,\u001b[0m \u001b[0mconverters\u001b[0m \u001b[1;33m=\u001b[0m\u001b[1;33m{\u001b[0m\u001b[1;36m0\u001b[0m\u001b[1;33m:\u001b[0m\u001b[0mcomma_to_float\u001b[0m\u001b[1;33m,\u001b[0m \u001b[1;36m1\u001b[0m\u001b[1;33m:\u001b[0m\u001b[0mcomma_to_float\u001b[0m\u001b[1;33m}\u001b[0m\u001b[1;33m,\u001b[0m \u001b[0mcomments\u001b[0m\u001b[1;33m=\u001b[0m\u001b[1;34m'>'\u001b[0m\u001b[1;33m,\u001b[0m \u001b[0munpack\u001b[0m\u001b[1;33m=\u001b[0m\u001b[1;34m\"True\"\u001b[0m\u001b[1;33m)\u001b[0m\u001b[1;33m\u001b[0m\u001b[0m\n\u001b[0m\u001b[1;32m      9\u001b[0m \u001b[1;33m\u001b[0m\u001b[0m\n\u001b[1;32m     10\u001b[0m \u001b[0mlamb_og\u001b[0m\u001b[1;33m,\u001b[0m \u001b[0minten_og\u001b[0m \u001b[1;33m=\u001b[0m \u001b[0mnp\u001b[0m\u001b[1;33m.\u001b[0m\u001b[0mloadtxt\u001b[0m\u001b[1;33m(\u001b[0m\u001b[1;34m''\u001b[0m\u001b[1;33m,\u001b[0m \u001b[0mskiprows\u001b[0m \u001b[1;33m=\u001b[0m \u001b[1;36m17\u001b[0m\u001b[1;33m,\u001b[0m \u001b[0mconverters\u001b[0m \u001b[1;33m=\u001b[0m\u001b[1;33m{\u001b[0m\u001b[1;36m0\u001b[0m\u001b[1;33m:\u001b[0m\u001b[0mcomma_to_float\u001b[0m\u001b[1;33m,\u001b[0m \u001b[1;36m1\u001b[0m\u001b[1;33m:\u001b[0m\u001b[0mcomme_to_float\u001b[0m\u001b[1;33m}\u001b[0m\u001b[1;33m,\u001b[0m \u001b[0mcomments\u001b[0m\u001b[1;33m=\u001b[0m\u001b[1;34m'>'\u001b[0m\u001b[1;33m,\u001b[0m \u001b[0munpack\u001b[0m\u001b[1;33m=\u001b[0m\u001b[1;34m\"True\"\u001b[0m\u001b[1;33m)\u001b[0m\u001b[1;33m\u001b[0m\u001b[0m\n",
      "\u001b[0;32mF:\\WinPython-64bit-3.4.4.4Qt5\\python-3.4.4.amd64\\lib\\site-packages\\numpy\\lib\\npyio.py\u001b[0m in \u001b[0;36mloadtxt\u001b[0;34m(fname, dtype, comments, delimiter, converters, skiprows, usecols, unpack, ndmin)\u001b[0m\n\u001b[1;32m    803\u001b[0m                 \u001b[0mfh\u001b[0m \u001b[1;33m=\u001b[0m \u001b[0miter\u001b[0m\u001b[1;33m(\u001b[0m\u001b[0mopen\u001b[0m\u001b[1;33m(\u001b[0m\u001b[0mfname\u001b[0m\u001b[1;33m,\u001b[0m \u001b[1;34m'U'\u001b[0m\u001b[1;33m)\u001b[0m\u001b[1;33m)\u001b[0m\u001b[1;33m\u001b[0m\u001b[0m\n\u001b[1;32m    804\u001b[0m             \u001b[1;32melse\u001b[0m\u001b[1;33m:\u001b[0m\u001b[1;33m\u001b[0m\u001b[0m\n\u001b[0;32m--> 805\u001b[0;31m                 \u001b[0mfh\u001b[0m \u001b[1;33m=\u001b[0m \u001b[0miter\u001b[0m\u001b[1;33m(\u001b[0m\u001b[0mopen\u001b[0m\u001b[1;33m(\u001b[0m\u001b[0mfname\u001b[0m\u001b[1;33m)\u001b[0m\u001b[1;33m)\u001b[0m\u001b[1;33m\u001b[0m\u001b[0m\n\u001b[0m\u001b[1;32m    806\u001b[0m         \u001b[1;32melse\u001b[0m\u001b[1;33m:\u001b[0m\u001b[1;33m\u001b[0m\u001b[0m\n\u001b[1;32m    807\u001b[0m             \u001b[0mfh\u001b[0m \u001b[1;33m=\u001b[0m \u001b[0miter\u001b[0m\u001b[1;33m(\u001b[0m\u001b[0mfname\u001b[0m\u001b[1;33m)\u001b[0m\u001b[1;33m\u001b[0m\u001b[0m\n",
      "\u001b[0;31mFileNotFoundError\u001b[0m: [Errno 2] No such file or directory: ''"
     ]
    }
   ],
   "source": [
    "%matplotlib inline\n",
    "import numpy as np\n",
    "import matplotlib.pyplot as plt\n",
    "\n",
    "def comma_to_float(valstr):\n",
    "    return float(valstr.decode(\"utf-8\").replace(',','.'))\n",
    "\n",
    "lamb_og, inten_og = np.loadtxt('', skiprows = 17, converters ={0:comma_to_float, 1:comma_to_float}, comments='>', unpack=\"True\")\n",
    "\n",
    "lamb_og, inten_og = np.loadtxt('', skiprows = 17, converters ={0:comma_to_float, 1:comme_to_float}, comments='>', unpack=\"True\")\n",
    "\n",
    "plt.plot(lamb_og, inten_og, label='ohne Fenster')\n",
    "plt.plot(lamb_mg, inten_mg, label='mit Fenster')\n",
    "plt.title(\"Gemessenes Sonnenspektrum mit und ohne Fenster\")\n",
    "plt.xlabel(\"Wellenlänge/nm\")\n",
    "plt.ylabel(\"Intensitaet/b.E\")\n",
    "plt.legend()\n",
    "plt.grid()\n",
    "plt.ylim(0,60000)\n",
    "plt.xlim(250, 900)\n",
    "plt.savefig(\"Himmel_m_o_g.pdf\", format=\"PDF\")\n",
    "\n"
   ]
  },
  {
   "cell_type": "code",
   "execution_count": null,
   "metadata": {
    "collapsed": true
   },
   "outputs": [],
   "source": []
  },
  {
   "cell_type": "code",
   "execution_count": null,
   "metadata": {
    "collapsed": true
   },
   "outputs": [],
   "source": [
    "A = 1-inten_mg/inten_og\n",
    "\n",
    "plt.plot(lamb_mg, A)\n",
    "plt.title(\"Absorption von Glas\")\n",
    "plt.xlabel(\"Wellenlänge/nm\")\n",
    "plt.ylabel(\"Absorption/b.E\")\n",
    "plt.ylim(0,1)\n",
    "plt.xlim(320,800)\n",
    "plt.savefig(Absorption_Glas.pdf, format=\"PDF\")"
   ]
  },
  {
   "cell_type": "code",
   "execution_count": null,
   "metadata": {
    "collapsed": true
   },
   "outputs": [],
   "source": [
    "%matplotlib qt\n",
    "plt.plot(lamb_og, inten_og)\n",
    "plt.title(\"Sonnenspektrum\")\n",
    "plt.xlabel(\"Wellenlänge/nm\")\n",
    "plt.ylabel(\"Intensitaet/b.E\")\n",
    "plt.ylim(0, 60000)\n",
    "plt.xlim(350,800)\n",
    "plt.savefig(\"Frauenhofer.pdf\", format =\"PDF\")"
   ]
  },
  {
   "cell_type": "code",
   "execution_count": 8,
   "metadata": {
    "collapsed": false
   },
   "outputs": [
    {
     "data": {
      "text/plain": [
       "(350, 800)"
      ]
     },
     "execution_count": 8,
     "metadata": {},
     "output_type": "execute_result"
    },
    {
     "data": {
      "image/png": "[encoded data removed]",
      "text/plain": [
       "<matplotlib.figure.Figure at 0x5d6b5f8>"
      ]
     },
     "metadata": {},
     "output_type": "display_data"
    }
   ],
   "source": [
    "lamb_og, inten_og = np.loadtxt(r'C:\\Users\\Praktikum-Pc1\\Desktop\\ni na.txt', skiprows=17, converters={0:comma_to_float, 1:comma_to_float}, comments='>', unpack=\"True\")\n",
    "\n",
    "plt.plot(lamb_og, inten_og)\n",
    "plt.title(\"Natriumspektrum niedriger Intensitaet\")\n",
    "plt.xlabel(\"Wellenlänge/nm\")\n",
    "plt.ylabel(\"Intensitaet /b.E\")\n",
    "plt.yscale('log')\n",
    "plt.ylim(0,60000)\n",
    "plt.xlim(350,800)\n"
   ]
  },
  {
   "cell_type": "code",
   "execution_count": null,
   "metadata": {
    "collapsed": true
   },
   "outputs": [],
   "source": [
    "for m in range(3,13):\n",
    "    l=1.2398E3/(-13.605/m**2-E_3p)\n",
    "    print(\"m={m:2d}, lambda={1:6.2f}\".format(m=m.1=1))"
   ]
  },
  {
   "cell_type": "code",
   "execution_count": null,
   "metadata": {
    "collapsed": true
   },
   "outputs": [],
   "source": [
    "wellenl=np.array([])\n",
    "fehler=np.array([])\n",
    "quantenz =np.arange(3,13)\n",
    "\n",
    "plt.errorbar(quantenz, wellenl, fehler, fmt=\".\")\n",
    "plt.xlabel(\"Quantenzahl\")\n",
    "plt.ylabel(\"Wellenlaenge/nm\")\n",
    "plt.title(\"1. Nebenserie des Na Atoms\")\n",
    "\n",
    "from scipy.optimize import curve_fit\n",
    "\n",
    "def fit_func(m,E_Ry,E_3p,D_d):\n",
    "    return 1.2398E3/(E_Ry/(m-D_d)**2-E_3p)\n",
    "\n",
    "para=[-13, 6, -3, -0.02]\n",
    "popt, pcov = curve_fit(fit_func, quantenz, wellenl, sigma=fehler, p0=para)\n",
    "\n",
    "print(\"E_Ry =\", popt[0], \", Standardfehler=\", np.sqrt(pcov[0][0]))\n",
    "print(\"E_3p =\", popt[1], \", Standardfehler=\", np.sqrt(pcov[1][1]))\n",
    "print(\"D_d=\", popt[2], \", Standardfehler=\", np.sqrt(pcov[2][2]))\n",
    "\n",
    "chi2_=np.sum((fit_func(quantenz,*popt)-wellenl)**2/fehler**2)\n",
    "dof=len(quantenz)-3\n",
    "chi2_red=chi2_/dof\n",
    "print(\"chi2=\", chi2_)\n",
    "print(\"chi2_red=\", chi2_red)\n",
    "\n",
    "from scipy.stats import chi2\n",
    "\n",
    "prob=round(1-chi2.cdf(chi2_,dof),2)*100\n",
    "print(\"Wahrscheinlichkeit:\", prob, \"%\")\n",
    "\n",
    "plt.errorbar(quantenz, wellenl, fehler, fmt=\".\")\n",
    "plt.xlabel(\"Quantenzahl\")\n",
    "plt.ylabel(\"Wellenlaenge/nm\")\n",
    "plt.title(\"1. Nebenserie des Na Atoms\")\n",
    "x=np.linspace(2.8, 12.2, 100)\n",
    "plt.plot(x, fit_func(x, *popt))\n",
    "plt.savefig(\"1_Nebenserie.pdf\", format=\"PDF\")      "
   ]
  }
 ],
 "metadata": {
  "kernelspec": {
   "display_name": "Python 3",
   "language": "python",
   "name": "python3"
  },
  "language_info": {
   "codemirror_mode": {
    "name": "ipython",
    "version": 3
   },
   "file_extension": ".py",
   "mimetype": "text/x-python",
   "name": "python",
   "nbconvert_exporter": "python",
   "pygments_lexer": "ipython3",
   "version": "3.4.4"
  }
 },
 "nbformat": 4,
 "nbformat_minor": 1
}
