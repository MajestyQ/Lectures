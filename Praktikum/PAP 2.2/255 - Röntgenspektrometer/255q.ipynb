{
 "cells": [
  {
   "cell_type": "markdown",
   "metadata": {},
   "source": [
    "# Röntgenspektrum"
   ]
  },
  {
   "cell_type": "code",
   "execution_count": 1,
   "metadata": {
    "collapsed": true
   },
   "outputs": [],
   "source": [
    "#import modules\n",
    "import numpy as np\n",
    "from scipy.optimize import curve_fit\n",
    "import matplotlib.pyplot as plt\n",
    "from scipy.stats import chi2\n",
    "\n",
    "plt.style.use('seaborn-white')\n",
    "plt.rcParams['errorbar.capsize']=2\n",
    "%matplotlib inline"
   ]
  },
  {
   "cell_type": "code",
   "execution_count": 2,
   "metadata": {
    "collapsed": true
   },
   "outputs": [],
   "source": [
    "#converter\n",
    "def string2float (valstr):\n",
    "    return float (valstr.decode(\"utf-8\").replace(',','.'))\n",
    "\n",
    "#fit functions\n",
    "#linear function\n",
    "def linear(x, a, c):\n",
    "    return x*a+c\n",
    "#gausssian function\n",
    "def gaussian(x, A, mu, sig, y0):\n",
    "    return y0 + (A*np.exp(-(x-mu)**2/(2*sig**2)))\n",
    "#function to approximate the data and to take the inconstant underground into account\n",
    "def overkill(x, a, c, A1, mu1, sig1, A2, mu2, sig2):\n",
    "    return linear(x, a, c)+gaussian(x, A1, mu1, sig1, 0)+gaussian(x, A2, mu2, sig2, 0)"
   ]
  },
  {
   "cell_type": "markdown",
   "metadata": {},
   "source": [
    "## Abschätzen der Planckschen Konstante"
   ]
  },
  {
   "cell_type": "code",
   "execution_count": 3,
   "metadata": {},
   "outputs": [
    {
     "data": {
      "text/plain": [
       "Text(0,0.5,'Intensität [1/s]')"
      ]
     },
     "execution_count": 3,
     "metadata": {},
     "output_type": "execute_result"
    },
    {
     "data": {
      "image/png": "[encoded data removed]",
      "text/plain": [
       "<matplotlib.figure.Figure at 0x1f64d0037b8>"
      ]
     },
     "metadata": {},
     "output_type": "display_data"
    }
   ],
   "source": [
    "#load data\n",
    "angle, inten= np.loadtxt('Daten/01_03_2018 09_38_46.txt',\n",
    "                         skiprows=0,\n",
    "                         converters={0:string2float, 1:string2float},\n",
    "                         unpack=True)\n",
    "inten_err = np.sqrt(inten/5)\n",
    "angle_err = 0.05\n",
    "\n",
    "#plot data\n",
    "plt.figure('data, total')\n",
    "plt.errorbar(angle, inten, inten_err, angle_err, linestyle = 'None')\n",
    "plt.title('Röntgespektrum')\n",
    "plt.xlabel('Winkel [°]')\n",
    "plt.ylabel('Intensität [1/s]')"
   ]
  },
  {
   "cell_type": "code",
   "execution_count": 4,
   "metadata": {},
   "outputs": [
    {
     "name": "stdout",
     "output_type": "stream",
     "text": [
      "Untergrund:\n",
      "Steigung = 8.7e+00 +- 1.6e+00\n",
      "y_Achse = -3e+00 +- 6e+00\n",
      "Linearer Anstieg:\n",
      "Steigung = 6.13e+02 +- 2.1e+01\n",
      "y_Achse = -2.97e+03 +- 1.1e+02\n"
     ]
    }
   ],
   "source": [
    "#fit underground\n",
    "maskPlanck1 = (angle<5)\n",
    "anglePlanck1 = angle[maskPlanck1]\n",
    "intPlanck1 = inten[maskPlanck1]\n",
    "intPlanck1_err = inten_err[maskPlanck1]\n",
    "popt1, pcov1 = curve_fit(linear, anglePlanck1, intPlanck1, sigma = intPlanck1_err)\n",
    "perr1 = np.sqrt(np.diag(pcov1))\n",
    "print('Untergrund:')\n",
    "print('Steigung = %.1e +- %.1e'%(popt1[0], perr1[0]))\n",
    "print('y_Achse = %.0e +- %.0e'%(popt1[1], perr1[1]))\n",
    "\n",
    "#fit start\n",
    "maskPlanck2 = [(angle>=5)&(angle<5.7)]\n",
    "anglePlanck2 = angle[maskPlanck2]\n",
    "intPlanck2 = inten[maskPlanck2]\n",
    "intPlanck2_err = inten_err[maskPlanck2]\n",
    "popt2, pcov2 = curve_fit(linear, anglePlanck2, intPlanck2, sigma = intPlanck2_err)\n",
    "perr2 = np.sqrt(np.diag(pcov2))\n",
    "print('Linearer Anstieg:')\n",
    "print('Steigung = %.2e +- %.1e'%(popt2[0], perr2[0]))\n",
    "print('y_Achse = %.2e +- %.1e'%(popt2[1], perr2[1]))\n"
   ]
  },
  {
   "cell_type": "code",
   "execution_count": 5,
   "metadata": {},
   "outputs": [
    {
     "data": {
      "image/png": "[encoded data removed]",
      "text/plain": [
       "<matplotlib.figure.Figure at 0x1f65a978978>"
      ]
     },
     "metadata": {},
     "output_type": "display_data"
    }
   ],
   "source": [
    "#plot fit\n",
    "x = np.linspace(angle[0], 5.8, 300)\n",
    "plt.figure('planck')\n",
    "plt.ylim(0, 750)\n",
    "plt.errorbar(anglePlanck1, intPlanck1, intPlanck1_err, angle_err, linestyle = 'None', label='Untergrund, Messwerte')\n",
    "plt.plot(x, linear(x, *popt1), marker='', label = 'Untergrund, Fit')\n",
    "plt.errorbar(anglePlanck2, intPlanck2, intPlanck2_err, angle_err, linestyle = 'None', label='Linearer Anstieg, Messwerte')\n",
    "plt.plot(x, linear(x, *popt2), marker='', label = 'Linearer Anstieg, Fit')\n",
    "plt.title('Planksches Wirkungsquantum')\n",
    "plt.xlabel('Winkel [°]')\n",
    "plt.ylabel('Intensität [1/s]')\n",
    "plt.savefig('Diagramme/Planck1.pdf')"
   ]
  },
  {
   "cell_type": "code",
   "execution_count": 6,
   "metadata": {},
   "outputs": [
    {
     "name": "stdout",
     "output_type": "stream",
     "text": [
      "Güte des Fits (Untergrund):\n",
      "Chi^2 = 29.5664487573\n",
      "Chi^2 reduziert = 3.69580609466\n",
      "Fitwahrscheinlichkeit = 0.0 %\n",
      "\n",
      "Güte des Fits (linearer Ansieg):\n",
      "Chi^2 = 4.13741390927\n",
      "Chi^2 reduziert = 2.06870695464\n",
      "Fitwahrscheinlichkeit = 13.0 %\n"
     ]
    }
   ],
   "source": [
    "#fit quality underground\n",
    "print('Güte des Fits (Untergrund):')\n",
    "chisquare=np.sum(((linear(anglePlanck1,*popt1)-intPlanck1)**2/intPlanck1_err))\n",
    "dof=intPlanck1.size-len(popt1)\n",
    "chisquare_red=chisquare/dof\n",
    "prob=round(1-chi2.cdf(chisquare,dof),2)*100\n",
    "print('Chi^2 =', chisquare)\n",
    "print('Chi^2 reduziert =', chisquare_red)\n",
    "print('Fitwahrscheinlichkeit =', prob, '%')\n",
    "print()\n",
    "\n",
    "#fit quality linear increas\n",
    "print('Güte des Fits (linearer Ansieg):')\n",
    "chisquare=np.sum(((linear(anglePlanck2,*popt2)-intPlanck2)**2/intPlanck2_err**2))\n",
    "dof=intPlanck2.size-len(popt2)\n",
    "chisquare_red=chisquare/dof\n",
    "prob=round(1-chi2.cdf(chisquare,dof),2)*100\n",
    "print('Chi^2 =', chisquare)\n",
    "print('Chi^2 reduziert =', chisquare_red)\n",
    "print('Fitwahrscheinlichkeit =', prob, '%')"
   ]
  },
  {
   "cell_type": "markdown",
   "metadata": {},
   "source": [
    "## K-alpha und K-beta Peaks im LiF Kristall"
   ]
  },
  {
   "cell_type": "markdown",
   "metadata": {},
   "source": [
    "### 1. Ordnung"
   ]
  },
  {
   "cell_type": "code",
   "execution_count": 7,
   "metadata": {
    "collapsed": true
   },
   "outputs": [],
   "source": [
    "#load data, first order\n",
    "angleD, intD= np.loadtxt('Daten/01_03_2018 09_55_32.txt',\n",
    "                         skiprows=0,\n",
    "                         converters={0:string2float, 1:string2float},\n",
    "                         unpack=True)\n",
    "intD_err = np.sqrt(intD/20)"
   ]
  },
  {
   "cell_type": "code",
   "execution_count": 8,
   "metadata": {},
   "outputs": [
    {
     "name": "stdout",
     "output_type": "stream",
     "text": [
      "K-beta-Fit:\n",
      "[  7.77710909e+02   8.91449290e+00   1.14881195e-01   5.93919404e+02] +- [  6.96879404e+01   9.41485919e-03   1.45529466e-02   5.17511523e+01]\n",
      "K-alpha-Fit:\n",
      "[  2.54412275e+03   1.00574514e+01   1.07847046e-01   4.81319773e+02] +- [  1.01156076e+02   3.96992220e-03   4.57176268e-03   3.63719107e+01]\n"
     ]
    }
   ],
   "source": [
    "#beta line fit\n",
    "maskB = [(angleD>8.5)&(angleD<9.3)]\n",
    "angleB = angleD[maskB]\n",
    "intB = intD[maskB]\n",
    "intB_err = intD_err[maskB]\n",
    "poptB, pcovB = curve_fit(gaussian, angleB, intB, sigma = intB_err, p0 = [700, 9, 0.1, 600])\n",
    "perrB = np.sqrt(np.diag(pcovB))\n",
    "\n",
    "#alpha line fit\n",
    "maskA = [(angleD>9.6)&(angleD<10.5)]\n",
    "angleA = angleD[maskA]\n",
    "intA = intD[maskA]\n",
    "intA_err = intD_err[maskA]\n",
    "poptA, pcovA = curve_fit(gaussian, angleA, intA, sigma = intA_err,  p0 = [2500, 10, 0.1, 560])\n",
    "perrA = np.sqrt(np.diag(pcovA))\n",
    "\n",
    "#fit values\n",
    "print(r'K-beta-Fit:')\n",
    "print(poptB, '+-', perrB)\n",
    "print(r'K-alpha-Fit:')\n",
    "print(poptA, '+-', perrA)"
   ]
  },
  {
   "cell_type": "code",
   "execution_count": 9,
   "metadata": {
    "scrolled": false
   },
   "outputs": [
    {
     "data": {
      "image/png": "[encoded data removed]",
      "text/plain": [
       "<matplotlib.figure.Figure at 0x1f65ca541d0>"
      ]
     },
     "metadata": {},
     "output_type": "display_data"
    }
   ],
   "source": [
    "#plot data\n",
    "xB = np.linspace(8.5, 9.3, 200)\n",
    "xA = np.linspace(9.6, 10.5, 200)\n",
    "plt.figure('first order')\n",
    "plt.errorbar(angleD, intD, intD_err, angle_err, linestyle = 'None', label = 'Messwerte')\n",
    "plt.plot(xB, gaussian(xB, *poptB), marker = '', label = r'K$_\\beta$-Fit')\n",
    "plt.plot(xA, gaussian(xA, *poptA), marker = '', label = r'K$_\\alpha$-Fit')\n",
    "plt.legend(frameon=True)\n",
    "plt.title(r'K$_\\alpha$- und K$_\\beta$-Linie, 1. Ordnung, LiF')\n",
    "plt.xlabel('Winkel [°]')\n",
    "plt.ylabel('Intensität [1/s]')\n",
    "plt.savefig('Diagramme/LiF, 1.Ordnung.pdf')"
   ]
  },
  {
   "cell_type": "code",
   "execution_count": 10,
   "metadata": {},
   "outputs": [
    {
     "name": "stdout",
     "output_type": "stream",
     "text": [
      "Güte des Fits (K_alpha)\n",
      "Chi^2 = 410.819382397\n",
      "Chi^2 reduziert = 102.704845599\n",
      "Fitwahrscheinlichkeit = 0.0 %\n",
      "\n",
      "Güte des Fits (K_beta)\n",
      "Chi^2 = 251.429627341\n",
      "Chi^2 reduziert = 83.8098757805\n",
      "Fitwahrscheinlichkeit = 0.0 %\n"
     ]
    }
   ],
   "source": [
    "#fit quality\n",
    "print('Güte des Fits (K_alpha)')\n",
    "chisquare=np.sum(((gaussian(angleA,*poptA)-intA)**2/intA_err**2))\n",
    "dof=intA.size-len(poptA)\n",
    "chisquare_red=chisquare/dof\n",
    "prob=round(1-chi2.cdf(chisquare,dof),2)*100\n",
    "print('Chi^2 =', chisquare)\n",
    "print('Chi^2 reduziert =', chisquare_red)\n",
    "print('Fitwahrscheinlichkeit =', prob, '%')\n",
    "print()\n",
    "\n",
    "#fit quality\n",
    "print('Güte des Fits (K_beta)')\n",
    "chisquare=np.sum(((gaussian(angleB,*poptB)-intB)**2/intB_err**2))\n",
    "dof=intB.size-len(poptB)\n",
    "chisquare_red=chisquare/dof\n",
    "prob=round(1-chi2.cdf(chisquare,dof),2)*100\n",
    "print('Chi^2 =', chisquare)\n",
    "print('Chi^2 reduziert =', chisquare_red)\n",
    "print('Fitwahrscheinlichkeit =', prob, '%')"
   ]
  },
  {
   "cell_type": "code",
   "execution_count": 11,
   "metadata": {},
   "outputs": [
    {
     "name": "stdout",
     "output_type": "stream",
     "text": [
      "Zusammengefasster Fit:\n",
      "[ -1.04899585e+02   1.52300154e+03   2.54981790e+03   1.00594573e+01\n",
      "   1.08925782e-01   7.84901651e+02   8.92028522e+00   1.15628919e-01] +- [  4.22835246e+00   4.13962024e+01   3.73118087e+01   1.48176443e-03\n",
      "   1.34948939e-03   2.56574112e+01   3.86705779e-03   3.84152298e-03] in der Reihenfolge\n",
      "Steigung und y-Achsenabschnitt der Gerade, Normierung, Mittelwert und Sigma der Gaußfunktionen für k-alpha/K-beta Linie\n"
     ]
    },
    {
     "data": {
      "image/png": "[encoded data removed]",
      "text/plain": [
       "<matplotlib.figure.Figure at 0x1f65fc2f080>"
      ]
     },
     "metadata": {},
     "output_type": "display_data"
    }
   ],
   "source": [
    "#overkill fit\n",
    "popt, pcov = curve_fit(overkill, angleD, intD, sigma = intD_err, p0 = [-30, 1000, 2500, 10, 0.1, 700, 9, 0.1])\n",
    "perr = np.sqrt(np.diag(pcov))\n",
    "\n",
    "#fit values\n",
    "print('Zusammengefasster Fit:')\n",
    "print(popt, '+-', perr, 'in der Reihenfolge')\n",
    "print('Steigung und y-Achsenabschnitt der Gerade, Normierung, Mittelwert und Sigma der Gaußfunktionen für k-alpha/K-beta Linie')\n",
    "\n",
    "#plot data again\n",
    "plt.figure('first order, better')\n",
    "x = np.linspace(8, 11, 300)\n",
    "plt.errorbar(angleD, intD, intD_err, angle_err, linestyle = 'None', label = 'Messwerte')\n",
    "plt.plot(x, overkill(x, *popt), marker = '', label = 'Fit')\n",
    "plt.legend(frameon=True)\n",
    "plt.title(r'K$_\\alpha$- und K$_\\beta$-Linie,1.Ordnung, LiF, verbessert')\n",
    "plt.xlabel('Winkel [°]')\n",
    "plt.ylabel('Intensität [1/s]')\n",
    "plt.savefig('Diagramme/LiF, 1.Ordnung, verbessert,.pdf')"
   ]
  },
  {
   "cell_type": "code",
   "execution_count": 12,
   "metadata": {},
   "outputs": [
    {
     "name": "stdout",
     "output_type": "stream",
     "text": [
      "Chi^2 = 329.97861656\n",
      "Chi^2 reduziert = 14.3468963722\n",
      "Fitwahrscheinlichkeit = 0.0 %\n"
     ]
    }
   ],
   "source": [
    "#fit quality\n",
    "chisquare=np.sum(((overkill(angleD,*popt)-intD)**2/intD_err**2))\n",
    "dof=intD.size-len(popt)\n",
    "chisquare_red=chisquare/dof\n",
    "prob=round(1-chi2.cdf(chisquare,dof),2)*100\n",
    "print('Chi^2 =', chisquare)\n",
    "print('Chi^2 reduziert =', chisquare_red)\n",
    "print('Fitwahrscheinlichkeit =', prob, '%')"
   ]
  },
  {
   "cell_type": "markdown",
   "metadata": {},
   "source": [
    "### 2. Ordnung"
   ]
  },
  {
   "cell_type": "code",
   "execution_count": 13,
   "metadata": {
    "collapsed": true
   },
   "outputs": [],
   "source": [
    "#load data, second order\n",
    "angleD2, intD2= np.loadtxt('Daten/01_03_2018 10_10_41.txt',\n",
    "                         skiprows=0,\n",
    "                         converters={0:string2float, 1:string2float},\n",
    "                         unpack=True)\n",
    "intD2_err = np.sqrt(intD2/20)"
   ]
  },
  {
   "cell_type": "code",
   "execution_count": 14,
   "metadata": {},
   "outputs": [
    {
     "name": "stdout",
     "output_type": "stream",
     "text": [
      "K-beta-Fit:\n",
      "[  95.25283619   18.21022855    0.11323165  103.54948261] +- [ 9.92118093  0.01220244  0.01282603  3.02267999]\n",
      "K-alpha-Fit:\n",
      "[  3.46443657e+02   2.05802276e+01   1.23755331e-01   8.57866636e+01] +- [  8.44103693e+00   2.84605024e-03   2.92252740e-03   2.20139464e+00]\n"
     ]
    }
   ],
   "source": [
    "#beta line fit\n",
    "maskB2 = [(angleD2>17.5)&(angleD2<19)]\n",
    "angleB2 = angleD2[maskB2]\n",
    "intB2 = intD2[maskB2]\n",
    "intB2_err = intD2_err[maskB2]\n",
    "poptB2, pcovB2 = curve_fit(gaussian, angleB2, intB2, sigma = intB2_err, p0 = [100, 18.3, 0.2, 100])\n",
    "perrB2 = np.sqrt(np.diag(pcovB2))\n",
    "\n",
    "#alpha line fit\n",
    "maskA2 = [(angleD2>20)&(angleD2<21.3)]\n",
    "angleA2 = angleD2[maskA2]\n",
    "intA2 = intD2[maskA2]\n",
    "intA2_err = intD2_err[maskA2]\n",
    "poptA2, pcovA2 = curve_fit(gaussian, angleA2, intA2, sigma = intA2_err,  p0 = [350, 20.5, 0.2, 100])\n",
    "perrA2 = np.sqrt(np.diag(pcovA2))\n",
    "\n",
    "#fit values\n",
    "print(r'K-beta-Fit:')\n",
    "print(poptB2, '+-', perrB2)\n",
    "print(r'K-alpha-Fit:')\n",
    "print(poptA2, '+-', perrA2)"
   ]
  },
  {
   "cell_type": "code",
   "execution_count": 15,
   "metadata": {},
   "outputs": [
    {
     "data": {
      "image/png": "[encoded data removed]",
      "text/plain": [
       "<matplotlib.figure.Figure at 0x1f65fccfb38>"
      ]
     },
     "metadata": {},
     "output_type": "display_data"
    }
   ],
   "source": [
    "#plot data\n",
    "xB2 = np.linspace(17.5, 19, 200)\n",
    "xA2 = np.linspace(20, 21.3, 200)\n",
    "plt.figure('second order')\n",
    "plt.errorbar(angleD2, intD2, intD2_err, angle_err, linestyle = 'None', label = 'Messwerte')\n",
    "plt.plot(xB2, gaussian(xB2, *poptB2), marker = '', label = r'K$_\\beta$-Fit')\n",
    "plt.plot(xA2, gaussian(xA2, *poptA2), marker = '', label = r'K$_\\alpha$-Fit')\n",
    "plt.legend(frameon=True)\n",
    "plt.title(r'K$_\\alpha$- und K$_\\beta$-Linie, 2.Ordnung, LiF')\n",
    "plt.xlabel('Winkel [°]')\n",
    "plt.ylabel('Intensität [1/s]')\n",
    "plt.savefig('Diagramme/LiF, 2.Ordnung.pdf')"
   ]
  },
  {
   "cell_type": "code",
   "execution_count": 16,
   "metadata": {},
   "outputs": [
    {
     "name": "stdout",
     "output_type": "stream",
     "text": [
      "Chi^2 = 139.029105198\n",
      "Chi^2 reduziert = 13.9029105198\n",
      "Fitwahrscheinlichkeit = 0.0 %\n",
      "Chi^2 = 45.3584785241\n",
      "Chi^2 reduziert = 5.66980981551\n",
      "Fitwahrscheinlichkeit = 0.0 %\n"
     ]
    }
   ],
   "source": [
    "#fit quality, beta-Peak\n",
    "chisquare=np.sum(((gaussian(angleB2,*poptB2)-intB2)**2/intB2_err**2))\n",
    "dof=intB2.size-len(poptB2)\n",
    "chisquare_red=chisquare/dof\n",
    "prob=round(1-chi2.cdf(chisquare,dof),2)*100\n",
    "print('Chi^2 =', chisquare)\n",
    "print('Chi^2 reduziert =', chisquare_red)\n",
    "print('Fitwahrscheinlichkeit =', prob, '%')\n",
    "\n",
    "#fit quality, alpha-Peak\n",
    "chisquare=np.sum(((gaussian(angleA2,*poptA2)-intA2)**2/intA2_err**2))\n",
    "dof=intA2.size-len(poptA2)\n",
    "chisquare_red=chisquare/dof\n",
    "prob=round(1-chi2.cdf(chisquare,dof),2)*100\n",
    "print('Chi^2 =', chisquare)\n",
    "print('Chi^2 reduziert =', chisquare_red)\n",
    "print('Fitwahrscheinlichkeit =', prob, '%')"
   ]
  },
  {
   "cell_type": "markdown",
   "metadata": {},
   "source": [
    "## Bestimmen der Planckschen Konstante"
   ]
  },
  {
   "cell_type": "code",
   "execution_count": 17,
   "metadata": {
    "collapsed": true
   },
   "outputs": [],
   "source": [
    "#load data\n",
    "U = np.arange(20, 36)\n",
    "U_err = 0.05\n",
    "I = np.array([1.3, 2.55, 4.9, 11.55, 87.2, 168.9, 230.0, 293.7, 355.4, 419.2, 475.6, 522.6, 580.5, 630.5, 676.5, 733.2])\n",
    "I_err = np.sqrt(I/20)\n",
    "\n",
    "#linear fit\n",
    "popt, pcov = curve_fit(linear, U[4:-5], I[4:-5], sigma = I_err[4:-5])\n",
    "perr = np.sqrt(np.diag(pcov))"
   ]
  },
  {
   "cell_type": "code",
   "execution_count": 18,
   "metadata": {},
   "outputs": [
    {
     "name": "stdout",
     "output_type": "stream",
     "text": [
      "Fit-Parameter:\n",
      "[   65.44012578 -1477.0934039 ] +- [  1.55876679  40.43560772]\n"
     ]
    },
    {
     "data": {
      "image/png": "[encoded data removed]",
      "text/plain": [
       "<matplotlib.figure.Figure at 0x1f65fd449b0>"
      ]
     },
     "metadata": {},
     "output_type": "display_data"
    }
   ],
   "source": [
    "#plot data and fit\n",
    "x = np.linspace(22, 35, 200)\n",
    "plt.figure('plack2')\n",
    "plt.errorbar(U, I, I_err, U_err, linestyle = 'None', label = 'Messwerte')\n",
    "plt.plot(x, linear(x, *popt), label = 'Fit')\n",
    "plt.legend(frameon=True)\n",
    "plt.title('Bestimmen der Planckschen Konstante')\n",
    "plt.xlabel('Beschleunugungsspannung [V]')\n",
    "plt.ylabel('Intensität [1/s]')\n",
    "print('Fit-Parameter:')\n",
    "print(popt, '+-', perr)\n",
    "plt.savefig('Diagramme/Planck2.pdf')"
   ]
  },
  {
   "cell_type": "code",
   "execution_count": 19,
   "metadata": {},
   "outputs": [
    {
     "name": "stdout",
     "output_type": "stream",
     "text": [
      "Chi^2 = 29.4011210463\n",
      "Chi^2 reduziert = 5.88022420926\n",
      "Fitwahrscheinlichkeit = 0.0 %\n"
     ]
    }
   ],
   "source": [
    "#fit quality\n",
    "chisquare=np.sum(((linear(U[4:-5],*popt)-I[4:-5])**2/I_err[4:-5]**2))\n",
    "dof=U[4:-5].size-len(popt)\n",
    "chisquare_red=chisquare/dof\n",
    "prob=round(1-chi2.cdf(chisquare,dof),2)*100\n",
    "print('Chi^2 =', chisquare)\n",
    "print('Chi^2 reduziert =', chisquare_red)\n",
    "print('Fitwahrscheinlichkeit =', prob, '%')"
   ]
  },
  {
   "cell_type": "markdown",
   "metadata": {},
   "source": [
    "## K-alpha und K-beta Peaks im NaCl Kristall"
   ]
  },
  {
   "cell_type": "code",
   "execution_count": 20,
   "metadata": {
    "collapsed": true
   },
   "outputs": [],
   "source": [
    "#load data\n",
    "angleD, intD= np.loadtxt('Daten/01_03_2018 10_40_33.txt',\n",
    "                         skiprows=0,\n",
    "                         converters={0:string2float, 1:string2float},\n",
    "                         unpack=True)\n",
    "intD_err = np.sqrt(intD/5)"
   ]
  },
  {
   "cell_type": "code",
   "execution_count": 21,
   "metadata": {},
   "outputs": [
    {
     "data": {
      "text/plain": [
       "Text(0,0.5,'Intensität [1/s]')"
      ]
     },
     "execution_count": 21,
     "metadata": {},
     "output_type": "execute_result"
    },
    {
     "data": {
      "image/png": "[encoded data removed]",
      "text/plain": [
       "<matplotlib.figure.Figure at 0x1f65fd24390>"
      ]
     },
     "metadata": {},
     "output_type": "display_data"
    }
   ],
   "source": [
    "plt.figure('nacl')\n",
    "plt.errorbar(angleD, intD, intD_err, angle_err, label = 'Messdaten', linestyle = 'None')\n",
    "plt.legend(frameon=True)\n",
    "plt.xlabel('Winkel [°]')\n",
    "plt.ylabel('Intensität [1/s]')"
   ]
  },
  {
   "cell_type": "markdown",
   "metadata": {},
   "source": [
    "### 1. Ordnung"
   ]
  },
  {
   "cell_type": "code",
   "execution_count": 22,
   "metadata": {
    "collapsed": true
   },
   "outputs": [],
   "source": [
    "#data\n",
    "angleD1 = angleD[13:26]\n",
    "intD1 = intD[13:26]\n",
    "intD1_err = intD_err[13:26]"
   ]
  },
  {
   "cell_type": "code",
   "execution_count": 23,
   "metadata": {},
   "outputs": [
    {
     "name": "stdout",
     "output_type": "stream",
     "text": [
      "Zusammengefasster Fit:\n",
      "[ -2.28572756e+02   2.23715244e+03   7.86695056e+02   6.30888607e+00\n",
      "   1.14006668e-01   2.44807877e+03   7.11069847e+00   1.11849325e-01] +- [  7.08609225e+00   5.18506960e+01   5.87731648e+01   4.16980454e-03\n",
      "   1.11508590e-02   6.32796623e+01   1.65758822e-03   3.25254070e-03]\n",
      "in der Reihenfolge\n",
      "Steigung und y-Achsenabschnitt der Gerade, Normierung, Mittelwert und Sigma der Gaußfunktionen für k-alpha/K-beta Linie\n"
     ]
    },
    {
     "data": {
      "image/png": "[encoded data removed]",
      "text/plain": [
       "<matplotlib.figure.Figure at 0x1f65fe64630>"
      ]
     },
     "metadata": {},
     "output_type": "display_data"
    }
   ],
   "source": [
    "#overkill fit\n",
    "popt1, pcov1 = curve_fit(overkill, angleD1, intD1, sigma = intD1_err, p0 = [-250, 2000, 500, 6.5, 0.2, 1600, 7.3, 0.2])\n",
    "perr1 = np.sqrt(np.diag(pcov1))\n",
    "\n",
    "#fit values\n",
    "print('Zusammengefasster Fit:')\n",
    "print(popt1, '+-', perr1)\n",
    "print('in der Reihenfolge')\n",
    "print('Steigung und y-Achsenabschnitt der Gerade, Normierung, Mittelwert und Sigma der Gaußfunktionen für k-alpha/K-beta Linie')\n",
    "\n",
    "#plot data again\n",
    "plt.figure('first order, nacl')\n",
    "x1 = np.linspace(5.5, 8, 300)\n",
    "plt.errorbar(angleD1, intD1, intD1_err, angle_err, linestyle = 'None', label = 'Messwerte')\n",
    "plt.plot(x1, overkill(x1, *popt1), marker = '', label = 'Fit')\n",
    "plt.legend(frameon=True)\n",
    "plt.title(r'K$_\\alpha$- und K$_\\beta$-Linie, 1.Ordnung, NaCl')\n",
    "plt.xlabel('Winkel [°]')\n",
    "plt.ylabel('Intensität [1/s]')\n",
    "plt.savefig('Diagramme/NaCl, 1.Ordnung.pdf')"
   ]
  },
  {
   "cell_type": "code",
   "execution_count": 24,
   "metadata": {},
   "outputs": [
    {
     "name": "stdout",
     "output_type": "stream",
     "text": [
      "Chi^2 = 10.2004558421\n",
      "Chi^2 reduziert = 2.04009116842\n",
      "Fitwahrscheinlichkeit = 7.0 %\n"
     ]
    }
   ],
   "source": [
    "#fit quality\n",
    "chisquare=np.sum(((overkill(angleD1,*popt1)-intD1)**2/intD1_err**2))\n",
    "dof=intD1.size-len(popt1)\n",
    "chisquare_red=chisquare/dof\n",
    "prob=round(1-chi2.cdf(chisquare,dof),2)*100\n",
    "print('Chi^2 =', chisquare)\n",
    "print('Chi^2 reduziert =', chisquare_red)\n",
    "print('Fitwahrscheinlichkeit =', prob, '%')"
   ]
  },
  {
   "cell_type": "markdown",
   "metadata": {},
   "source": [
    "### 2. Ordnung"
   ]
  },
  {
   "cell_type": "code",
   "execution_count": 25,
   "metadata": {
    "collapsed": true
   },
   "outputs": [],
   "source": [
    "#data\n",
    "angleD2 = angleD[44:63]\n",
    "intD2 = intD[44:63]\n",
    "intD2_err = intD_err[44:63]"
   ]
  },
  {
   "cell_type": "code",
   "execution_count": 27,
   "metadata": {},
   "outputs": [
    {
     "name": "stdout",
     "output_type": "stream",
     "text": [
      "Zusammengefasster Fit:\n",
      "[ -1.49722451e+01   3.19484975e+02   1.67957505e+02   1.28112963e+01\n",
      "   1.24895229e-01   5.96748378e+02   1.44845931e+01   1.14168383e-01] +- [  1.37302445e+00   1.89301312e+01   9.55589524e+00   8.49790920e-03\n",
      "   6.32454248e-03   2.11836614e+01   2.77419030e-03   4.24544271e-03]\n",
      "in der Reihenfolge\n",
      "Steigung und y-Achsenabschnitt der Gerade, Normierung, Mittelwert und Sigma der Gaußfunktionen für k-alpha/K-beta Linie\n"
     ]
    },
    {
     "data": {
      "image/png": "[encoded data removed]",
      "text/plain": [
       "<matplotlib.figure.Figure at 0x1f65fc9bf28>"
      ]
     },
     "metadata": {},
     "output_type": "display_data"
    }
   ],
   "source": [
    "#overkill fit\n",
    "popt2, pcov2 = curve_fit(overkill, angleD2, intD2, sigma = intD2_err, p0 = [-1.5, 300, 100, 12.9, 0.1, 550, 14.5, 0.15])\n",
    "perr2 = np.sqrt(np.diag(pcov2))\n",
    "\n",
    "#fit values\n",
    "print('Zusammengefasster Fit:')\n",
    "print(popt2, '+-', perr2)\n",
    "print('in der Reihenfolge')\n",
    "print('Steigung und y-Achsenabschnitt der Gerade, Normierung, Mittelwert und Sigma der Gaußfunktionen für k-alpha/K-beta Linie')\n",
    "\n",
    "#plot data again\n",
    "plt.figure('second order, nacl')\n",
    "x2 = np.linspace(11.8, 15.6, 300)\n",
    "plt.errorbar(angleD2, intD2, intD2_err, angle_err, linestyle = 'None', label = 'Messwerte')\n",
    "plt.plot(x2, overkill(x2, *popt2), marker = '', label = 'Fit')\n",
    "plt.legend(frameon=True)\n",
    "plt.title(r'K$_\\alpha$- und K$_\\beta$-Linie, 2.Ordnung, NaCl')\n",
    "plt.xlabel('Winkel [°]')\n",
    "plt.ylabel('Intensität [1/s]')\n",
    "plt.savefig('Diagramme/NaCl, 2.Ordnung.pdf')"
   ]
  },
  {
   "cell_type": "code",
   "execution_count": 28,
   "metadata": {},
   "outputs": [
    {
     "name": "stdout",
     "output_type": "stream",
     "text": [
      "Chi^2 = 16.1627904989\n",
      "Chi^2 reduziert = 1.46934459081\n",
      "Fitwahrscheinlichkeit = 14.0 %\n"
     ]
    }
   ],
   "source": [
    "#fit quality\n",
    "chisquare=np.sum(((overkill(angleD2,*popt2)-intD2)**2/intD2_err**2))\n",
    "dof=intD2.size-len(popt2)\n",
    "chisquare_red=chisquare/dof\n",
    "prob=round(1-chi2.cdf(chisquare,dof),2)*100\n",
    "print('Chi^2 =', chisquare)\n",
    "print('Chi^2 reduziert =', chisquare_red)\n",
    "print('Fitwahrscheinlichkeit =', prob, '%')"
   ]
  },
  {
   "cell_type": "code",
   "execution_count": null,
   "metadata": {
    "collapsed": true
   },
   "outputs": [],
   "source": []
  },
  {
   "cell_type": "code",
   "execution_count": null,
   "metadata": {
    "collapsed": true
   },
   "outputs": [],
   "source": []
  }
 ],
 "metadata": {
  "kernelspec": {
   "display_name": "Python 3",
   "language": "python",
   "name": "python3"
  },
  "language_info": {
   "codemirror_mode": {
    "name": "ipython",
    "version": 3
   },
   "file_extension": ".py",
   "mimetype": "text/x-python",
   "name": "python",
   "nbconvert_exporter": "python",
   "pygments_lexer": "ipython3",
   "version": "3.6.2"
  }
 },
 "nbformat": 4,
 "nbformat_minor": 2
}
