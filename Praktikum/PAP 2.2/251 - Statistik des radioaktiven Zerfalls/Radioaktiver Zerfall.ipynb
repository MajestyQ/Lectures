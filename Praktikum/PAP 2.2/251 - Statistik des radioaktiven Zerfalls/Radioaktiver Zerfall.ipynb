{
 "cells": [
  {
   "cell_type": "code",
   "execution_count": 2,
   "metadata": {},
   "outputs": [
    {
     "ename": "SyntaxError",
     "evalue": "invalid syntax (<ipython-input-2-f6ad88e6df10>, line 8)",
     "output_type": "error",
     "traceback": [
      "\u001b[1;36m  File \u001b[1;32m\"<ipython-input-2-f6ad88e6df10>\"\u001b[1;36m, line \u001b[1;32m8\u001b[0m\n\u001b[1;33m    U=np.array([,,,,,,,,])\u001b[0m\n\u001b[1;37m                ^\u001b[0m\n\u001b[1;31mSyntaxError\u001b[0m\u001b[1;31m:\u001b[0m invalid syntax\n"
     ]
    }
   ],
   "source": [
    "#Importieren der benötigten Packages\n",
    "import matplotlib.pyplot as plt\n",
    "import numpy as np\n",
    "from scipy.optimize import curve_fit\n",
    "\n",
    "#Zählerrohrspannung\n",
    "U=np.array([,,,,,,,,])\n",
    "\n",
    "#gezählte Ereignisse\n",
    "N=np.array([,,,,,,,,])\n",
    "err_N=np.sqrt(N)\n",
    "\n",
    "#Plotten der Fehler\n",
    "plt.errorbar(U, N, err_N, fmt=\".\")\n",
    "plt.xlabel('Spannung [V]')\n",
    "plt.ylabel('Ereignisse')\n",
    "plt.title('Zählerrohrcharakteristik')\n",
    "\n",
    "#Fit-Funktion\n",
    "\n",
    "def linear(x,a,b):\n",
    "    return a*x+b\n",
    "\n",
    "popt, pcov=curve_fit(linear, U[1:], N[1:])\n",
    "\n",
    "#Plotten der Fehler\n",
    "plt.errorbar(U, N, err_N, fmt=\".\")\n",
    "plt.xlabel('Spannung [V]')\n",
    "plt.ylabel('Ereignisse')\n",
    "plt.title('Zählerrohrcharakteristik')\n",
    "plt.plot(U, linear(U,*popt))\n",
    "plt.savefig(r'G:\\Users\\Thorben\\Uni\\GitHub\\Universe\\Praktikum\\PAP 2.2\\251 - Statistik des radioaktiven Zerfalls\\Diagramme\\Zählerrohrcharakteristik.pdf' ,format='pdf')"
   ]
  },
  {
   "cell_type": "code",
   "execution_count": null,
   "metadata": {
    "collapsed": true
   },
   "outputs": [],
   "source": [
    "#Importieren der benötigten Packages\n",
    "import matplotlib.pyplot as plt\n",
    "import numpy as np\n",
    "from scipy.optimize import curve_fit\n",
    "from numpy import exp, pi, sqrt\n",
    "from scipy.special import gamma\n",
    "from scipy.stats import chi2\n",
    "\n",
    "#Importieren der Daten\n",
    "anazahl, haeufigkeit=np.loadtxt('', unpack=True)\n",
    "err=np.sqrt(haeufigkeit)\n",
    "\n",
    "#Plotten der Fehler\n",
    "plt.errorbar(anzahl, haeufigkeit, fehler, fmt='.')\n",
    "plt.xlabel('Anzahl der Zerfälle pro Zeiteinheit [1/s]')\n",
    "plt.ylabel('Häufigkeit')\n",
    "plt.title('Statistik des Radioaktivenzerfalls')\n",
    "\n",
    "#Fitten des Gaußian\n",
    "def gaussian(x, A, mu, sig):\n",
    "    return A/(sqrt(2*pi)*sig)exp(-(x-mu)**2/2/sig**2)\n",
    "\n",
    "popt, pcov=curve_fit(gaussian,anzahl[:], haeufigkeit[:],p0=[,,],sigma=err[:])\n",
    "\n",
    "#Fitten der Poisson-Verteilung\n",
    "def poisson(x, A_p, mu_p):\n",
    "    return A_p*exp(-mu_p)*mu_p**x/gamma(x+1)\n",
    "\n",
    "popt_p, pcov_p = curve_fit(poisson, anzahl[:]\n",
    "haeufigkeit[:], p0=[:], sigma=err[:])\n",
    "\n",
    "#Plotten der Fits\n",
    "pkt.arrornar(anzahl,haeufigkeit,fehler fmt=\".\",label='Messung')\n",
    "plt.xlabel('Anzahl der Zerfälle pro Zeiteinheit [1/s]')\n",
    "plt.ylabel('Häufigkeit')\n",
    "plt.title('Statistik des Radioaktivenzerfalls')\n",
    "x=np.linspace(,,)\n",
    "plt.plot(x, gaussian(x,*popt), label='Gauß')\n",
    "plt.plot(x, poisson(x,*popt_p), label='Poisson', linestyle=':')\n",
    "plt.legend()\n",
    "plt.savefig(r'G:\\Users\\Thorben\\Uni\\GitHub\\Universe\\Praktikum\\PAP 2.2\\251 - Statistik des radioaktiven Zerfalls\\Diagramme\\Statistik_des_radioaktive_Zeralls.pdf' ,format='pdf')\n",
    "\n",
    "\n",
    "#Daten printen\n",
    "print(\"Gaußfit:\")\n",
    "print(\"A=\",popt[0], \",Standardfehler=\", np.sqrt(pcov[0][0]))\n",
    "print(\"mu=\",popt[1], \",Standardfehler=\", np.sqrt(pcov[1][1]))\n",
    "print(\"sig=\",popt[2], \",Standardfehler=\", np.sqrt(pcov[2][2]))\n",
    "print(\"Poissonfit:\")\n",
    "print(\"A_p=\",popt[0], \",Standardfehler=\", np.sqrt(pcov[0][0]))\n",
    "print(\"mu_p=\",popt[1], \",Standardfehler=\", np.sqrt(pcov[1][1]))\n",
    "\n",
    "#Gauß\n",
    "chi2_g=np.sum((gaussian(anzahl[:],*popt)-haufigkeit[:])**2/err[:]**2)\n",
    "dof_g=len(anzahl[:])-3\n",
    "chi2_red_g=chi2_g/dof_g\n",
    "print(\"chi2_g\", chi2_g)\n",
    "print(\"chi2_red_g\", chi2_red_g)\n",
    "\n",
    "#Poisson\n",
    "chi2_p=np.sum((poisson(anzahl[:],*popt)-haufigkeit[:])**2/err[:]**2)\n",
    "dof_p=len(anzahl[:])-3\n",
    "chi2_red_p=chi2_p/dof_p\n",
    "print(\"chi2_p\", chi2_p)\n",
    "print(\"chi2_red_p\", chi2_red_p)\n",
    "\n",
    "#Berechnung der Fit-Wahrscheinlichkeit\n",
    "#Gauß\n",
    "prob_g=round(1-chi2.cdf(chi_g,dof_g),2)*100\n",
    "#Poisson\n",
    "prob_p=round(1-chi2.cdf(chi_p,dof_p),2)*100\n",
    "\n",
    "print(\"Fitwahrscheinlichkeit Gauß:\", prob_g, \"%\")\n",
    "print(\"Fitwahrscheinlichkeit Poisson:\", prob_p, \"%\")"
   ]
  },
  {
   "cell_type": "code",
   "execution_count": null,
   "metadata": {
    "collapsed": true
   },
   "outputs": [],
   "source": []
  }
 ],
 "metadata": {
  "kernelspec": {
   "display_name": "Python 3",
   "language": "python",
   "name": "python3"
  },
  "language_info": {
   "codemirror_mode": {
    "name": "ipython",
    "version": 3
   },
   "file_extension": ".py",
   "mimetype": "text/x-python",
   "name": "python",
   "nbconvert_exporter": "python",
   "pygments_lexer": "ipython3",
   "version": "3.6.3"
  }
 },
 "nbformat": 4,
 "nbformat_minor": 2
}
