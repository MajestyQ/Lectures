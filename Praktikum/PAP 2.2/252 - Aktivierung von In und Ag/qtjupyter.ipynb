{
 "cells": [
  {
   "cell_type": "code",
   "execution_count": 1,
   "metadata": {
    "collapsed": false
   },
   "outputs": [],
   "source": [
    "#import modules\n",
    "import matplotlib.pyplot as plt\n",
    "import numpy as np\n",
    "from scipy.optimize import curve_fit\n",
    "from scipy.stats import chi2\n",
    "%matplotlib inline"
   ]
  },
  {
   "cell_type": "code",
   "execution_count": 2,
   "metadata": {
    "collapsed": false
   },
   "outputs": [
    {
     "name": "stdout",
     "output_type": "stream",
     "text": [
      "Mittelwert:  87.2653061224 +- 2.98974723234\n",
      "A1= 400.322456757 , Standardfehler= 19.0114181481\n",
      "l1= 0.0259275662117 , Standardfehler= 0.00233794546144\n",
      "A2= 53.0509068836 , Standardfehler= 11.4552174332\n",
      "l2= 0.00124013507839 , Standardfehler= 0.000760968172394\n",
      "chi2_= 26.2253054645\n",
      "chi2_red= 0.728480707348\n",
      "Wahrscheinlichkeit= 88.0 %\n"
     ]
    },
    {
     "data": {
      "image/png": "[encoded data removed]",
      "text/plain": [
       "<matplotlib.figure.Figure at 0x7a0b438>"
      ]
     },
     "metadata": {},
     "output_type": "display_data"
    }
   ],
   "source": [
    "#silver decay\n",
    "\n",
    "#load and calculate underground\n",
    "unterg=np.loadtxt(r'C:\\Users\\Admin\\Desktop/qtuntergrund.dat', usecols=[1])\n",
    "mittelw_unterg=np.mean(4*unterg)\n",
    "err_unterg=np.std(4*unterg)/np.sqrt(len(unterg))\n",
    "print('Mittelwert: ', mittelw_unterg,'+-', err_unterg)\n",
    "\n",
    "#load measured data\n",
    "n1=np.loadtxt(r'C:\\Users\\Admin\\Desktop/qtag1.dat', usecols=[1])\n",
    "n2=np.loadtxt(r'C:\\Users\\Admin\\Desktop/qtag2.dat', usecols=[1])\n",
    "n3=np.loadtxt(r'C:\\Users\\Admin\\Desktop/qtag3.dat', usecols=[1])\n",
    "n4=np.loadtxt(r'C:\\Users\\Admin\\Desktop/qtag4.dat', usecols=[1])\n",
    "\n",
    "N=n1+n2+n3+n4\n",
    "err_N=np.sqrt(N)\n",
    "\n",
    "t=np.arange(6,406,10)\n",
    "\n",
    "#plot measured data\n",
    "plt.errorbar(t,N, err_N, linestyle='None')\n",
    "plt.xlabel('Zeit [s]')\n",
    "plt.ylabel('Zefälle')\n",
    "plt.title('Zerfall von Silber mit Untergrund')\n",
    "plt.yscale('log')\n",
    "\n",
    "#fitting silver decay\n",
    "y0=mittelw_unterg\n",
    "def fit_func(x,A1,l1,A2,l2):\n",
    "    return A1*np.exp(-x*l1)+A2*np.exp(-x*l2)+y0\n",
    "\n",
    "popt, pcov=curve_fit(fit_func,t,N, p0=[391, 0.02, 44, 0.001], sigma=err_N)\n",
    "\n",
    "#plot silver fit\n",
    "plt.errorbar(t,N, err_N, linestyle='None')\n",
    "plt.xlabel('Zeit [s]')\n",
    "plt.ylabel('Zerfälle')\n",
    "plt.title('Zerfall von Silber mit Untergrund')\n",
    "plt.yscale('log')\n",
    "plt.plot(t,fit_func(t,*popt))\n",
    "#plt.savefig('', format='pdf')\n",
    "\n",
    "#print fit parameters, silver\n",
    "print(\"A1=\",popt[0], \", Standardfehler=\", np.sqrt(pcov[0][0]))\n",
    "print(\"l1=\",popt[1], \", Standardfehler=\", np.sqrt(pcov[1][1]))\n",
    "print(\"A2=\",popt[2], \", Standardfehler=\", np.sqrt(pcov[2][2]))\n",
    "print(\"l2=\",popt[3], \", Standardfehler=\", np.sqrt(pcov[3][3]))\n",
    "\n",
    "#fit quality, silver\n",
    "chi2_=np.sum((fit_func(t,*popt)-N)**2/err_N**2)\n",
    "dof=len(N)-4\n",
    "chi2_red=chi2_/dof\n",
    "print(\"chi2_=\", chi2_)\n",
    "print(\"chi2_red=\", chi2_red)\n",
    "prob=round(1-chi2.cdf(chi2_,dof),2)*100\n",
    "print(\"Wahrscheinlichkeit=\", prob, \"%\")"
   ]
  },
  {
   "cell_type": "code",
   "execution_count": 20,
   "metadata": {
    "collapsed": false
   },
   "outputs": [
    {
     "name": "stdout",
     "output_type": "stream",
     "text": [
      "A1= 955.140412046 , Standardfehler= 39.2125665818\n",
      "l1= 0.000545006730767 , Standardfehler= 3.63560406955e-05\n",
      "chi2_= 19.9215309054\n",
      "chi2_red= 2.21350343393\n",
      "Wahrscheinlichkeit= 2.0 %\n"
     ]
    },
    {
     "data": {
      "image/png": "[encoded data removed]",
      "text/plain": [
       "<matplotlib.figure.Figure at 0x9359518>"
      ]
     },
     "metadata": {},
     "output_type": "display_data"
    }
   ],
   "source": [
    "#indium decay\n",
    "\n",
    "#adjust undergound\n",
    "in_under = mittelw_unterg*3\n",
    "\n",
    "#load measured data indium\n",
    "ind=np.loadtxt(r'C:\\Users\\Admin\\Desktop/qtind.dat', usecols=[1])\n",
    "ind_err = np.sqrt(ind)\n",
    "\n",
    "#indium fit\n",
    "y0 = in_under\n",
    "def indium_fit(x, A1, l1):\n",
    "    return A1*np.exp(-x*l1)+y0\n",
    "\n",
    "#fitting indium decay\n",
    "t=np.arange(6, 3006, 120)\n",
    "mask = [(t>2450) | (t<1200) &(t>300)]\n",
    "popt, pcov=curve_fit(indium_fit,t[mask],ind[mask], p0=[500, 0.0002], sigma=ind_err[mask])\n",
    "\n",
    "#plot indium fit\n",
    "plt.errorbar(t, ind, ind_err, linestyle='None')\n",
    "plt.xlabel('Zeit [s]')\n",
    "plt.ylabel('Zerfälle')\n",
    "plt.title('Zerfall von Indium mit Untergrund')\n",
    "plt.yscale('log')\n",
    "plt.ylim(3e2, 2e3)\n",
    "plt.plot(t,indium_fit(t,*popt))\n",
    "\n",
    "#print fit parameters, indium\n",
    "print(\"A1=\",popt[0], \", Standardfehler=\", np.sqrt(pcov[0][0]))\n",
    "print(\"l1=\",popt[1], \", Standardfehler=\", np.sqrt(pcov[1][1]))\n",
    "\n",
    "#fit quality, indium\n",
    "chi2_=np.sum((indium_fit(t[mask],*popt)-ind[mask])**2/ind_err[mask]**2)\n",
    "dof=len(ind[mask])-2\n",
    "chi2_red=chi2_/dof\n",
    "print(\"chi2_=\", chi2_)\n",
    "print(\"chi2_red=\", chi2_red)\n",
    "prob=round(1-chi2.cdf(chi2_,dof),2)*100\n",
    "print(\"Wahrscheinlichkeit=\", prob, \"%\")"
   ]
  },
  {
   "cell_type": "code",
   "execution_count": null,
   "metadata": {
    "collapsed": true
   },
   "outputs": [],
   "source": []
  }
 ],
 "metadata": {
  "kernelspec": {
   "display_name": "Python 3",
   "language": "python",
   "name": "python3"
  },
  "language_info": {
   "codemirror_mode": {
    "name": "ipython",
    "version": 3
   },
   "file_extension": ".py",
   "mimetype": "text/x-python",
   "name": "python",
   "nbconvert_exporter": "python",
   "pygments_lexer": "ipython3",
   "version": "3.4.4"
  }
 },
 "nbformat": 4,
 "nbformat_minor": 0
}
