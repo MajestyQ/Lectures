{
 "cells": [
  {
   "cell_type": "markdown",
   "metadata": {},
   "source": [
    "# Versuch 241: Wechselstromeigenschaften von RLC-Gliedern"
   ]
  },
  {
   "cell_type": "markdown",
   "metadata": {},
   "source": [
    "## Auswertung der Messergebnisse "
   ]
  },
  {
   "cell_type": "code",
   "execution_count": 1,
   "metadata": {
    "collapsed": true
   },
   "outputs": [],
   "source": [
    "#import packages\n",
    "import numpy as np\n",
    "from scipy.optimize import curve_fit\n",
    "import matplotlib.pyplot as plt\n",
    "%matplotlib inline \n",
    "plt.style.use('seaborn-white')\n",
    "plt.rcParams[\"figure.figsize\"][0] = 10\n",
    "plt.rcParams[\"figure.figsize\"][1] = 7\n",
    "plt.rcParams['errorbar.capsize']=2"
   ]
  },
  {
   "cell_type": "code",
   "execution_count": 2,
   "metadata": {
    "collapsed": true
   },
   "outputs": [],
   "source": [
    "#fit function\n",
    "#function1\n",
    "def function(freq,freq_grenz):\n",
    "    return np.arctan(freq_grenz/freq)*(360/(2*np.pi))"
   ]
  },
  {
   "cell_type": "markdown",
   "metadata": {},
   "source": [
    "### Teil 1: Bestimmung der Zeitkonstante eines RC-Glieds"
   ]
  },
  {
   "cell_type": "code",
   "execution_count": 3,
   "metadata": {
    "collapsed": true
   },
   "outputs": [],
   "source": [
    "#determining half-life of voltage for each composition\n",
    "\n",
    "R = np.array([1000, 10000, 1000]) #resistor\n",
    "R_err = R*0.05\n",
    "C = np.array([470, 4.7, 47])*1e-9 #capacitor\n",
    "C_err = 0.1*C\n",
    "Thw = np.array([320, 31, 34])*1e-6 #half-life\n",
    "Thw_err = np.array([20, 2, 2])*1e-6"
   ]
  },
  {
   "cell_type": "code",
   "execution_count": 4,
   "metadata": {
    "collapsed": true
   },
   "outputs": [],
   "source": [
    "#half life of current\n",
    "C2=47e-9\n",
    "C2_err=0.1*C2\n",
    "\n",
    "R2=R[0]\n",
    "R2_err=R_err[0]\n",
    "\n",
    "Thw2=30.8*1e-6\n",
    "Thw2_err=1e-6"
   ]
  },
  {
   "cell_type": "code",
   "execution_count": 5,
   "metadata": {},
   "outputs": [
    {
     "name": "stdout",
     "output_type": "stream",
     "text": [
      "Für die theoretischen Werte wurde ermittelt:\n",
      "tau_theo = [  4.70000000e-04   4.70000000e-05   4.70000000e-05] +/- [  5.25475975e-05   5.25475975e-06   5.25475975e-06]\n"
     ]
    }
   ],
   "source": [
    "#theoretical value for tau\n",
    "\n",
    "tau_theo = R*C \n",
    "tau_theo_err=np.sqrt((C*R_err)**2+(R*C_err)**2)\n",
    "\n",
    "print('Für die theoretischen Werte wurde ermittelt:')\n",
    "print('tau_theo = ' + str(tau_theo) + ' +/- ' + str(tau_theo_err))"
   ]
  },
  {
   "cell_type": "code",
   "execution_count": 6,
   "metadata": {},
   "outputs": [
    {
     "name": "stdout",
     "output_type": "stream",
     "text": [
      "Für die experimentellen Werte wurde ermittelt:\n",
      "tau_exp = [  4.61662413e-04   4.47235463e-05   4.90516314e-05] +/- [  2.88539008e-05   2.88539008e-06   2.88539008e-06]\n"
     ]
    }
   ],
   "source": [
    "#experimental value of tau\n",
    "\n",
    "tau_exp=Thw/np.log(2)\n",
    "tau_exp_err=Thw_err/np.log(2)\n",
    "\n",
    "print('Für die experimentellen Werte wurde ermittelt:')\n",
    "print('tau_exp = ' + str(tau_exp) + ' +/- ' + str(tau_exp_err))"
   ]
  },
  {
   "cell_type": "code",
   "execution_count": 7,
   "metadata": {},
   "outputs": [
    {
     "name": "stdout",
     "output_type": "stream",
     "text": [
      "Der Vergleich der theoretischen und experimentellen Werte liefert:\n",
      "∆(tau) = [  8.33758692e-06   2.27645373e-06   2.05163139e-06] +/- [  5.99482910e-05   5.99482910e-06   5.99482910e-06] => Sigma= [ 0.13907964  0.37973622  0.34223351]\n"
     ]
    }
   ],
   "source": [
    "#comparison between theory and experiment\n",
    "diff_tau=np.abs(tau_theo-tau_exp)\n",
    "diff_tau_err=np.sqrt((tau_theo_err)**2+(tau_exp_err)**2)\n",
    "\n",
    "print('Der Vergleich der theoretischen und experimentellen Werte liefert:')\n",
    "print('∆(tau) = ' + str(diff_tau) + ' +/- ' + str(diff_tau_err)+' => Sigma= '+str(diff_tau/diff_tau_err))"
   ]
  },
  {
   "cell_type": "code",
   "execution_count": 8,
   "metadata": {},
   "outputs": [
    {
     "name": "stdout",
     "output_type": "stream",
     "text": [
      "Aus der Strommessung ergeben sich die folgenden Werte:\n",
      "tau_theo_I = 4.7e-05 +/- 5.25475974712e-06\n",
      "tau_exp_I = 4.44350072594e-05 +/- 1.44269504089e-06\n",
      "\n",
      "Für die Differenz Theorie-Experiment bei der Strommessung folgt somit:\n",
      "∆(tau2) = 2.56499274062e-06 +/- 5.44920810586e-06 => Sigma= 0.470709264684\n"
     ]
    }
   ],
   "source": [
    "#further comparison: half-life with current measurement\n",
    "tau_theo2=R2*C2\n",
    "tau_theo2_err=np.sqrt((C2*R2_err)**2+(R2*C2_err)**2)\n",
    "\n",
    "tau_exp2=Thw2/np.log(2)\n",
    "tau_exp2_err=Thw2_err/np.log(2)\n",
    "\n",
    "print('Aus der Strommessung ergeben sich die folgenden Werte:')\n",
    "print('tau_theo_I = ' + str(tau_theo2) + ' +/- ' + str(tau_theo2_err))\n",
    "print('tau_exp_I = ' + str(tau_exp2) + ' +/- ' + str(tau_exp2_err))\n",
    "print()\n",
    "\n",
    "diff_tau2=np.abs(tau_theo2-tau_exp2)\n",
    "diff_tau2_err=np.sqrt((tau_theo2_err)**2+(tau_exp2_err)**2)\n",
    "\n",
    "print('Für die Differenz Theorie-Experiment bei der Strommessung folgt somit:')\n",
    "print('∆(tau2) = ' + str(diff_tau2) + ' +/- ' + str(diff_tau2_err)+' => Sigma= '+str(diff_tau2/diff_tau2_err))"
   ]
  },
  {
   "cell_type": "markdown",
   "metadata": {},
   "source": [
    "### Teil 3: Frequenz- und Phasengang eines RC-Glieds"
   ]
  },
  {
   "cell_type": "code",
   "execution_count": 9,
   "metadata": {
    "collapsed": true
   },
   "outputs": [],
   "source": [
    "#determining cut-off frequenze with the circuit analyzer\n",
    "\n",
    "#lowpass\n",
    "freq_grenz_tp=3.12*1e3 #Hz\n",
    "freq_grenz_tp_err=0.15*1e3\n",
    "\n",
    "#highpass\n",
    "freq_grenz_hp=3.21*1e3\n",
    "freq_grenz_hp_err=freq_grenz_tp_err"
   ]
  },
  {
   "cell_type": "markdown",
   "metadata": {},
   "source": [
    "#### Phasengang am Hochpass"
   ]
  },
  {
   "cell_type": "code",
   "execution_count": 10,
   "metadata": {
    "collapsed": true
   },
   "outputs": [],
   "source": [
    "#frequencies\n",
    "freq=1e3*np.array([1,2,3,4,5,6,7,8,9,10])\n",
    "\n",
    "#time difference\n",
    "delta_t=1e-6*np.array([199, 81, 45, 28, 19.4, 13.3, 9.9, 7.8, 6.2, 4.9])\n",
    "delta_t_err=1e-6*np.array([5, 2, 3, 2, 1, 0.5, 0.5, 0.4, 0.3, 0.3])\n",
    "\n",
    "#phase difference\n",
    "phi=360*freq*delta_t\n",
    "phi_err=phi*np.sqrt((delta_t_err/delta_t)**2)"
   ]
  },
  {
   "cell_type": "code",
   "execution_count": 11,
   "metadata": {},
   "outputs": [
    {
     "name": "stdout",
     "output_type": "stream",
     "text": [
      "Der Fit liefert eine Grenzfrequenz von freq_g = 3285.61284915 +/- 30.9010779158\n"
     ]
    },
    {
     "data": {
      "image/png": "[encoded data removed]",
      "text/plain": [
       "<matplotlib.figure.Figure at 0x2bf387cd5c0>"
      ]
     },
     "metadata": {},
     "output_type": "display_data"
    }
   ],
   "source": [
    "#fit function to data\n",
    "popt,pcov=curve_fit(function,freq,phi,sigma=phi_err)\n",
    "perr = np.sqrt(np.diag(pcov))\n",
    "freq_g=popt[0]\n",
    "freq_g_err=perr[0]\n",
    "\n",
    "print('Der Fit liefert eine Grenzfrequenz von freq_g = '+str(freq_g)+' +/- '+str(freq_g_err))\n",
    "\n",
    "#plot itfunction and data\n",
    "x=np.logspace(2.99, 4, 20)\n",
    "plt.xscale('log')\n",
    "plt.errorbar(freq,phi,yerr=phi_err,linewidth=1,linestyle='',color='darkred',label='Messwerte mit Fehler')\n",
    "plt.xlabel('Frequenz ['+'$KHz$]', size=18)\n",
    "plt.ylabel('Phase'+ ' '+r'$\\phi$' + r' [°]' , size=18)\n",
    "plt.title(r'Diagramm 26: Phasenverschiebung $\\phi$ beim Hochpass ', size=20)\n",
    "plt.plot(x,function(x,popt[0]),color='darkblue',linewidth=0.5,linestyle='--',label=r'Fit-Kurve für $\\phi$')\n",
    "plt.legend(frameon=True,fontsize='large', borderpad=1.5, borderaxespad=1.5)\n",
    "plt.savefig('Diagramme/V241Diagramm20.pdf', format='PDF')"
   ]
  },
  {
   "cell_type": "code",
   "execution_count": 12,
   "metadata": {},
   "outputs": [
    {
     "name": "stdout",
     "output_type": "stream",
     "text": [
      "Aus dem Fit ergibt sich die folgende Grenzfrequenz:\n",
      "freq_g = 3285.61284915 +/- 30.9010779158\n",
      "\n",
      "Für die Differenz Theorie-Experiment folgt somit:\n",
      "∆(freq_g) = 75.6128491466 +/- 153.1498502 => Sigma= 0.493718074472\n"
     ]
    }
   ],
   "source": [
    "#camparing theoretical and experimental (from fit) cut-off frequencie\n",
    "print('Aus dem Fit ergibt sich die folgende Grenzfrequenz:')\n",
    "print('freq_g = ' + str(freq_g) + ' +/- ' + str(freq_g_err))\n",
    "print()\n",
    "\n",
    "diff_freq_g=np.abs(freq_g-freq_grenz_hp)\n",
    "diff_freq_g_err=np.sqrt((freq_g_err)**2+(freq_grenz_hp_err)**2)\n",
    "\n",
    "print('Für die Differenz Theorie-Experiment folgt somit:')\n",
    "print('∆(freq_g) = '+str(diff_freq_g)+' +/- '+str(diff_freq_g_err)+' => Sigma= '+str(diff_freq_g/diff_freq_g_err))"
   ]
  },
  {
   "cell_type": "code",
   "execution_count": 13,
   "metadata": {},
   "outputs": [
    {
     "name": "stdout",
     "output_type": "stream",
     "text": [
      "Für die Differenz Theorie-Experiment folgt somit für den Hochpass:\n",
      "∆(freq_g_hp) = 176.275384934 +/- 407.22937306 => Sigma= 0.432865104031\n",
      "\n",
      "Für die Differenz Theorie-Experiment folgt somit für den Tiefpass:\n",
      "∆(freq_g_tp) = 266.275384934 +/- 407.22937306 => Sigma= 0.653870772958\n"
     ]
    }
   ],
   "source": [
    "#comparing measured and teoretical cut-off frequencie\n",
    "freq_g_theo=1/(2*np.pi*R[0]*C[2])\n",
    "freq_g_theo_err=freq_g_theo*((R_err[0]/R[0])**2+(C_err[2]/C[2])**2)**0.5\n",
    "\n",
    "diff_freq_g_hp=np.abs(freq_g_theo-freq_grenz_hp)\n",
    "diff_freq_g_hp_err=np.sqrt((freq_g_theo_err)**2+(freq_grenz_hp_err)**2)\n",
    "\n",
    "diff_freq_g_tp=np.abs(freq_g_theo-freq_grenz_tp)\n",
    "diff_freq_g_tp_err=np.sqrt((freq_g_theo_err)**2+(freq_grenz_tp_err)**2)\n",
    "\n",
    "print('Für die Differenz Theorie-Experiment folgt somit für den Hochpass:')\n",
    "print('∆(freq_g_hp) = '+str(diff_freq_g_hp)+' +/- '+str(diff_freq_g_hp_err)+' => Sigma= '+str(diff_freq_g_hp/diff_freq_g_hp_err))\n",
    "print()\n",
    "\n",
    "print('Für die Differenz Theorie-Experiment folgt somit für den Tiefpass:')\n",
    "print('∆(freq_g_tp) = '+str(diff_freq_g_tp)+' +/- '+str(diff_freq_g_tp_err)+' => Sigma= '+str(diff_freq_g_tp/diff_freq_g_tp_err))"
   ]
  },
  {
   "cell_type": "markdown",
   "metadata": {},
   "source": [
    "### Teil 4: Frequenzgang eines Serienschwingkreises"
   ]
  },
  {
   "cell_type": "markdown",
   "metadata": {},
   "source": [
    "#### Bestimmung der Induktivität $L_1$"
   ]
  },
  {
   "cell_type": "code",
   "execution_count": 14,
   "metadata": {},
   "outputs": [
    {
     "name": "stdout",
     "output_type": "stream",
     "text": [
      "Die Grenzfrequenz wurde bestimmt auf:\n",
      "22745.130812 +/- 248.695639112 +/- 106.793614963 s^-1\n"
     ]
    }
   ],
   "source": [
    "omega_res=2*np.pi*np.array([3.58e3,3.65e3,3.63e3])\n",
    "omega_res_err=2*np.pi*np.array([0.1e3,0.05e3,0.04e3])\n",
    "\n",
    "omega_res_mean=np.mean(omega_res)\n",
    "omega_res_mean_err=1/3*np.sum(omega_res_err**2)**0.5\n",
    "omega_res_mean_std=np.std(omega_res)/np.sqrt(len(omega_res))\n",
    "\n",
    "print('Die Grenzfrequenz wurde bestimmt auf:')\n",
    "print(str(omega_res_mean) + ' +/- ' + str(omega_res_mean_err) + ' +/- ' + str(omega_res_mean_std) + ' s^-1')"
   ]
  },
  {
   "cell_type": "code",
   "execution_count": 15,
   "metadata": {},
   "outputs": [
    {
     "name": "stdout",
     "output_type": "stream",
     "text": [
      "Aus der ermittelten Grenzfrequenz folgt für die Induktivität:\n",
      "L1 = 0.0411268326808 +/- 0.00420987142012 +/- 0.0041307764395 H\n"
     ]
    }
   ],
   "source": [
    "#With omega_res=sqrt(1/(L*C)) follows\n",
    "\n",
    "L1=1/(omega_res_mean**2*C[2])\n",
    "L1_err=L1*np.sqrt((2*omega_res_mean_err/omega_res_mean)**2+(C_err[2]/C[2])**2)\n",
    "L1_std=L1*np.sqrt((2*omega_res_mean_std/omega_res_mean)**2+(C_err[2]/C[2])**2)\n",
    "\n",
    "print('Aus der ermittelten Grenzfrequenz folgt für die Induktivität:')\n",
    "print('L1 = ' + str(L1) + ' +/- ' + str(L1_err) + ' +/- ' + str(L1_std) + ' H')"
   ]
  },
  {
   "cell_type": "markdown",
   "metadata": {},
   "source": [
    "#### Bestimmung des Verlustwiederstandes $R_V$"
   ]
  },
  {
   "cell_type": "code",
   "execution_count": 16,
   "metadata": {},
   "outputs": [
    {
     "name": "stdout",
     "output_type": "stream",
     "text": [
      "[ 28274.33388231   8419.46831162   3895.57489045]\n",
      "[ 1256.63706144  1256.63706144   628.31853072]\n",
      "Der Verlustwiderstand des jew. Schwingkreises beträgt\n",
      "Rv = [ 162.83379874  126.26606451  113.21265672] Ohm\n",
      " +/- [ 139.06628081   63.62638694   30.69564518] Ohm\n",
      "\n",
      "Daraus folgt für den jew. Gesamtwiderstand R + Rv:\n",
      "R + Rv = [ 1162.83379874   346.26606451   160.21265672] Ohm\n",
      " +/-     [ 147.78169866   64.57024946   30.78546951] Ohm\n"
     ]
    }
   ],
   "source": [
    "#As given ∆omega=(R+Rv)/L1\n",
    "\n",
    "delta_omega=2*np.pi*np.array([4.5e3,1.34e3,0.62e3])\n",
    "delta_omega_err=2*np.pi*np.array([0.2e3,0.2e3,0.1e3])\n",
    "R=np.array([1000,220,47])\n",
    "R_err=0.05*R\n",
    "\n",
    "print(delta_omega)\n",
    "print(delta_omega_err)\n",
    "\n",
    "R_v=delta_omega*L1-R\n",
    "R_v_err=np.sqrt((delta_omega_err*L1)**2+(delta_omega*L1_err)**2+(R_err)**2)\n",
    "\n",
    "R_ges=R+R_v\n",
    "R_ges_err=np.sqrt(R_err**2+R_v_err**2)\n",
    "\n",
    "print('Der Verlustwiderstand des jew. Schwingkreises beträgt')\n",
    "print('Rv = ' + str(R_v) + ' Ohm')\n",
    "print(' +/- ' + str(R_v_err) + ' Ohm')\n",
    "print()\n",
    "print('Daraus folgt für den jew. Gesamtwiderstand R + Rv:')\n",
    "print('R + Rv = ' + str(R_ges) + ' Ohm')\n",
    "print(' +/-     ' + str(R_ges_err) + ' Ohm')"
   ]
  },
  {
   "cell_type": "markdown",
   "metadata": {},
   "source": [
    "#### Zusatzaufgabe für Physiker: Verlustwiderstand aus Spannungsmessung"
   ]
  },
  {
   "cell_type": "code",
   "execution_count": 17,
   "metadata": {},
   "outputs": [
    {
     "name": "stdout",
     "output_type": "stream",
     "text": [
      "Aus der Spannungsmessung folgt für den jew. Verlustwiderstand: \n",
      "Rv = [ 43.47826087  68.16901408  97.13333333] Ohm\n",
      " +/- [ 35.7865012   13.01835509  15.29005668] Ohm\n",
      "\n",
      "Für den Gesamtwiderstand folgt somit:\n",
      "R + Rv = [ 1043.47826087   288.16901408   144.13333333] Ohm\n",
      " +/-     [ 61.48718296  17.04340251  15.46959383] Ohm\n"
     ]
    }
   ],
   "source": [
    "#As given U_A = R/(R+Rv)*U_E\n",
    "\n",
    "U_E=np.array([0.96, 0.93, 0.92])\n",
    "U_E_err=0.01*np.ones(3)\n",
    "\n",
    "U_A=np.array([0.92, 0.71, 0.30])\n",
    "U_A_err=0.03*np.ones(3)\n",
    "\n",
    "R_v2=R*(U_E/U_A-1)\n",
    "R_v2_err=np.sqrt((R_err*(U_E/U_A-1))**2+(R*U_E_err/U_A)**2+(R*U_E*U_A_err/U_A**2)**2)\n",
    "\n",
    "R_ges2=R+R_v2\n",
    "R_ges2_err=np.sqrt(R_err**2+R_v2_err**2)\n",
    "\n",
    "print('Aus der Spannungsmessung folgt für den jew. Verlustwiderstand: ')\n",
    "print('Rv = ' + str(R_v2) + ' Ohm')\n",
    "print(' +/- ' + str(R_v2_err) + ' Ohm')\n",
    "print()\n",
    "print('Für den Gesamtwiderstand folgt somit:')\n",
    "print('R + Rv = ' + str(R_ges2) + ' Ohm')\n",
    "print(' +/-     ' + str(R_ges2_err) + ' Ohm')"
   ]
  },
  {
   "cell_type": "markdown",
   "metadata": {},
   "source": [
    "### Teil 5: Bestimmung der Dämpfungskonstanten eines freien, gedämpften Schwingkreises"
   ]
  },
  {
   "cell_type": "markdown",
   "metadata": {
    "collapsed": true
   },
   "source": [
    "#### Bestimmung der Induktivität der Spule"
   ]
  },
  {
   "cell_type": "code",
   "execution_count": 18,
   "metadata": {},
   "outputs": [
    {
     "name": "stdout",
     "output_type": "stream",
     "text": [
      "Aus der in Aufgabenteil 4 ermittelten Resonanzfrequenz folgt:\n",
      "L1 = 0.0409005506745 +/- 0.00418820409834 H\n"
     ]
    }
   ],
   "source": [
    "#resonant frequency\n",
    "L1_2=1/(omega_res[2]**2*C[2])\n",
    "L1_2_err=L1_2*np.sqrt((2*omega_res_err[2]/omega_res[2])**2+(C_err[2]/C[2])**2)\n",
    "\n",
    "print('Aus der in Aufgabenteil 4 ermittelten Resonanzfrequenz folgt:')\n",
    "print('L1 = ' + str(L1_2) + ' +/- ' + str(L1_2_err) + ' H')"
   ]
  },
  {
   "cell_type": "markdown",
   "metadata": {},
   "source": [
    "#### Logarithmisches Dekrement"
   ]
  },
  {
   "cell_type": "code",
   "execution_count": 21,
   "metadata": {},
   "outputs": [
    {
     "name": "stdout",
     "output_type": "stream",
     "text": [
      "Das logarithmische Dekrement berechnet sich zu:\n",
      "Lambda = 0.464363682123 +/- 0.0562358798662 +/- 0.00864561902252\n"
     ]
    }
   ],
   "source": [
    "A=np.array([1.73, 1.06, 0.67, 0.42, 0.27]) #Volt\n",
    "A_err=0.03*np.ones(5)\n",
    "\n",
    "Lambda=[]\n",
    "Lambda_err=[]\n",
    "for i in range(4):\n",
    "    Lambda.append(np.log(A[i]/A[i+1]))\n",
    "    Lambda_err.append(np.sqrt((A_err[0]/A[i])**2+(A_err[0]/A[i+1])**2))\n",
    "\n",
    "Lambda_err=np.array(Lambda_err)\n",
    "Lambda_mean=np.mean(Lambda)\n",
    "Lambda_mean_err=1/3*np.sum(Lambda_err**2)**0.5\n",
    "Lambda_mean_std=np.std(Lambda)/np.sqrt(len(Lambda))\n",
    "print('Das logarithmische Dekrement berechnet sich zu:')\n",
    "print('Lambda = ' + str(Lambda_mean) + ' +/- ' + str(Lambda_mean_err) + ' +/- ' + str(Lambda_mean_std))"
   ]
  },
  {
   "cell_type": "markdown",
   "metadata": {},
   "source": [
    "#### Gesamtwiderstand"
   ]
  },
  {
   "cell_type": "code",
   "execution_count": 22,
   "metadata": {},
   "outputs": [
    {
     "name": "stdout",
     "output_type": "stream",
     "text": [
      "Der damit ermittelte Gesamtwiderstand berechnet sich zu:\n",
      "R_ges = 101.294561664 +/- 16.1918203414\n"
     ]
    }
   ],
   "source": [
    "#as said in the script\n",
    "T=1.5e-3/4\n",
    "T_err=0.03e-3/4\n",
    "R_ges3=2*L1_2*Lambda_mean/T\n",
    "R_ges3_err=R_ges3*np.sqrt((L1_2_err/L1_2)**2+(Lambda_mean_err/Lambda_mean)**2+(T_err/T)**2)\n",
    "R_ges3_std=R_ges3*np.sqrt((Lambda_mean_std/Lambda_mean)**2)\n",
    "\n",
    "print('Der damit ermittelte Gesamtwiderstand berechnet sich zu:')\n",
    "print('R_ges = ' + str(R_ges3) + ' +/- ' + str(R_ges3_err))"
   ]
  },
  {
   "cell_type": "markdown",
   "metadata": {},
   "source": [
    "#### Vergleich mit den Ergebnissen aus Aufgabe 4"
   ]
  },
  {
   "cell_type": "code",
   "execution_count": 23,
   "metadata": {},
   "outputs": [
    {
     "name": "stdout",
     "output_type": "stream",
     "text": [
      "Für die Differenz zu den beiden Werten aus Aufgabe 4 folgt somit:\n",
      "∆(R_ges1) = 58.9180950508 +/- 34.7839068927 => Sigma= 1.69383201354\n",
      "∆(R_ges2) = 42.8387716689 +/- 22.3938245796 => Sigma= 1.91297254815\n"
     ]
    }
   ],
   "source": [
    "diff_R_ges1=np.abs(R_ges[2]-R_ges3)\n",
    "diff_R_ges1_err=np.sqrt((R_ges_err[2])**2+(R_ges3_err)**2)\n",
    "\n",
    "diff_R_ges2=np.abs(R_ges2[2]-R_ges3)\n",
    "diff_R_ges2_err=np.sqrt((R_ges2_err[2])**2+(R_ges3_err)**2)\n",
    "\n",
    "print('Für die Differenz zu den beiden Werten aus Aufgabe 4 folgt somit:')\n",
    "print('∆(R_ges1) = '+str(diff_R_ges1)+' +/- '+str(diff_R_ges1_err)+' => Sigma= '+str(diff_R_ges1/diff_R_ges1_err))\n",
    "print('∆(R_ges2) = '+str(diff_R_ges2)+' +/- '+str(diff_R_ges2_err)+' => Sigma= '+str(diff_R_ges2/diff_R_ges2_err))"
   ]
  },
  {
   "cell_type": "markdown",
   "metadata": {},
   "source": [
    "### Teil 6: Resonanzüberhöhung"
   ]
  },
  {
   "cell_type": "markdown",
   "metadata": {
    "collapsed": true
   },
   "source": [
    "#### Resonanzfrequenzen am Serienschwingkreis"
   ]
  },
  {
   "cell_type": "code",
   "execution_count": 24,
   "metadata": {},
   "outputs": [
    {
     "name": "stdout",
     "output_type": "stream",
     "text": [
      "Die theoretische Resonanzfrequenz omega_R ergibt sich aus dem Aufbau zu: \n",
      "omega_res_R_theo = 22745.130812 +/- 1627.43798628\n",
      "\n",
      "Die theoretische Resonanzfrequenz omega_C ergibt sich aus dem Aufbau zu: \n",
      "omega_res_C_theo = 22428.4069872 +/- 1652.01916684\n",
      "\n",
      "Die theoretische Resonanzfrequenz omega_L ergibt sich aus dem Aufbau zu: \n",
      "omega_res_L_theo = 23057.5044471 +/- 1606.94572605\n"
     ]
    }
   ],
   "source": [
    "#theoretical values\n",
    "omega_res_R_theo=1/np.sqrt(L1*C[2])\n",
    "omega_res_R_theo_err=omega_res_R_theo*np.sqrt((0.5*C_err[2]/C[2])**2+(0.5*L1_err/L1)**2)\n",
    "\n",
    "print('Die theoretische Resonanzfrequenz omega_R ergibt sich aus dem Aufbau zu: ')\n",
    "print('omega_res_R_theo = ' + str(omega_res_R_theo) + ' +/- ' + str(omega_res_R_theo_err))\n",
    "print()\n",
    "omega_res_C_theo=np.sqrt(omega_res_R_theo**2-0.5*(R[1]/L1)**2)\n",
    "omega_res_C_theo_err=0.5/omega_res_C_theo*np.sqrt((2*omega_res_R_theo*omega_res_R_theo_err)**2+(R[1]*R_err[1]/L1**2)**2+(R[1]**2*L1_err/L1**3)**2)\n",
    "\n",
    "print('Die theoretische Resonanzfrequenz omega_C ergibt sich aus dem Aufbau zu: ')\n",
    "print('omega_res_C_theo = ' + str(omega_res_C_theo) + ' +/- ' + str(omega_res_C_theo_err))\n",
    "print()\n",
    "\n",
    "omega_res_L_theo=np.sqrt(omega_res_R_theo**2+0.5*(R[1]/L1)**2)\n",
    "omega_res_L_theo_err=0.5/omega_res_L_theo*np.sqrt((2*omega_res_R_theo*omega_res_R_theo_err)**2+(R[1]*R_err[1]/L1**2)**2+(R[1]**2*L1_err/L1**3)**2)\n",
    "\n",
    "print('Die theoretische Resonanzfrequenz omega_L ergibt sich aus dem Aufbau zu: ')\n",
    "print('omega_res_L_theo = ' + str(omega_res_L_theo) + ' +/- ' + str(omega_res_L_theo_err))"
   ]
  },
  {
   "cell_type": "code",
   "execution_count": 25,
   "metadata": {
    "collapsed": true
   },
   "outputs": [],
   "source": [
    "#experimental resonant frequencies\n",
    "omega_res_R=2*np.pi*3.78e3\n",
    "omega_res_C=2*np.pi*3.66e3\n",
    "omega_res_L=2*np.pi*3.94e3\n",
    "\n",
    "omega_res2_err=2*np.pi*0.1e3"
   ]
  },
  {
   "cell_type": "markdown",
   "metadata": {},
   "source": [
    "#### Vergleich der Werte"
   ]
  },
  {
   "cell_type": "code",
   "execution_count": 26,
   "metadata": {},
   "outputs": [
    {
     "name": "stdout",
     "output_type": "stream",
     "text": [
      "Der Vergleich aus Messwert und Theorie liefert:\n",
      "\n",
      "∆omega_R = 1005.30964915 +/- 1744.51671681\n",
      "=> Sigma = 0.576268280757(syst.)\n",
      "\n",
      "∆omega_C = 568.051237127 +/- 1767.47036854\n",
      "=> Sigma = 0.321392226562(syst.)\n",
      "\n",
      "∆omega_L = 1698.24566319 +/- 1725.41552749\n",
      "=> Sigma = 0.984253147219(syst.)\n"
     ]
    }
   ],
   "source": [
    "diff_omega_R=np.abs(omega_res_R_theo-omega_res_R)\n",
    "diff_omega_C=np.abs(omega_res_C_theo-omega_res_C)\n",
    "diff_omega_L=np.abs(omega_res_L_theo-omega_res_L)\n",
    "\n",
    "diff_omega_R_err=np.sqrt(omega_res_R_theo_err**2+omega_res2_err**2)\n",
    "diff_omega_C_err=np.sqrt(omega_res_C_theo_err**2+omega_res2_err**2)\n",
    "diff_omega_L_err=np.sqrt(omega_res_L_theo_err**2+omega_res2_err**2)\n",
    "\n",
    "print('Der Vergleich aus Messwert und Theorie liefert:')\n",
    "print()\n",
    "print('∆omega_R = ' + str(diff_omega_R) + ' +/- ' + str(diff_omega_R_err))\n",
    "print('=> Sigma = '+str(diff_omega_R/diff_omega_R_err)+'(syst.)')\n",
    "print()\n",
    "print('∆omega_C = ' + str(diff_omega_C) + ' +/- ' + str(diff_omega_C_err))\n",
    "print('=> Sigma = '+str(diff_omega_C/diff_omega_C_err)+'(syst.)')\n",
    "print()\n",
    "print('∆omega_L = ' + str(diff_omega_L) + ' +/- ' + str(diff_omega_L_err))\n",
    "print('=> Sigma = '+str(diff_omega_L/diff_omega_L_err)+'(syst.)')"
   ]
  },
  {
   "cell_type": "markdown",
   "metadata": {},
   "source": [
    "### Teil 7: Bandsperre"
   ]
  },
  {
   "cell_type": "code",
   "execution_count": 27,
   "metadata": {},
   "outputs": [
    {
     "name": "stdout",
     "output_type": "stream",
     "text": [
      "188.49555921538757\n"
     ]
    }
   ],
   "source": [
    "#theoretical value\n",
    "#omega_res_bs_theo=omega_res[0]\n",
    "#omega_res_bs_theo_err=omega_res_err[0]\n",
    "omega_res_bs_theo=omega_res_mean\n",
    "omega_res_bs_theo_err=omega_res_mean_err\n",
    "\n",
    "\n",
    "#experimental value\n",
    "omega_res_bs=2*np.pi*3.73e3\n",
    "omega_res_bs_err=2*np.pi*0.03e3\n",
    "print(omega_res_bs_err)"
   ]
  },
  {
   "cell_type": "markdown",
   "metadata": {
    "collapsed": true
   },
   "source": [
    "#### Vergleich der Werte"
   ]
  },
  {
   "cell_type": "code",
   "execution_count": 28,
   "metadata": {},
   "outputs": [
    {
     "name": "stdout",
     "output_type": "stream",
     "text": [
      "Der Vergleich aus Messwert und Theorie liefert:\n",
      "∆omega_bs = 691.15038379 +/- 312.057842006 s^-1 => Sigma= 2.21481498221\n"
     ]
    }
   ],
   "source": [
    "diff_omega_bs=np.abs(omega_res_bs_theo-omega_res_bs)\n",
    "diff_omega_bs_err=np.sqrt(omega_res_bs_err**2+omega_res_bs_theo_err**2)\n",
    "\n",
    "print('Der Vergleich aus Messwert und Theorie liefert:')\n",
    "print('∆omega_bs = ' + str(diff_omega_bs) + ' +/- ' + str(diff_omega_bs_err) + ' s^-1'+' => Sigma= '+str(diff_omega_bs/diff_omega_bs_err))"
   ]
  },
  {
   "cell_type": "markdown",
   "metadata": {},
   "source": [
    "### Teil 8: Signalformung"
   ]
  },
  {
   "cell_type": "markdown",
   "metadata": {},
   "source": [
    "#### Vergleich der Dämpfung des $4 \\ kHz$ - Signals"
   ]
  },
  {
   "cell_type": "code",
   "execution_count": 29,
   "metadata": {},
   "outputs": [
    {
     "name": "stdout",
     "output_type": "stream",
     "text": [
      "Verhältnisse zum reinen Signal:\n",
      "[ 0.03396253  0.6982324   0.93110788]\n",
      "[  1.          17.80327909   0.39264494]\n",
      "[  0.98287887  10.1976476    0.27925438]\n",
      "[ 0.03651741  0.89846259  0.60464435]\n",
      "[ 0.00352371  0.09311079  0.05827738]\n",
      "\n",
      "\"Normierte\" Verhältnisse zum reinen Signal:\n",
      "[ 0.04864072  1.          1.33352143]\n",
      "[ 0.05616943  1.          0.02205464]\n",
      "[ 0.0963829  1.         0.0273842]\n",
      "[ 0.04064433  1.          0.67297666]\n",
      "[ 0.03784426  1.          0.62589286]\n"
     ]
    }
   ],
   "source": [
    "#U[V]=1V_rms*10**(L_U[dBV]/20) (script)\n",
    "\n",
    "#s1: incoming signal, s2: highpass filter,s3: lowpass filter (RC), s4: lowpass filter (LC),\n",
    "#s5: bandpass filter (R=1e3 Ohm), s6: bandpass filter (R=47 Ohm))\n",
    "#f1=100.71 Hz, f2=3.6e3 Hz, f3=8e3 Hz\n",
    "\n",
    "s1=10**(1/20*np.array([-2.5,-10.63,-15.94]))\n",
    "s2=10**(1/20*np.array([-31.88,-13.75,-16.56]))\n",
    "s3=10**(1/20*np.array([-2.50,14.38,-24.06]))\n",
    "s4=10**(1/20*np.array([-2.65, 9.54, -27.02]))\n",
    "s5=10**(1/20*np.array([-31.25,-11.56,-20.31]))\n",
    "s6=10**(1/20*np.array([-51.56,-31.25,-40.63]))\n",
    "\n",
    "#ratios to incoming signal\n",
    "v1=s2/s1\n",
    "v2=s3/s1\n",
    "v3=s4/s1\n",
    "v4=s5/s1\n",
    "v5=s6/s1\n",
    "\n",
    "print(\"Verhältnisse zum reinen Signal:\")\n",
    "print(v1)\n",
    "print(v2)\n",
    "print(v3)\n",
    "print(v4)\n",
    "print(v5)\n",
    "print()\n",
    "\n",
    "#comparison to an undampened signal\n",
    "v1_n=v1/v1[1]\n",
    "v2_n=v2/v2[1]\n",
    "v3_n=v3/v3[1]\n",
    "v4_n=v4/v4[1]\n",
    "v5_n=v5/v5[1]\n",
    "\n",
    "print('\"Normierte\" Verhältnisse zum reinen Signal:')\n",
    "print(v1_n)\n",
    "print(v2_n)\n",
    "print(v3_n)\n",
    "print(v4_n)\n",
    "print(v5_n)"
   ]
  },
  {
   "cell_type": "markdown",
   "metadata": {
    "collapsed": true
   },
   "source": [
    "#### Vergleich des $100 \\ Hz$-Signals beim Hochpass mit Aufgabenteil 3"
   ]
  },
  {
   "cell_type": "code",
   "execution_count": 34,
   "metadata": {},
   "outputs": [
    {
     "name": "stdout",
     "output_type": "stream",
     "text": [
      "Durch den Hochpass wird das 100Hz-Signal auf 3.4% gedämpft.\n",
      "In Aufgabe 3 ergab sich eine Dämpfung von ca. 8.91%.\n"
     ]
    }
   ],
   "source": [
    "print(\"Durch den Hochpass wird das 100Hz-Signal auf \"+str(round(100*v1[0],2))+\"% gedämpft.\")\n",
    "\n",
    "#Die in Aufgabe 3 gemessene Dämpfung wird aus Diagramm 6 abgelesen (-21dB)\n",
    "v_auf3=10**(-21/20)\n",
    "print(\"In Aufgabe 3 ergab sich eine Dämpfung von ca. \"+str(round(100*v_auf3,2))+\"%.\")"
   ]
  },
  {
   "cell_type": "code",
   "execution_count": null,
   "metadata": {
    "collapsed": true
   },
   "outputs": [],
   "source": []
  }
 ],
 "metadata": {
  "kernelspec": {
   "display_name": "Python 3",
   "language": "python",
   "name": "python3"
  },
  "language_info": {
   "codemirror_mode": {
    "name": "ipython",
    "version": 3
   },
   "file_extension": ".py",
   "mimetype": "text/x-python",
   "name": "python",
   "nbconvert_exporter": "python",
   "pygments_lexer": "ipython3",
   "version": "3.6.2"
  }
 },
 "nbformat": 4,
 "nbformat_minor": 2
}
