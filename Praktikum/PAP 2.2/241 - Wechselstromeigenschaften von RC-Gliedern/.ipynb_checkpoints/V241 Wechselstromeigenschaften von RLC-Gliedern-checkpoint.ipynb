{
 "cells": [
  {
   "cell_type": "markdown",
   "metadata": {},
   "source": [
    "# Versuch 241: Wechselstromeigenschaften von RLC-Gliedern"
   ]
  },
  {
   "cell_type": "markdown",
   "metadata": {},
   "source": [
    "## Auswertung der Messergebnisse "
   ]
  },
  {
   "cell_type": "code",
   "execution_count": 1,
   "metadata": {
    "collapsed": true
   },
   "outputs": [],
   "source": [
    "#Benötigte Pakete\n",
    "import numpy as np\n",
    "from scipy.optimize import curve_fit\n",
    "import matplotlib.pyplot as plt\n",
    "%matplotlib inline \n",
    "plt.style.use('seaborn-white')\n",
    "plt.rcParams[\"figure.figsize\"][0] = 10\n",
    "plt.rcParams[\"figure.figsize\"][1] = 7\n",
    "plt.rcParams['errorbar.capsize']=2"
   ]
  },
  {
   "cell_type": "markdown",
   "metadata": {},
   "source": [
    "### Teil 1: Bestimmung der Zeitkonstante eines RC-Glieds"
   ]
  },
  {
   "cell_type": "code",
   "execution_count": 14,
   "metadata": {},
   "outputs": [],
   "source": [
    "#determining half-life of voltage for each composition\n",
    "\n",
    "R = np.array([1000, 10000, 1000]) #resistor\n",
    "R_err = R*0.05\n",
    "C = np.array([470, 4.7, 47])*1e-9 #capacitor\n",
    "C_err = 0.1*C\n",
    "Thw = np.array([632/2, 31, 34])*1e-6 #half-life\n",
    "Thw_err = np.array([20, 2, 2])*1e-6"
   ]
  },
  {
   "cell_type": "code",
   "execution_count": 15,
   "metadata": {},
   "outputs": [],
   "source": [
    "#half life of current\n",
    "C2=47e-9\n",
    "C2_err=0.1*C2\n",
    "\n",
    "R2=R[0]\n",
    "R2_err=R_err[0]\n",
    "\n",
    "Thw2=30.8*1e-6\n",
    "Thw2_err=1e-6"
   ]
  },
  {
   "cell_type": "code",
   "execution_count": 16,
   "metadata": {},
   "outputs": [
    {
     "name": "stdout",
     "output_type": "stream",
     "text": [
      "Für die theoretischen Werte wurde ermittelt:\n",
      "tau_theo = [  4.70000000e-04   4.70000000e-05   4.70000000e-05] +/- [  5.25475975e-05   5.25475975e-06   5.25475975e-06]\n"
     ]
    }
   ],
   "source": [
    "#theoretical value for tau\n",
    "\n",
    "tau_theo = R*C \n",
    "tau_theo_err=np.sqrt((C*R_err)**2+(R*C_err)**2)\n",
    "\n",
    "print('Für die theoretischen Werte wurde ermittelt:')\n",
    "print('tau_theo = ' + str(tau_theo) + ' +/- ' + str(tau_theo_err))"
   ]
  },
  {
   "cell_type": "code",
   "execution_count": 17,
   "metadata": {},
   "outputs": [
    {
     "name": "stdout",
     "output_type": "stream",
     "text": [
      "Für die experimentellen Werte wurde ermittelt:\n",
      "tau_exp = [  4.55891633e-04   4.47235463e-05   4.90516314e-05] +/- [  2.88539008e-05   2.88539008e-06   2.88539008e-06]\n"
     ]
    }
   ],
   "source": [
    "#experimental value of tau\n",
    "\n",
    "tau_exp=Thw/np.log(2)\n",
    "tau_exp_err=Thw_err/np.log(2)\n",
    "\n",
    "print('Für die experimentellen Werte wurde ermittelt:')\n",
    "print('tau_exp = ' + str(tau_exp) + ' +/- ' + str(tau_exp_err))"
   ]
  },
  {
   "cell_type": "code",
   "execution_count": 19,
   "metadata": {},
   "outputs": [
    {
     "name": "stdout",
     "output_type": "stream",
     "text": [
      "Der Vergleich der theoretischen und experimentellen Werte liefert:\n",
      "∆(tau) = [  1.41083671e-05   2.27645373e-06   2.05163139e-06] +/- [  5.99482910e-05   5.99482910e-06   5.99482910e-06] => Sigma= [ 0.23534227  0.37973622  0.34223351]\n"
     ]
    }
   ],
   "source": [
    "#comparison between theory and experiment\n",
    "diff_tau=np.abs(tau_theo-tau_exp)\n",
    "diff_tau_err=np.sqrt((tau_theo_err)**2+(tau_exp_err)**2)\n",
    "\n",
    "print('Der Vergleich der theoretischen und experimentellen Werte liefert:')\n",
    "print('∆(tau) = ' + str(diff_tau) + ' +/- ' + str(diff_tau_err)+' => Sigma= '+str(diff_tau/diff_tau_err))"
   ]
  },
  {
   "cell_type": "code",
   "execution_count": 21,
   "metadata": {},
   "outputs": [
    {
     "name": "stdout",
     "output_type": "stream",
     "text": [
      "Aus der Strommessung ergeben sich die folgenden Werte:\n",
      "tau_theo_I = 4.7e-05 +/- 5.25475974712e-06\n",
      "tau_exp_I = 4.44350072594e-05 +/- 1.44269504089e-06\n",
      "\n",
      "Für die Differenz Theorie-Experiment bei der Strommessung folgt somit:\n",
      "∆(tau2) = 2.56499274062e-06 +/- 5.44920810586e-06 => Sigma= 0.470709264684\n"
     ]
    }
   ],
   "source": [
    "#further comparison: half-life with current measurement\n",
    "tau_theo2=R2*C2\n",
    "tau_theo2_err=np.sqrt((C2*R2_err)**2+(R2*C2_err)**2)\n",
    "\n",
    "tau_exp2=Thw2/np.log(2)\n",
    "tau_exp2_err=Thw2_err/np.log(2)\n",
    "\n",
    "print('Aus der Strommessung ergeben sich die folgenden Werte:')\n",
    "print('tau_theo_I = ' + str(tau_theo2) + ' +/- ' + str(tau_theo2_err))\n",
    "print('tau_exp_I = ' + str(tau_exp2) + ' +/- ' + str(tau_exp2_err))\n",
    "print()\n",
    "\n",
    "diff_tau2=np.abs(tau_theo2-tau_exp2)\n",
    "diff_tau2_err=np.sqrt((tau_theo2_err)**2+(tau_exp2_err)**2)\n",
    "\n",
    "print('Für die Differenz Theorie-Experiment bei der Strommessung folgt somit:')\n",
    "print('∆(tau2) = ' + str(diff_tau2) + ' +/- ' + str(diff_tau2_err)+' => Sigma= '+str(diff_tau2/diff_tau2_err))"
   ]
  },
  {
   "cell_type": "markdown",
   "metadata": {},
   "source": [
    "### Teil 3: Frequenz- und Phasengang eines RC-Glieds"
   ]
  },
  {
   "cell_type": "code",
   "execution_count": 22,
   "metadata": {
    "collapsed": true
   },
   "outputs": [],
   "source": [
    "#determining cut-off frequenze with the circuit analyzer\n",
    "\n",
    "#lowpass\n",
    "freq_grenz_tp=3.12*1e3 #Hz\n",
    "freq_grenz_tp_err=0.15*1e3\n",
    "\n",
    "#highpass\n",
    "freq_grenz_hp=3.21*1e3\n",
    "freq_grenz_hp_err=freq_grenz_tp_err"
   ]
  },
  {
   "cell_type": "markdown",
   "metadata": {},
   "source": [
    "#### Phasengang am Hochpass"
   ]
  },
  {
   "cell_type": "code",
   "execution_count": 24,
   "metadata": {},
   "outputs": [],
   "source": [
    "#Frequenzen \n",
    "freq=1e3*np.array([1,2,3,4,5,6,7,8,9,10])\n",
    "\n",
    "#Phasenunterschiede ∆t mit Fehler\n",
    "delta_t=1e-6*np.array([199, 81, 45, 28, 19.4, 13.3, 9.9, 7.8, 6.2, 4.9])\n",
    "delta_t_err=1e-6*np.array([5, 2, 3, 2, 1, 0.5, 0.5, 0.4, 0.3, 0.3])\n",
    "\n",
    "#Phase umgerechnet in Winkel \n",
    "phi=360*freq*delta_t\n",
    "phi_err=phi*np.sqrt((delta_t_err/delta_t)**2)"
   ]
  },
  {
   "cell_type": "code",
   "execution_count": 11,
   "metadata": {},
   "outputs": [
    {
     "name": "stdout",
     "output_type": "stream",
     "text": [
      "Aus dem Fit ergibt sich die folgende Grenzfrequenz:\n",
      "freq_g = 3391.1992184 +/- 56.9768976862\n",
      "\n",
      "Für die Differenz Theorie-Experiment folgt somit:\n",
      "∆(freq_g) = 181.199218396 +/- 160.456744545 => Sigma= 1.12927143643\n"
     ]
    }
   ],
   "source": [
    "#Vergleich der gemessenen Grenzfrequenz mit dem optimalen Fit-Parameter\n",
    "print('Aus dem Fit ergibt sich die folgende Grenzfrequenz:')\n",
    "print('freq_g = ' + str(freq_g) + ' +/- ' + str(freq_g_err))\n",
    "print()\n",
    "\n",
    "diff_freq_g=np.abs(freq_g-freq_grenz_hp)\n",
    "diff_freq_g_err=np.sqrt((freq_g_err)**2+(freq_grenz_hp_err)**2)\n",
    "\n",
    "print('Für die Differenz Theorie-Experiment folgt somit:')\n",
    "print('∆(freq_g) = '+str(diff_freq_g)+' +/- '+str(diff_freq_g_err)+' => Sigma= '+str(diff_freq_g/diff_freq_g_err))"
   ]
  },
  {
   "cell_type": "code",
   "execution_count": 12,
   "metadata": {},
   "outputs": [
    {
     "name": "stdout",
     "output_type": "stream",
     "text": [
      "Für die Differenz Theorie-Experiment folgt somit für den Hochpass:\n",
      "∆(freq_g_hp) = 176.275384934 +/- 407.22937306 => Sigma= 0.432865104031\n",
      "\n",
      "Für die Differenz Theorie-Experiment folgt somit für den Tiefpass:\n",
      "∆(freq_g_tp) = 356.275384934 +/- 407.22937306 => Sigma= 0.874876441886\n"
     ]
    }
   ],
   "source": [
    "#Vergleich der gemessen Grenzfrequenzen mit den Theoriewerten\n",
    "freq_g_theo=1/(2*np.pi*R1*C3)\n",
    "freq_g_theo_err=freq_g_theo*((R1_err/R1)**2+(C3_err/C3)**2)**0.5\n",
    "\n",
    "diff_freq_g_hp=np.abs(freq_g_theo-freq_grenz_hp)\n",
    "diff_freq_g_hp_err=np.sqrt((freq_g_theo_err)**2+(freq_grenz_hp_err)**2)\n",
    "\n",
    "diff_freq_g_tp=np.abs(freq_g_theo-freq_grenz_tp)\n",
    "diff_freq_g_tp_err=np.sqrt((freq_g_theo_err)**2+(freq_grenz_tp_err)**2)\n",
    "\n",
    "print('Für die Differenz Theorie-Experiment folgt somit für den Hochpass:')\n",
    "print('∆(freq_g_hp) = '+str(diff_freq_g_hp)+' +/- '+str(diff_freq_g_hp_err)+' => Sigma= '+str(diff_freq_g_hp/diff_freq_g_hp_err))\n",
    "print()\n",
    "\n",
    "print('Für die Differenz Theorie-Experiment folgt somit für den Tiefpass:')\n",
    "print('∆(freq_g_tp) = '+str(diff_freq_g_tp)+' +/- '+str(diff_freq_g_tp_err)+' => Sigma= '+str(diff_freq_g_tp/diff_freq_g_tp_err))"
   ]
  },
  {
   "cell_type": "markdown",
   "metadata": {},
   "source": [
    "### Teil 4: Frequenzgang eines Serienschwingkreises"
   ]
  },
  {
   "cell_type": "markdown",
   "metadata": {},
   "source": [
    "#### Bestimmung der Induktivität $L_1$"
   ]
  },
  {
   "cell_type": "code",
   "execution_count": 13,
   "metadata": {},
   "outputs": [
    {
     "name": "stdout",
     "output_type": "stream",
     "text": [
      "Die Grenzfrequenz wurde bestimmt auf:\n",
      "22996.4582243 +/- 256.509966032 +/- 410.415945652 s^-1\n"
     ]
    }
   ],
   "source": [
    "omega_res=2*np.pi*np.array([3.82e3,3.58e3,3.58e3])\n",
    "omega_res_err=2*np.pi*np.array([0.1e3,0.05e3,0.05e3])\n",
    "\n",
    "omega_res_mean=np.mean(omega_res)\n",
    "omega_res_mean_err=1/3*np.sum(omega_res_err**2)**0.5\n",
    "omega_res_mean_std=np.std(omega_res)/np.sqrt(len(omega_res))\n",
    "\n",
    "print('Die Grenzfrequenz wurde bestimmt auf:')\n",
    "print(str(omega_res_mean) + ' +/- ' + str(omega_res_mean_err) + ' +/- ' + str(omega_res_mean_std) + ' s^-1')"
   ]
  },
  {
   "cell_type": "code",
   "execution_count": 14,
   "metadata": {},
   "outputs": [
    {
     "name": "stdout",
     "output_type": "stream",
     "text": [
      "Aus der ermittelten Grenzfrequenz folgt für die Induktivität:\n",
      "L1 = 0.040232797798 +/- 0.0041221786899 +/- 0.0014360630314 H\n"
     ]
    }
   ],
   "source": [
    "#Wir wissen omega_res=sqrt(1/(L*C)). Daraus folgt:\n",
    "\n",
    "L1=1/(omega_res_mean**2*C3)\n",
    "L1_err=L1*np.sqrt((2*omega_res_mean_err/omega_res_mean)**2+(C3_err/C3)**2)\n",
    "L1_std=L1*np.sqrt((2*omega_res_mean_std/omega_res_mean)**2)\n",
    "\n",
    "print('Aus der ermittelten Grenzfrequenz folgt für die Induktivität:')\n",
    "print('L1 = ' + str(L1) + ' +/- ' + str(L1_err) + ' +/- ' + str(L1_std) + ' H')"
   ]
  },
  {
   "cell_type": "markdown",
   "metadata": {},
   "source": [
    "#### Bestimmung des Verlustwiederstandes $R_V$"
   ]
  },
  {
   "cell_type": "code",
   "execution_count": 15,
   "metadata": {},
   "outputs": [
    {
     "name": "stdout",
     "output_type": "stream",
     "text": [
      "Der Verlustwiderstand des jew. Schwingkreises beträgt\n",
      "Rv = [ 258.89481748  118.73876615  142.59259299] Ohm\n",
      " +/- [ 140.62686379   38.53961505   23.29425387] Ohm\n",
      "\n",
      "Daraus folgt für den jew. Gesamtwiderstand R + Rv:\n",
      "R + Rv = [ 1258.89481748   338.73876615   189.59259299] Ohm\n",
      " +/-     [ 149.25118029   40.07869669   23.41249161] Ohm\n"
     ]
    }
   ],
   "source": [
    "#Aus Anleitung: ∆omega=(R+Rv)/L1\n",
    "\n",
    "delta_omega=2*np.pi*np.array([4.98e3,1.34e3,0.75e3])\n",
    "delta_omega_err=2*np.pi*np.array([0.10e3,0.05e3,0.05e3])\n",
    "R=np.array([1000,220,47])\n",
    "R_err=0.05*R\n",
    "\n",
    "R_v=delta_omega*L1-R\n",
    "R_v_err=np.sqrt((delta_omega_err*L1)**2+(delta_omega*L1_err)**2+(R_err)**2)\n",
    "\n",
    "R_ges=R+R_v\n",
    "R_ges_err=np.sqrt(R_err**2+R_v_err**2)\n",
    "\n",
    "print('Der Verlustwiderstand des jew. Schwingkreises beträgt')\n",
    "print('Rv = ' + str(R_v) + ' Ohm')\n",
    "print(' +/- ' + str(R_v_err) + ' Ohm')\n",
    "print()\n",
    "print('Daraus folgt für den jew. Gesamtwiderstand R + Rv:')\n",
    "print('R + Rv = ' + str(R_ges) + ' Ohm')\n",
    "print(' +/-     ' + str(R_ges_err) + ' Ohm')"
   ]
  },
  {
   "cell_type": "markdown",
   "metadata": {},
   "source": [
    "#### Zusatzaufgabe für Physiker: Verlustwiderstand aus Spannungsmessung"
   ]
  },
  {
   "cell_type": "code",
   "execution_count": 16,
   "metadata": {},
   "outputs": [
    {
     "name": "stdout",
     "output_type": "stream",
     "text": [
      "Aus der Spannungsmessung folgt für den jew. Verlustwiderstand: \n",
      "Rv = [ 531.25        220.          195.42105263] Ohm\n",
      " +/- [ 82.66871223  30.45210494  39.81305425] Ohm\n",
      "\n",
      "Für den Gesamtwiderstand folgt somit:\n",
      "R + Rv = [ 1531.25         440.           242.42105263] Ohm\n",
      " +/-     [ 96.61322881  32.37793532  39.88234934] Ohm\n"
     ]
    }
   ],
   "source": [
    "#Aus Anleitung: U_A = R/(R+Rv)*U_E\n",
    "\n",
    "U_E=0.98*np.ones(3)\n",
    "U_E_err=0.02*np.ones(3)\n",
    "\n",
    "U_A=np.array([0.64,0.49,0.19])\n",
    "U_A_err=0.03*np.ones(3)\n",
    "\n",
    "R_v2=R*(U_E/U_A-1)\n",
    "R_v2_err=np.sqrt((R_err*(U_E/U_A-1))**2+(R*U_E_err/U_A)**2+(R*U_E*U_A_err/U_A**2)**2)\n",
    "\n",
    "R_ges2=R+R_v2\n",
    "R_ges2_err=np.sqrt(R_err**2+R_v2_err**2)\n",
    "\n",
    "print('Aus der Spannungsmessung folgt für den jew. Verlustwiderstand: ')\n",
    "print('Rv = ' + str(R_v2) + ' Ohm')\n",
    "print(' +/- ' + str(R_v2_err) + ' Ohm')\n",
    "print()\n",
    "print('Für den Gesamtwiderstand folgt somit:')\n",
    "print('R + Rv = ' + str(R_ges2) + ' Ohm')\n",
    "print(' +/-     ' + str(R_ges2_err) + ' Ohm')"
   ]
  },
  {
   "cell_type": "markdown",
   "metadata": {},
   "source": [
    "### Teil 5: Bestimmung der Dämpfungskonstanten eines freien, gedämpften Schwingkreises"
   ]
  },
  {
   "cell_type": "markdown",
   "metadata": {
    "collapsed": true
   },
   "source": [
    "#### Bestimmung der Induktivität der Spule"
   ]
  },
  {
   "cell_type": "code",
   "execution_count": 17,
   "metadata": {},
   "outputs": [
    {
     "name": "stdout",
     "output_type": "stream",
     "text": [
      "Aus der in Aufgabenteil 4 ermittelten Resonanzfrequenz folgt:\n",
      "L1 = 0.0420510023238 +/- 0.00436607080512 H\n"
     ]
    }
   ],
   "source": [
    "#Resonanzfrequenz aus Aufgabe 4\n",
    "L1_2=1/(omega_res[2]**2*C3)\n",
    "L1_2_err=L1_2*np.sqrt((2*omega_res_err[2]/omega_res[2])**2+(C3_err/C3)**2)\n",
    "\n",
    "print('Aus der in Aufgabenteil 4 ermittelten Resonanzfrequenz folgt:')\n",
    "print('L1 = ' + str(L1_2) + ' +/- ' + str(L1_2_err) + ' H')"
   ]
  },
  {
   "cell_type": "markdown",
   "metadata": {},
   "source": [
    "#### Logarithmisches Dekrement"
   ]
  },
  {
   "cell_type": "code",
   "execution_count": 18,
   "metadata": {},
   "outputs": [
    {
     "name": "stdout",
     "output_type": "stream",
     "text": [
      "Das logarithmische Dekrement berechnet sich zu:\n",
      "Lambda = 0.519194606065 +/- 0.101101835258 +/- 0.00617300884657\n"
     ]
    }
   ],
   "source": [
    "A=np.array([3.75,2.25,1.36,0.80,0.47]) #Volt\n",
    "A_err=0.10*np.ones(5)\n",
    "\n",
    "Lambda=[]\n",
    "Lambda_err=[]\n",
    "for i in range(4):\n",
    "    Lambda.append(np.log(A[i]/A[i+1]))\n",
    "    Lambda_err.append(np.sqrt((A_err[0]/A[i])**2+(A_err[0]/A[i+1])**2))\n",
    "\n",
    "Lambda_err=np.array(Lambda_err)\n",
    "Lambda_mean=np.mean(Lambda)\n",
    "Lambda_mean_err=1/3*np.sum(Lambda_err**2)**0.5\n",
    "Lambda_mean_std=np.std(Lambda)/np.sqrt(len(Lambda))\n",
    "print('Das logarithmische Dekrement berechnet sich zu:')\n",
    "print('Lambda = ' + str(Lambda_mean) + ' +/- ' + str(Lambda_mean_err) + ' +/- ' + str(Lambda_mean_std))"
   ]
  },
  {
   "cell_type": "markdown",
   "metadata": {},
   "source": [
    "#### Gesamtwiderstand"
   ]
  },
  {
   "cell_type": "code",
   "execution_count": 19,
   "metadata": {},
   "outputs": [
    {
     "name": "stdout",
     "output_type": "stream",
     "text": [
      "Der damit ermittelte Gesamtwiderstand berechnet sich zu:\n",
      "R_ges = 161.723359897 +/- 36.465900301 +/- 1.92282377298\n"
     ]
    }
   ],
   "source": [
    "#nach Anleitung Lambda=delta*T und delta=R_ges/(2L) also R_ges=2L*Lambda/T\n",
    "T=1.08e-3/4\n",
    "T_err=0.05e-3/4\n",
    "R_ges3=2*L1_2*Lambda_mean/T\n",
    "R_ges3_err=R_ges3*np.sqrt((L1_2_err/L1_2)**2+(Lambda_mean_err/Lambda_mean)**2+(T_err/T)**2)\n",
    "R_ges3_std=R_ges3*np.sqrt((Lambda_mean_std/Lambda_mean)**2)\n",
    "\n",
    "print('Der damit ermittelte Gesamtwiderstand berechnet sich zu:')\n",
    "print('R_ges = ' + str(R_ges3) + ' +/- ' + str(R_ges3_err) + ' +/- ' + str(R_ges3_std))"
   ]
  },
  {
   "cell_type": "markdown",
   "metadata": {},
   "source": [
    "#### Vergleich mit den Ergebnissen aus Aufgabe 4"
   ]
  },
  {
   "cell_type": "code",
   "execution_count": 20,
   "metadata": {},
   "outputs": [
    {
     "name": "stdout",
     "output_type": "stream",
     "text": [
      "Für die Differenz zu den beiden Werten aus Aufgabe 4 folgt somit:\n",
      "∆(R_ges1) = 27.8692330959 +/- 43.3348202756 => Sigma= 0.643114080517\n",
      "∆(R_ges2) = 80.6976927342 +/- 54.0403892822 => Sigma= 1.49328481541\n"
     ]
    }
   ],
   "source": [
    "diff_R_ges1=np.abs(R_ges[2]-R_ges3)\n",
    "diff_R_ges1_err=np.sqrt((R_ges_err[2])**2+(R_ges3_err)**2)\n",
    "\n",
    "diff_R_ges2=np.abs(R_ges2[2]-R_ges3)\n",
    "diff_R_ges2_err=np.sqrt((R_ges2_err[2])**2+(R_ges3_err)**2)\n",
    "\n",
    "#Den Vergleich bezüglich des statistischen Fehlers halte ich nicht für sinnvoll, da der stat. Fehler so gering ist.\n",
    "\n",
    "print('Für die Differenz zu den beiden Werten aus Aufgabe 4 folgt somit:')\n",
    "print('∆(R_ges1) = '+str(diff_R_ges1)+' +/- '+str(diff_R_ges1_err)+' => Sigma= '+str(diff_R_ges1/diff_R_ges1_err))\n",
    "print('∆(R_ges2) = '+str(diff_R_ges2)+' +/- '+str(diff_R_ges2_err)+' => Sigma= '+str(diff_R_ges2/diff_R_ges2_err))"
   ]
  },
  {
   "cell_type": "markdown",
   "metadata": {},
   "source": [
    "### Teil 6: Resonanzüberhöhung"
   ]
  },
  {
   "cell_type": "markdown",
   "metadata": {
    "collapsed": true
   },
   "source": [
    "#### Resonanzfrequenzen am Serienschwingkreis"
   ]
  },
  {
   "cell_type": "code",
   "execution_count": 21,
   "metadata": {},
   "outputs": [
    {
     "name": "stdout",
     "output_type": "stream",
     "text": [
      "Die theoretische Resonanzfrequenz omega_R ergibt sich aus dem Aufbau zu: \n",
      "omega_res_R_theo = 22996.4582243 +/- 1646.20254434 +/- 410.415945652 s^-1\n",
      "\n",
      "Die theoretische Resonanzfrequenz omega_C ergibt sich aus dem Aufbau zu: \n",
      "omega_res_C_theo = 22669.0674512 +/- 1671.66909413 +/- 417.008215096 s^-1\n",
      "\n",
      "Die theoretische Resonanzfrequenz omega_L ergibt sich aus dem Aufbau zu: \n",
      "omega_res_L_theo = 23319.2530459 +/- 1625.05974682 +/- 405.381224566 s^-1\n"
     ]
    }
   ],
   "source": [
    "#Theoretischer Wert\n",
    "omega_res_R_theo=1/np.sqrt(L1*C3)\n",
    "omega_res_R_theo_err=omega_res_R_theo*np.sqrt((0.5*C3_err/C3)**2+(0.5*L1_err/L1)**2)\n",
    "omega_res_R_theo_std=omega_res_R_theo*np.sqrt((0.5*L1_std/L1)**2)\n",
    "\n",
    "print('Die theoretische Resonanzfrequenz omega_R ergibt sich aus dem Aufbau zu: ')\n",
    "print('omega_res_R_theo = ' + str(omega_res_R_theo) + ' +/- ' + str(omega_res_R_theo_err) + ' +/- ' + str(omega_res_R_theo_std) + ' s^-1')\n",
    "print()\n",
    "omega_res_C_theo=np.sqrt(omega_res_R_theo**2-0.5*(R[1]/L1)**2)\n",
    "omega_res_C_theo_err=0.5/omega_res_C_theo*np.sqrt((2*omega_res_R_theo*omega_res_R_theo_err)**2+(R[1]*R_err[1]/L1**2)**2+(R[1]**2*L1_err/L1**3)**2)\n",
    "omega_res_C_theo_std=0.5/omega_res_C_theo*np.sqrt((2*omega_res_R_theo*omega_res_R_theo_std)**2+(R[1]**2*L1_std/L1**3)**2)\n",
    "\n",
    "print('Die theoretische Resonanzfrequenz omega_C ergibt sich aus dem Aufbau zu: ')\n",
    "print('omega_res_C_theo = ' + str(omega_res_C_theo) + ' +/- ' + str(omega_res_C_theo_err) + ' +/- ' + str(omega_res_C_theo_std) + ' s^-1')\n",
    "print()\n",
    "\n",
    "omega_res_L_theo=np.sqrt(omega_res_R_theo**2+0.5*(R[1]/L1)**2)\n",
    "omega_res_L_theo_err=0.5/omega_res_L_theo*np.sqrt((2*omega_res_R_theo*omega_res_R_theo_err)**2+(R[1]*R_err[1]/L1**2)**2+(R[1]**2*L1_err/L1**3)**2)\n",
    "omega_res_L_theo_std=0.5/omega_res_L_theo*np.sqrt((2*omega_res_R_theo*omega_res_R_theo_std)**2+(R[1]**2*L1_std/L1**3)**2)\n",
    "\n",
    "print('Die theoretische Resonanzfrequenz omega_L ergibt sich aus dem Aufbau zu: ')\n",
    "print('omega_res_L_theo = ' + str(omega_res_L_theo) + ' +/- ' + str(omega_res_L_theo_err) + ' +/- ' + str(omega_res_L_theo_std) + ' s^-1')"
   ]
  },
  {
   "cell_type": "code",
   "execution_count": 22,
   "metadata": {
    "collapsed": true
   },
   "outputs": [],
   "source": [
    "#Resonanzfrequenz aus Abgriff an Widerstand, Kondensator und Spule\n",
    "omega_res_R=2*np.pi*3.70e3\n",
    "omega_res_C=2*np.pi*3.60e3\n",
    "omega_res_L=2*np.pi*3.82e3\n",
    "\n",
    "omega_res2_err=2*np.pi*0.05e3"
   ]
  },
  {
   "cell_type": "markdown",
   "metadata": {},
   "source": [
    "#### Vergleich der Werte"
   ]
  },
  {
   "cell_type": "code",
   "execution_count": 23,
   "metadata": {},
   "outputs": [
    {
     "name": "stdout",
     "output_type": "stream",
     "text": [
      "Der Vergleich aus Messwert und Theorie liefert:\n",
      "\n",
      "∆omega_R = 251.327412287 +/- 1675.91135237 +/- 410.415945652 s^-1\n",
      "=> Sigma = 0.149964621895(syst.) & 0.612372435696(std.)\n",
      "\n",
      "∆omega_C = 49.6003453057 +/- 1700.93315691 +/- 417.008215096 s^-1\n",
      "=> Sigma = 0.0291606669576(syst.) & 0.118943328957(std.)\n",
      "\n",
      "∆omega_L = 682.514827563 +/- 1655.14809753 +/- 405.381224566 s^-1\n",
      "=> Sigma = 0.412358766314(syst.) & 1.68363699699(std.)\n"
     ]
    }
   ],
   "source": [
    "diff_omega_R=np.abs(omega_res_R_theo-omega_res_R)\n",
    "diff_omega_C=np.abs(omega_res_C_theo-omega_res_C)\n",
    "diff_omega_L=np.abs(omega_res_L_theo-omega_res_L)\n",
    "\n",
    "diff_omega_R_err=np.sqrt(omega_res_R_theo_err**2+omega_res2_err**2)\n",
    "diff_omega_C_err=np.sqrt(omega_res_C_theo_err**2+omega_res2_err**2)\n",
    "diff_omega_L_err=np.sqrt(omega_res_L_theo_err**2+omega_res2_err**2)\n",
    "diff_omega_R_std=omega_res_R_theo_std\n",
    "diff_omega_C_std=omega_res_C_theo_std\n",
    "diff_omega_L_std=omega_res_L_theo_std\n",
    "\n",
    "print('Der Vergleich aus Messwert und Theorie liefert:')\n",
    "print()\n",
    "print('∆omega_R = ' + str(diff_omega_R) + ' +/- ' + str(diff_omega_R_err) + ' +/- ' + str(diff_omega_R_std) + ' s^-1')\n",
    "print('=> Sigma = '+str(diff_omega_R/diff_omega_R_err)+'(syst.) & '+str(diff_omega_R/diff_omega_R_std)+'(std.)')\n",
    "print()\n",
    "print('∆omega_C = ' + str(diff_omega_C) + ' +/- ' + str(diff_omega_C_err) + ' +/- ' + str(diff_omega_C_std) + ' s^-1')\n",
    "print('=> Sigma = '+str(diff_omega_C/diff_omega_C_err)+'(syst.) & '+str(diff_omega_C/diff_omega_C_std)+'(std.)')\n",
    "print()\n",
    "print('∆omega_L = ' + str(diff_omega_L) + ' +/- ' + str(diff_omega_L_err) + ' +/- ' + str(diff_omega_L_std) + ' s^-1')\n",
    "print('=> Sigma = '+str(diff_omega_L/diff_omega_L_err)+'(syst.) & '+str(diff_omega_L/diff_omega_L_std)+'(std.)')"
   ]
  },
  {
   "cell_type": "markdown",
   "metadata": {},
   "source": [
    "### Teil 7: Bandsperre"
   ]
  },
  {
   "cell_type": "code",
   "execution_count": 24,
   "metadata": {
    "collapsed": true
   },
   "outputs": [],
   "source": [
    "#Theoretischer Wert \n",
    "#omega_res_bs_theo=omega_res[0]\n",
    "#omega_res_bs_theo_err=omega_res_err[0]\n",
    "omega_res_bs_theo=omega_res_mean\n",
    "omega_res_bs_theo_err=omega_res_mean_err\n",
    "\n",
    "\n",
    "#Messwert\n",
    "omega_res_bs=2*np.pi*3.80e3\n",
    "omega_res_bs_err=omega_res2_err"
   ]
  },
  {
   "cell_type": "markdown",
   "metadata": {
    "collapsed": true
   },
   "source": [
    "#### Vergleich der Werte"
   ]
  },
  {
   "cell_type": "code",
   "execution_count": 25,
   "metadata": {},
   "outputs": [
    {
     "name": "stdout",
     "output_type": "stream",
     "text": [
      "Der Vergleich aus Messwert und Theorie liefert:\n",
      "∆omega_bs = 879.645943005 +/- 405.577867597 s^-1 => Sigma= 2.16887067388\n"
     ]
    }
   ],
   "source": [
    "diff_omega_bs=np.abs(omega_res_bs_theo-omega_res_bs)\n",
    "diff_omega_bs_err=np.sqrt(omega_res_bs_err**2+omega_res_bs_theo_err**2)\n",
    "\n",
    "print('Der Vergleich aus Messwert und Theorie liefert:')\n",
    "print('∆omega_bs = ' + str(diff_omega_bs) + ' +/- ' + str(diff_omega_bs_err) + ' s^-1'+' => Sigma= '+str(diff_omega_bs/diff_omega_bs_err))"
   ]
  },
  {
   "cell_type": "markdown",
   "metadata": {},
   "source": [
    "### Teil 8: Signalformung"
   ]
  },
  {
   "cell_type": "markdown",
   "metadata": {
    "collapsed": true
   },
   "source": [
    "Aus den generierten Ausdrucken wird die Schaltung mit der besten Filterung des 4 kHz-Signals ausgewählt.\n",
    "\n",
    "$\\rightarrow$ Am besten ist die Filterung für den Bandpassfilter mit $R=47 \\ \\Omega$."
   ]
  },
  {
   "cell_type": "markdown",
   "metadata": {},
   "source": [
    "#### Vergleich der Dämpfung des $4 \\ kHz$ - Signals"
   ]
  },
  {
   "cell_type": "code",
   "execution_count": 26,
   "metadata": {},
   "outputs": [
    {
     "name": "stdout",
     "output_type": "stream",
     "text": [
      "Verhältnisse zum reinen Signal:\n",
      "[ 0.03523709  0.7236024   0.83464155]\n",
      "[ 0.98287887  9.84011106  0.24154608]\n",
      "[ 0.03651741  0.89846259  0.56234133]\n",
      "[ 0.00352371  0.09311079  0.05420009]\n",
      "\n",
      "\"Normierte\" Verhältnisse zum reinen Signal:\n",
      "[ 0.04869675  1.          1.15345326]\n",
      "[ 0.09988494  1.          0.02454709]\n",
      "[ 0.04064433  1.          0.62589286]\n",
      "[ 0.03784426  1.          0.58210322]\n"
     ]
    }
   ],
   "source": [
    "#Umrechnung von dBV in absolute Größen gemäß Formel 68 des Skripts:\n",
    "#U[V]=1V_rms*10**(L_U[dBV]/20)\n",
    "\n",
    "#Effektivwerte der Spannungen der drei Frequenzen für die fünf Schaltungen (s1: reines Signal, s2: Hochpassfilter,\n",
    "#s3: Tiefpassfilter (LC), s4: Bandpassfilter (R=1e3 Ohm), s5: Bandpassfilter (R=47 Ohm))\n",
    "#f1=100.71 Hz, f2=3.6e3 Hz, f3=8e3 Hz\n",
    "\n",
    "s1=10**(1/20*np.array([-2.5,-10.63,-15.31]))\n",
    "s2=10**(1/20*np.array([-31.56,-13.44,-16.88]))\n",
    "s3=10**(1/20*np.array([-2.65,9.23,-27.65]))\n",
    "s4=10**(1/20*np.array([-31.25,-11.56,-20.31]))\n",
    "s5=10**(1/20*np.array([-51.56,-31.25,-40.63]))\n",
    "\n",
    "#Die Verhältnisse zum reinen Signal\n",
    "v1=s2/s1\n",
    "v2=s3/s1\n",
    "v3=s4/s1\n",
    "v4=s5/s1\n",
    "\n",
    "print(\"Verhältnisse zum reinen Signal:\")\n",
    "print(v1)\n",
    "print(v2)\n",
    "print(v3)\n",
    "print(v4)\n",
    "print()\n",
    "\n",
    "#Zum Vergleich der Schaltungen werden alle Verhältnisse so \"normiert\", dass das 4kHz-Signal ungedämpft erscheint\n",
    "v1_n=v1/v1[1]\n",
    "v2_n=v2/v2[1]\n",
    "v3_n=v3/v3[1]\n",
    "v4_n=v4/v4[1]\n",
    "\n",
    "print('\"Normierte\" Verhältnisse zum reinen Signal:')\n",
    "print(v1_n)\n",
    "print(v2_n)\n",
    "print(v3_n)\n",
    "print(v4_n)"
   ]
  },
  {
   "cell_type": "markdown",
   "metadata": {
    "collapsed": true
   },
   "source": [
    "#### Vergleich des $100 \\ Hz$-Signals beim Hochpass mit Aufgabenteil 3"
   ]
  },
  {
   "cell_type": "code",
   "execution_count": 27,
   "metadata": {},
   "outputs": [
    {
     "name": "stdout",
     "output_type": "stream",
     "text": [
      "Durch den Hochpass wird das 100Hz-Signal auf 3.52% gedämpft.\n",
      "In Aufgabe 3 ergab sich eine Dämpfung von ca. 3.76%.\n",
      "\n",
      "Mit einem Ablesefehler aus dem Diagramm von 1dB folgt:\n",
      "Das 1 Sigma Intervall geht von 3.35% bis 4.22%.\n",
      "Folglich stimmen die Werte im 1 Sigma Intervall überein, da 3.52% Element des Intervalls ist.\n"
     ]
    }
   ],
   "source": [
    "print(\"Durch den Hochpass wird das 100Hz-Signal auf \"+str(round(100*v1[0],2))+\"% gedämpft.\")\n",
    "\n",
    "#Die in Aufgabe 3 gemessene Dämpfung wird aus Diagramm 6 abgelesen (-28.5dB)\n",
    "v_auf3=10**(-28.5/20)\n",
    "print(\"In Aufgabe 3 ergab sich eine Dämpfung von ca. \"+str(round(100*v_auf3,2))+\"%.\")\n",
    "print()\n",
    "\n",
    "#Vergleich der beiden Werte\n",
    "#In Aufgabe 8 war keine Fehlerabschätzung notwendig, die Ablesung aus Diagramm 6 hat einen geschätzten Fehler von 1dB.\n",
    "print(\"Mit einem Ablesefehler aus dem Diagramm von 1dB folgt:\")\n",
    "#Damit ergibt sich als 1 Sigma Intervall:\n",
    "v_auf3_1=10**(-29.5/20)\n",
    "v_auf3_2=10**(-27.5/20)\n",
    "print(\"Das 1 Sigma Intervall geht von \"+str(round(100*v_auf3_1,2))+\"% bis \"+str(round(100*v_auf3_2,2))+\"%.\")\n",
    "print(\"Folglich stimmen die Werte im 1 Sigma Intervall überein, da \"+str(round(100*v1[0],2))+\"% Element des Intervalls ist.\")"
   ]
  },
  {
   "cell_type": "markdown",
   "metadata": {},
   "source": [
    "### Teil 9: Aufbau eines AM-Empfängers"
   ]
  },
  {
   "cell_type": "markdown",
   "metadata": {},
   "source": [
    "Dieser Aufgabenteil wird in schriftlicher Form im Messprotokoll kommentiert."
   ]
  }
 ],
 "metadata": {
  "kernelspec": {
   "display_name": "Python 3",
   "language": "python",
   "name": "python3"
  },
  "language_info": {
   "codemirror_mode": {
    "name": "ipython",
    "version": 3
   },
   "file_extension": ".py",
   "mimetype": "text/x-python",
   "name": "python",
   "nbconvert_exporter": "python",
   "pygments_lexer": "ipython3",
   "version": "3.6.2"
  }
 },
 "nbformat": 4,
 "nbformat_minor": 2
}
