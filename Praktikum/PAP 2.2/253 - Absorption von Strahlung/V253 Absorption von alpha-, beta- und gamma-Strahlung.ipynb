{
 "cells": [
  {
   "cell_type": "markdown",
   "metadata": {},
   "source": [
    "# Versuch 253: Absorption von $\\alpha$-, $\\beta$- & $\\gamma$-Strahlung"
   ]
  },
  {
   "cell_type": "markdown",
   "metadata": {},
   "source": [
    "## Auswertung der Messergebnisse"
   ]
  },
  {
   "cell_type": "code",
   "execution_count": 1,
   "metadata": {
    "collapsed": true
   },
   "outputs": [],
   "source": [
    "#Benötigte Pakete\n",
    "import numpy as np\n",
    "from scipy.optimize import curve_fit\n",
    "import scipy.integrate as integrate\n",
    "from scipy.stats import chi2\n",
    "import matplotlib.pyplot as plt\n",
    "%matplotlib inline \n",
    "#Plot settings\n",
    "plt.rcParams['errorbar.capsize']=2"
   ]
  },
  {
   "cell_type": "markdown",
   "metadata": {},
   "source": [
    "### Teil 1: Messung des Nulleffekts"
   ]
  },
  {
   "cell_type": "code",
   "execution_count": 2,
   "metadata": {
    "collapsed": true
   },
   "outputs": [],
   "source": [
    "#Betriebsspannung\n",
    "U1=525 #V\n",
    "U1_err=5 #V\n",
    "\n",
    "#Zerfälle in 5 Minuten = 300s\n",
    "n0=118\n",
    "n0_err=np.sqrt(118)\n",
    "\n",
    "#Normierung auf Zerfälle/Sekunde\n",
    "n0_s=140/300\n",
    "n0_s_err=n0_err/300"
   ]
  },
  {
   "cell_type": "markdown",
   "metadata": {},
   "source": [
    "### Teil 2: Absorption von $\\beta$-Strahlung in Aluminium"
   ]
  },
  {
   "cell_type": "code",
   "execution_count": 3,
   "metadata": {
    "collapsed": true
   },
   "outputs": [],
   "source": [
    "#Anzahl Zerfälle\n",
    "n_beta=np.array([1248, 708, 498, 398, 252, 136, 89, 54, 167, 120, 76, 65, 50])\n",
    "n_beta_err=np.sqrt(n_beta)\n",
    "\n",
    "#Torzeit\n",
    "T=np.array([30, 30, 30, 30, 30, 30, 30, 30, 120, 120, 120, 120, 120])\n",
    "\n",
    "#Absorberdicke in mm\n",
    "x1=np.arange(13)*0.3\n",
    "\n",
    "#aus letztem Messwert wird n0_beta bestimmt, n0_beta in Zerfälle/s\n",
    "n0_beta=114/300\n",
    "n0_beta_err=np.sqrt(114)/300\n",
    "\n",
    "#Abzug der Nullmessung unter Berücksichtigung der jeweiligen Torzeit, angegeben in Zerfälle/s\n",
    "n_beta_korr=n_beta/T-n0_beta\n",
    "n_beta_korr_err=np.sqrt((n_beta_err/T)**2+n0_beta_err**2)"
   ]
  },
  {
   "cell_type": "code",
   "execution_count": 4,
   "metadata": {},
   "outputs": [
    {
     "data": {
      "image/png": "[encoded data removed]",
      "text/plain": [
       "<matplotlib.figure.Figure at 0x215b1f98710>"
      ]
     },
     "metadata": {},
     "output_type": "display_data"
    }
   ],
   "source": [
    "#Plot der Messdaten\n",
    "plt.errorbar(x1,n_beta_korr, yerr=n_beta_korr_err,linewidth=1,linestyle='',marker='.',color='darkblue',label='Messwerte mit Fehler')\n",
    "plt.xlabel(r'Absorberdicke $ x$  [mm]')\n",
    "plt.ylabel(r'Anzahl der Zerfälle [$\\frac{1}{s}$]')\n",
    "plt.yscale('log')\n",
    "plt.legend(frameon=True,fontsize='medium',loc='best', borderpad=1.2, borderaxespad=0.8)\n",
    "plt.title(r'Diagramm 1: Absorption von $\\beta$-Strahlung in Aluminium')\n",
    "plt.savefig('Diagramme/V253Diagramm1.pdf', format='PDF')"
   ]
  },
  {
   "cell_type": "code",
   "execution_count": 5,
   "metadata": {},
   "outputs": [
    {
     "name": "stdout",
     "output_type": "stream",
     "text": [
      "Die Flächendichte R_beta berechnet sich zu:\n",
      "R_beta = ( 1.074615  +/-  0.013494500000000001 ) g/cm^2\n",
      "Dies entspricht einer Maximalenergie von E_max = ( 2.3 +/- 0.2 ) MeV\n",
      "\n",
      "Der Vergleich mit dem Literaturwert (2.274 MeV) liefert:\n",
      "∆E_max =(0.026 +/- 0.2) MeV\n",
      "Damit folgt Sigma = 0.13\n"
     ]
    }
   ],
   "source": [
    "#Maximalreichweite x_max aus Plots\n",
    "x_max=3.5e-1 #cm\n",
    "x_max_err=0.05e-1\n",
    "\n",
    "rho_alu=2.6989 #g/cm^3\n",
    "R_beta_ES=0.130 #g/cm^2\n",
    "\n",
    "#Flächendichte R_beta ergibt sich aus R_beta=rho_alu*x_max+R_beta_ES\n",
    "R_beta=rho_alu*x_max+R_beta_ES\n",
    "R_beta_err=rho_alu*x_max_err\n",
    "\n",
    "print('Die Flächendichte R_beta berechnet sich zu:')\n",
    "print('R_beta = (',R_beta,' +/- ',R_beta_err,') g/cm^2')\n",
    "\n",
    "#Mit Diagramm 8 entspricht dies einer Energie von (1.8+/-0.2)MeV (Fehler aus Diagramm abgeschätzt)\n",
    "E_max=2.3 #MeV\n",
    "E_max_err=0.2\n",
    "print('Dies entspricht einer Maximalenergie von E_max = (',E_max,'+/-',E_max_err,') MeV')\n",
    "print()\n",
    "\n",
    "#Vergleich mit Literaturwert (aus Skript) liefert:\n",
    "E_max_lit=2.274 #MeV\n",
    "\n",
    "diff=np.abs(E_max-E_max_lit)\n",
    "diff_err=E_max_err\n",
    "\n",
    "print('Der Vergleich mit dem Literaturwert ('+str(E_max_lit)+' MeV) liefert:')\n",
    "print('∆E_max =(' + str(diff) + ' +/- ' + str(diff_err)+ ') MeV')\n",
    "print('Damit folgt Sigma =',round(diff/diff_err,2))"
   ]
  },
  {
   "cell_type": "markdown",
   "metadata": {},
   "source": [
    "### Teil 3: Absorption von $\\gamma$-Strahlung in Blei"
   ]
  },
  {
   "cell_type": "code",
   "execution_count": 6,
   "metadata": {
    "collapsed": true
   },
   "outputs": [],
   "source": [
    "#Anzahl Zerfälle\n",
    "n_gamma=np.array([2968, 2016, 1533, 1126, 843, 686, 487, 398, 298, 226, 168])\n",
    "n_gamma_err=np.sqrt(n_gamma)\n",
    "\n",
    "#Torzeit immer 60s\n",
    "\n",
    "#Absorberdicke in mm\n",
    "x2=np.arange(11)*5\n",
    "\n",
    "#Abzug der Nullmessung unter Berücksichtigung der jeweiligen Torzeit\n",
    "n_gamma_korr=1/60*(n_gamma-(n0_s*60)*np.ones(11))  #in Zerfälle/s\n",
    "n_gamma_korr_err=1/60*np.sqrt(n_gamma_err**2+(60*n0_s_err*np.ones(11))**2)"
   ]
  },
  {
   "cell_type": "code",
   "execution_count": 7,
   "metadata": {
    "collapsed": true
   },
   "outputs": [],
   "source": [
    "#linearer Fit\n",
    "def exp_fit(x,a,b):\n",
    "    return a*np.exp(-b*x)\n",
    "popt,pcov=curve_fit(exp_fit,x2,n_gamma_korr,sigma=n_gamma_korr_err,p0=[62,0.05])\n",
    "perr = np.sqrt(np.diag(pcov))"
   ]
  },
  {
   "cell_type": "code",
   "execution_count": 8,
   "metadata": {},
   "outputs": [
    {
     "data": {
      "image/png": "[encoded data removed]",
      "text/plain": [
       "<matplotlib.figure.Figure at 0x215b4146e48>"
      ]
     },
     "metadata": {},
     "output_type": "display_data"
    }
   ],
   "source": [
    "#Plot der Messdaten\n",
    "plt.errorbar(x2,n_gamma_korr, yerr=n_gamma_korr_err,linewidth=1,linestyle='',marker='.',color='darkblue',label='Messwerte mit Fehler')\n",
    "plt.plot(np.linspace(-3,53,2),exp_fit(np.linspace(-3,53,2),*popt),color='darkred',label='Linearer Fit', linewidth=0.8)\n",
    "plt.xlabel(r'Absorberdicke $ x$  [mm]')\n",
    "plt.ylabel(r'Anzahl der Zerfälle [$\\frac{1}{s}$]')\n",
    "plt.yscale('log')\n",
    "plt.legend(frameon=True,fontsize='large',loc='best', borderpad=1.5, borderaxespad=1.5)\n",
    "plt.title(r'Diagramm 2: Absorption von $\\gamma$-Strahlung in Blei')\n",
    "\n",
    "#Abspeichern des Bildes im Format \"PDF\"\n",
    "plt.tight_layout()\n",
    "plt.savefig('Diagramme/V253Diagramm2.pdf', format='PDF')"
   ]
  },
  {
   "cell_type": "code",
   "execution_count": 9,
   "metadata": {},
   "outputs": [
    {
     "name": "stdout",
     "output_type": "stream",
     "text": [
      "Wir erhalten die nachfolgenden Werte für die Güte des Fits:\n",
      "chi_squared= 17.9691199921\n",
      "chi_squared_red= 1.99656888802\n",
      "\n",
      "Die Fitwahrscheinlichkeit beträgt: 4.0 %\n"
     ]
    }
   ],
   "source": [
    "#Güte des Fits\n",
    "chi_squared2=np.sum((exp_fit(x2,*popt)-n_gamma_korr)**2/n_gamma_korr_err**2)\n",
    "\n",
    "#Freiheitsgrade\n",
    "dof2=len(n_gamma_korr)-2\n",
    "\n",
    "chi_squared2_red=chi_squared2/dof2\n",
    "\n",
    "print('Wir erhalten die nachfolgenden Werte für die Güte des Fits:')\n",
    "print('chi_squared= ' + str(chi_squared2))\n",
    "print('chi_squared_red= ' + str(chi_squared2_red))\n",
    "print()\n",
    "\n",
    "#Fitwahrscheinlichkeit\n",
    "prob2=round(1-chi2.cdf(chi_squared2,dof2),2)*100\n",
    "\n",
    "print('Die Fitwahrscheinlichkeit beträgt: ' + str(prob2) + ' %')"
   ]
  },
  {
   "cell_type": "code",
   "execution_count": 10,
   "metadata": {},
   "outputs": [
    {
     "name": "stdout",
     "output_type": "stream",
     "text": [
      "Aus dem linearen Fit folgt für den Schwächungskoeffizienten:\n",
      "mu = (0.59806185882 +/- 0.0117207387884) 1/cm\n",
      "\n",
      "Für den materialunabhängigen Massenschwächungskoeffizienten mu/rho folgt:\n",
      "mu/rho = (0.0527298411938 +/- 0.00103339259287) cm^2/g\n"
     ]
    }
   ],
   "source": [
    "#Schwächungskoeffizient aus Geradensteigung\n",
    "mu=10*popt[1]  #1/cm\n",
    "mu_err=10*(perr[1])\n",
    "print('Aus dem linearen Fit folgt für den Schwächungskoeffizienten:')\n",
    "print('mu = (' + str(mu) + ' +/- ' + str(mu_err) + ') 1/cm' )\n",
    "\n",
    "#Massenschwächungskoeffizient\n",
    "rho_pb=11.342 #g/cm^3\n",
    "\n",
    "mu_rho=mu/rho_pb  #cm^2/g\n",
    "mu_rho_err=mu_rho*(mu_err/mu)\n",
    "\n",
    "print()\n",
    "print('Für den materialunabhängigen Massenschwächungskoeffizienten mu/rho folgt:')\n",
    "print('mu/rho = (' + str(mu_rho) + ' +/- ' + str(mu_rho_err) + ') cm^2/g')"
   ]
  },
  {
   "cell_type": "markdown",
   "metadata": {
    "collapsed": true
   },
   "source": [
    "Ablesen der zugehörigen Energie aus Diagramm 9 in der Anleitung liefert:\n",
    "$E_\\gamma= 1.4 \\pm 0.1 \\ MeV$ \n",
    "\n",
    "Die beiden möglichen Übergänge haben nach Skript die beiden Energien $E_1= 1.173\\ MeV$ und $E_2= 1.333\\ MeV$.\n",
    "\n",
    "Der gemessene Wert ist im 3$\\sigma$- bzw. 1$\\sigma$-Intervall mit den Literaturwerten vereinbar."
   ]
  },
  {
   "cell_type": "markdown",
   "metadata": {},
   "source": [
    "### Teil 4: Aktivität des vorliegenden $\\gamma$-Strahlers"
   ]
  },
  {
   "cell_type": "code",
   "execution_count": 11,
   "metadata": {},
   "outputs": [
    {
     "name": "stdout",
     "output_type": "stream",
     "text": [
      "Für die Aktivität A des Gamma-Strahlers folgt:\n",
      "A = [ 2084.18367347  2178.91156463  2366.66666667] kBq\n",
      "+/- [ 217.79868807  128.50133172  100.75550491] kBq\n"
     ]
    }
   ],
   "source": [
    "#Abstand Präparat und Zählrohr\n",
    "d=np.array([0.05,0.10,0.20]) \n",
    "d_err=5e-3*np.ones(3)\n",
    "\n",
    "#registrierte Zerfälle, direkt in Zerfälle/s\n",
    "N=1/60*np.array([49020, 12812, 3479])\n",
    "N_err=1/60*np.sqrt(60*N)\n",
    "\n",
    "#Radius des Zählrohrs\n",
    "r=7e-3 #m\n",
    "\n",
    "#Raumwinkel\n",
    "Omega=np.pi*r**2/d**2\n",
    "Omega_err=Omega*2*d_err/d\n",
    "\n",
    "#Ansprechwahrscheinlichkeit Zählrohr für gamma-Strahlung\n",
    "epsilon= 0.04 \n",
    "epsilon_err=epsilon*0.03\n",
    "\n",
    "#Aktivität für gesamte Kugelfläche\n",
    "A=0.5*4*N/epsilon*d**2/r**2 #Faktor 0.5, da 2 gamma-Quanten pro Zerfall\n",
    "A_err=A*np.sqrt((N_err/N)**2+(d_err/d)**2+(epsilon_err/epsilon)**2)\n",
    "\n",
    "print('Für die Aktivität A des Gamma-Strahlers folgt:')\n",
    "print('A = ' + str(A*1e-3)+' kBq') \n",
    "print('+/- '  + str(A_err*1e-3)+' kBq') "
   ]
  },
  {
   "cell_type": "code",
   "execution_count": 18,
   "metadata": {},
   "outputs": [
    {
     "name": "stdout",
     "output_type": "stream",
     "text": [
      "Für die Aktivität A_lit des Gamma-Strahlers am Versuchstag folgt:\n",
      "A_lit = 2472.74352484 kBq\n"
     ]
    }
   ],
   "source": [
    "#Herstellerangabe: 2525kBq am 1.01.2018\n",
    "A0=2525e3 #Bq\n",
    "#Versuchsdatum: 27.02.2018; Differenz:31+27=58 Tage = 0.159 Jahre\n",
    "del_t=0.159 #Jahre\n",
    "#Halbwertszeit nach Skript T12=5.27 Jahre\n",
    "T12=5.27 #Jahre\n",
    "\n",
    "#Aktivität am Versuchstag\n",
    "A_lit=A0*np.exp(-np.log(2)*del_t/T12)\n",
    "\n",
    "print('Für die Aktivität A_lit des Gamma-Strahlers am Versuchstag folgt:')\n",
    "print('A_lit = ' + str(A_lit*1e-3)+' kBq')"
   ]
  },
  {
   "cell_type": "code",
   "execution_count": 19,
   "metadata": {},
   "outputs": [
    {
     "name": "stdout",
     "output_type": "stream",
     "text": [
      "Der Vergleich mit dem Literaturwert liefert:\n",
      "diff = [ 388.55985137  293.83196022  106.07685818] kBq\n",
      "   +/- [ 217.79868807  128.50133172  100.75550491] kBq\n",
      "Damit folgt Sigma = [ 1.78  2.29  1.05]\n"
     ]
    }
   ],
   "source": [
    "#Vergleich der Messwerte mit Literaturwert\n",
    "diff_A=np.abs(A-A_lit)\n",
    "diff_A_err=A_err\n",
    "\n",
    "print('Der Vergleich mit dem Literaturwert liefert:')\n",
    "print('diff = ' + str(diff_A*1e-3)+' kBq') \n",
    "print('   +/- '  + str(diff_A_err*1e-3)+' kBq') \n",
    "print('Damit folgt Sigma =',(diff_A/diff_A_err).round(2))"
   ]
  },
  {
   "cell_type": "markdown",
   "metadata": {},
   "source": [
    "#### 4.1: Raumwinkel-Korrektur"
   ]
  },
  {
   "cell_type": "code",
   "execution_count": 20,
   "metadata": {},
   "outputs": [
    {
     "name": "stdout",
     "output_type": "stream",
     "text": [
      "Der Korrekturfaktor k1 ergibt sich zu:\n",
      "k1 = 1.3061224489795917\n",
      " +/- [ 0.01166181  0.01166181  0.01166181]\n",
      "\n",
      "Die korrigierte Aktivität A_korr ergibt sich zu:\n",
      "A_korr = [ 2722.19908372  2845.9253089   3091.15646259] kBq\n",
      "     +/- [ 285.50819579  169.75106448  134.46204818] kBq\n"
     ]
    }
   ],
   "source": [
    "#Länge l des Zählrohrs: l=4cm\n",
    "l=4e-2 #m\n",
    "\n",
    "#Korrekturfaktor k1=(1+0.5*l/d)**2\n",
    "k1=(1+0.5*l/d)**2\n",
    "k1_err=2*(1+0.5*l/d)*0.5*l/d**2*d_err\n",
    "\n",
    "print('Der Korrekturfaktor k1 ergibt sich zu:')\n",
    "print('k1 = ' + str(k1))\n",
    "print(' +/- '  + str(k1_err)) \n",
    "print()\n",
    "\n",
    "#korrigierte Aktivität A_korr=A*k1\n",
    "A_korr=A*k1\n",
    "A_korr_err=A_korr*np.sqrt((A_err/A)**2+(k1_err/k1)**2)\n",
    "\n",
    "print('Die korrigierte Aktivität A_korr ergibt sich zu:')\n",
    "print('A_korr = ' + str(A_korr*1e-3)+' kBq')\n",
    "print('     +/- '  + str(A_korr_err*1e-3)+' kBq')"
   ]
  },
  {
   "cell_type": "code",
   "execution_count": 21,
   "metadata": {},
   "outputs": [
    {
     "name": "stdout",
     "output_type": "stream",
     "text": [
      "Der Vergleich mit dem Literaturwert liefert:\n",
      "diff = [ 249.45555887  373.18178406  618.41293774] kBq\n",
      "   +/- [ 285.50819579  169.75106448  134.46204818] kBq\n",
      "Damit folgt Sigma = [ 0.87  2.2   4.6 ]\n"
     ]
    }
   ],
   "source": [
    "#Vergleich der Messwerte mit Literaturwert\n",
    "diff_A_korr=np.abs(A_korr-A_lit)\n",
    "diff_A_korr_err=A_korr_err\n",
    "\n",
    "print('Der Vergleich mit dem Literaturwert liefert:')\n",
    "print('diff = ' + str(diff_A_korr*1e-3)+' kBq') \n",
    "print('   +/- '  + str(diff_A_korr_err*1e-3)+' kBq') \n",
    "print('Damit folgt Sigma =',(diff_A_korr/diff_A_korr_err).round(2))"
   ]
  },
  {
   "cell_type": "markdown",
   "metadata": {},
   "source": [
    "#### 4.2: Absorptions-Korrektur"
   ]
  },
  {
   "cell_type": "code",
   "execution_count": 22,
   "metadata": {},
   "outputs": [
    {
     "name": "stdout",
     "output_type": "stream",
     "text": [
      "Der Korrekturfaktor k2 ergibt sich zu:\n",
      "k2 = 0.943348778329 +/- 0.00107818370186\n",
      "\n",
      "Die korrigierte Aktivität A_korr2 ergibt sich zu:\n",
      "A_korr2 = [ 2567.98317999  2684.70016336  2916.0386726 ] kBq\n",
      "      +/- [ 269.34979929  160.16385459  126.88838634] kBq\n"
     ]
    }
   ],
   "source": [
    "#Präparatkapseldaten\n",
    "d=0.14 #cm\n",
    "rho_kapsel=7.9 #g/cm^3\n",
    "#mu_rho aus vorherigem Aufgabenteil\n",
    "mu_kapsel=mu_rho*rho_kapsel #1/cm\n",
    "mu_kapsel_err=mu_kapsel*mu_rho_err/mu_rho\n",
    "\n",
    "#Korrekturfaktor k2=exp(-mu*x)\n",
    "k2=np.exp(-mu_kapsel*d)\n",
    "k2_err=k2*d*mu_kapsel_err\n",
    "\n",
    "print('Der Korrekturfaktor k2 ergibt sich zu:')\n",
    "print('k2 = ' + str(k2)+' +/- '  + str(k2_err))\n",
    "print()\n",
    "\n",
    "#korrigierte Aktivität A_korr2=A_korr*k2\n",
    "A_korr2=A_korr*k2\n",
    "A_korr2_err=A_korr2*np.sqrt((A_korr_err/A_korr)**2+(k2_err/k2)**2)\n",
    "\n",
    "print('Die korrigierte Aktivität A_korr2 ergibt sich zu:')\n",
    "print('A_korr2 = ' + str(A_korr2*1e-3)+' kBq')\n",
    "print('      +/- ' + str(A_korr2_err*1e-3)+' kBq') "
   ]
  },
  {
   "cell_type": "code",
   "execution_count": 23,
   "metadata": {},
   "outputs": [
    {
     "name": "stdout",
     "output_type": "stream",
     "text": [
      "Der Vergleich mit dem Literaturwert liefert:\n",
      "diff = [  95.23965515  211.95663852  443.29514776] kBq\n",
      "   +/- [ 269.34979929  160.16385459  126.88838634] kBq\n",
      "Damit folgt Sigma = [ 0.35  1.32  3.49]\n"
     ]
    }
   ],
   "source": [
    "#Vergleich der Messwerte mit Literaturwert\n",
    "diff_A_korr2=np.abs(A_korr2-A_lit)\n",
    "diff_A_korr2_err=A_korr2_err\n",
    "\n",
    "print('Der Vergleich mit dem Literaturwert liefert:')\n",
    "print('diff = ' + str(diff_A_korr2*1e-3)+' kBq') \n",
    "print('   +/- '  + str(diff_A_korr2_err*1e-3)+' kBq') \n",
    "print('Damit folgt Sigma =',(diff_A_korr2/diff_A_korr2_err).round(2))"
   ]
  },
  {
   "cell_type": "markdown",
   "metadata": {},
   "source": [
    "### Teil 5: Absorptionsmessung und Energiebestimmung von $\\alpha$-Strahlung"
   ]
  },
  {
   "cell_type": "code",
   "execution_count": 50,
   "metadata": {
    "collapsed": true
   },
   "outputs": [],
   "source": [
    "#Anzahl Zerfälle\n",
    "n_alpha=np.array([4908, 4829, 4820, 4612, 346, 73, 82, 62, 76, 59, 79, 93, 78, 3783, 1005])\n",
    "n_alpha_err=np.sqrt(n_alpha)\n",
    "\n",
    "#Torzeit immer 60s\n",
    "\n",
    "#Druck in mbar\n",
    "p=np.array([27, 111, 204, 297, 403, 512, 602, 702, 820, 898, 983, 434, 462, 331, 381])\n",
    "p_err = np.ones(15)"
   ]
  },
  {
   "cell_type": "code",
   "execution_count": 54,
   "metadata": {},
   "outputs": [
    {
     "data": {
      "image/png": "[encoded data removed]",
      "text/plain": [
       "<matplotlib.figure.Figure at 0x177a6414240>"
      ]
     },
     "metadata": {},
     "output_type": "display_data"
    }
   ],
   "source": [
    "#Plot der Messdaten\n",
    "plt.errorbar(p,n_alpha, yerr=n_alpha_err,linewidth=1,linestyle='',marker='.',color='darkblue',label='Messwerte mit Fehler')\n",
    "plt.xlabel(r'Druck $ p$  [mbar]')\n",
    "plt.ylabel(r'Anzahl der Zerfälle [$\\frac{1}{60s}$]')\n",
    "plt.plot([0,1e3],2400*np.ones(2),color='darkred',label='halbe Maximalzählrate')\n",
    "#plt.yscale('log')\n",
    "plt.legend(frameon=True,fontsize='large',loc='best', borderpad=1.2, borderaxespad=0.8)\n",
    "plt.title(r'Diagramm 3: Absorption von $\\alpha$-Strahlung in Luft')\n",
    "plt.savefig('Diagramme/V253Diagramm3.pdf', format='PDF')"
   ]
  },
  {
   "cell_type": "code",
   "execution_count": 25,
   "metadata": {
    "collapsed": true
   },
   "outputs": [],
   "source": [
    "#Druck p1, bei dem die Zählrate auf die Hälfte abgefallen ist\n",
    "p1=351 #mbar\n",
    "p1_err=20\n",
    "#Normaldruck\n",
    "p0=1013 #mbar\n",
    "#Abstand Präparat - Zählrohr\n",
    "s0=3.95 #cm\n",
    "s0_err=0.05\n",
    "\n",
    "#Reichweite bei p1\n",
    "s1=p1/p0*s0\n",
    "s1_err=s1*np.sqrt((p1_err/p1)**2+(s0_err/s0)**2)"
   ]
  },
  {
   "cell_type": "code",
   "execution_count": 26,
   "metadata": {},
   "outputs": [
    {
     "name": "stdout",
     "output_type": "stream",
     "text": [
      "Die Gesamtreichweite ergibt sich zu:\n",
      "s_ges = (3.622084026536149 +/- 0.0798873716397) cm\n"
     ]
    }
   ],
   "source": [
    "#Korrekturen\n",
    "#Flächendichte Glimmerfenster\n",
    "rho_Gl=2.25 #mg/cm^2\n",
    "s2=rho_Gl/1.43 #cm\n",
    "\n",
    "#Schutzschicht aus Gold\n",
    "s3=0.68 #cm\n",
    "\n",
    "s_ges=s1+s2+s3\n",
    "s_ges_err=s1_err\n",
    "\n",
    "print('Die Gesamtreichweite ergibt sich zu:')\n",
    "print('s_ges = (' + str(s_ges)+' +/- '  + str(s_ges_err)+') cm')"
   ]
  },
  {
   "cell_type": "code",
   "execution_count": 57,
   "metadata": {},
   "outputs": [
    {
     "name": "stdout",
     "output_type": "stream",
     "text": [
      "Der Vergleich mit dem Literaturwert (5.48 MeV) liefert:\n",
      "∆E_alpha =(0.18 +/- 0.2) MeV\n",
      "Damit folgt Sigma = 0.9\n"
     ]
    }
   ],
   "source": [
    "#Aus Diagramm 8 ergibt sich eine Energie von E_alpha= 5.3 +/- 0.2 MeV\n",
    "E_alpha=5.3 #MeV\n",
    "E_alpha_err=0.2\n",
    "\n",
    "#Vergleich mit Literaturwert (aus Skript) liefert:\n",
    "E_alpha_lit=5.48 #MeV\n",
    "\n",
    "diff2=np.abs(E_alpha-E_alpha_lit)\n",
    "diff2_err=E_alpha_err\n",
    "\n",
    "print('Der Vergleich mit dem Literaturwert ('+str(E_alpha_lit)+' MeV) liefert:')\n",
    "print('∆E_alpha =(' + str(diff2) + ' +/- ' + str(diff2_err)+ ') MeV')\n",
    "print('Damit folgt Sigma =',round(diff2/diff2_err,2))"
   ]
  },
  {
   "cell_type": "code",
   "execution_count": null,
   "metadata": {
    "collapsed": true
   },
   "outputs": [],
   "source": []
  }
 ],
 "metadata": {
  "kernelspec": {
   "display_name": "Python 3",
   "language": "python",
   "name": "python3"
  },
  "language_info": {
   "codemirror_mode": {
    "name": "ipython",
    "version": 3
   },
   "file_extension": ".py",
   "mimetype": "text/x-python",
   "name": "python",
   "nbconvert_exporter": "python",
   "pygments_lexer": "ipython3",
   "version": "3.6.2"
  }
 },
 "nbformat": 4,
 "nbformat_minor": 2
}
