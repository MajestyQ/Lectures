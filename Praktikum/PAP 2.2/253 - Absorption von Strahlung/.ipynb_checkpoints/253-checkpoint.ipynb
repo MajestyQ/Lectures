{
 "cells": [
  {
   "cell_type": "code",
   "execution_count": 2,
   "metadata": {
    "collapsed": true
   },
   "outputs": [],
   "source": [
    "#import modules\n",
    "import numpy as np\n",
    "import matplotlib.pyplot as plt\n",
    "%matplotlib inline\n",
    "plt.style.use('seaborn-white')\n",
    "plt.rcParams['errorbar.capsize']=2"
   ]
  },
  {
   "cell_type": "code",
   "execution_count": 3,
   "metadata": {
    "collapsed": true
   },
   "outputs": [],
   "source": [
    "#background\n",
    "bg_time = 300\n",
    "bg_prime = 118\n",
    "bg_prime_err = np.sqrt(bg_prime)\n",
    "bg = bg_prime/bg_time\n",
    "bg_err = bg_prime_err/bg_time"
   ]
  },
  {
   "cell_type": "code",
   "execution_count": 4,
   "metadata": {},
   "outputs": [
    {
     "data": {
      "image/png": "[encoded data removed]",
      "text/plain": [
       "<matplotlib.figure.Figure at 0x2084f786780>"
      ]
     },
     "metadata": {},
     "output_type": "display_data"
    }
   ],
   "source": [
    "#load data\n",
    "layers_sr_prime = np.arange(13)\n",
    "layers_sr = np.append(layers_sr_prime*0.3, 12*0.3+1)\n",
    "layers_sr_err = 0.03*layers_sr\n",
    "\n",
    "sr_prime = np.array([1248, 708, 498, 398, 252, 136, 89, 54, 167, 120, 76, 65, 50, 114])\n",
    "sr_prime_err = np.sqrt(sr_prime)\n",
    "sr_time = np.array([30, 30, 30, 30, 30, 30, 30, 30, 120, 120, 120, 120, 120, 300])\n",
    "sr = sr_prime/sr_time - bg\n",
    "sr_err = np.sqrt((sr_prime_err/sr_time)**2+bg_err**2)\n",
    "\n",
    "#plot data\n",
    "plt.figure(1)\n",
    "plt.yscale('log')\n",
    "plt.errorbar(layers_sr, sr, sr_err, layers_sr_err, linestyle = 'None')\n",
    "plt.savefig('Diagramme/Sr.pdf')\n",
    "print(sr)\n",
    "print(s)"
   ]
  },
  {
   "cell_type": "code",
   "execution_count": null,
   "metadata": {
    "collapsed": true
   },
   "outputs": [],
   "source": []
  }
 ],
 "metadata": {
  "kernelspec": {
   "display_name": "Python 3",
   "language": "python",
   "name": "python3"
  },
  "language_info": {
   "codemirror_mode": {
    "name": "ipython",
    "version": 3
   },
   "file_extension": ".py",
   "mimetype": "text/x-python",
   "name": "python",
   "nbconvert_exporter": "python",
   "pygments_lexer": "ipython3",
   "version": "3.6.2"
  }
 },
 "nbformat": 4,
 "nbformat_minor": 2
}
